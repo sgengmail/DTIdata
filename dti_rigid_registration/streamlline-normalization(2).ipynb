{
 "cells": [
  {
   "cell_type": "markdown",
   "id": "ef65180f-7394-416f-b7b2-c2617ba6f3bd",
   "metadata": {},
   "source": [
    "Adjust from https://community.mrtrix.org/t/registration-using-transformations-generated-from-other-packages/2259"
   ]
  },
  {
   "cell_type": "code",
   "execution_count": null,
   "id": "c4837804-f2b0-4984-b8f0-4f38e9917483",
   "metadata": {},
   "outputs": [
    {
     "name": "stdout",
     "output_type": "stream",
     "text": [
      "Processing sub-004\n"
     ]
    },
    {
     "name": "stderr",
     "output_type": "stream",
     "text": [
      "warpinit: [100%] generating identity warp\u001b[0K[0K\u001b[?7h\u001b[?7l\n",
      "warpinit: [100%] compressing image \"/home/a1/Desktop/Projects/forkx/HC_nii/sub-004/streamline/sub-004_inv_identity_warp_no.nii.gz\"\u001b[0K[0K\u001b[?7h\u001b[?7l\n",
      "mrtransform: [100%] uncompressing image \"/home/a1/Desktop/Projects/forkx/HC_nii/sub-004/streamline/sub-004_matrix_warp_MNI2dwi.nii.gz\"\u001b[0K[0K\u001b[?7h\u001b[?7l\n",
      "mrtransform: [100%] preloading data for \"/home/a1/Desktop/Projects/forkx/HC_nii/sub-004/streamline/sub-004_matrix_warp_MNI2dwi.nii.gz\"\u001b[0K[0K\u001b[?7h\u001b[?7l\n",
      "mrtransform: [100%] uncompressing image \"/home/a1/Desktop/Projects/template/MNI152_T1_2mm_brain.nii.gz\"\u001b[0K[0K\u001b[?7h\u001b[?7l\n",
      "mrtransform: [100%] preloading data for \"/home/a1/Desktop/Projects/template/MNI152_T1_2mm_brain.nii.gz\"\u001b[0K[0K\u001b[?7h\u001b[?7l\n",
      "mrtransform: [100%] warping \"/home/a1/Desktop/Projects/template/MNI152_T1_2mm_brain.nii.gz\"\u001b[0K[0K\u001b[?7h\u001b[?7l\n",
      "mrtransform: [100%] compressing image \"/home/a1/Desktop/Projects/forkx/HC_nii/sub-004/streamline/sub-004_MNI2dwi.nii.gz\"\u001b[0K[0K\u001b[?7h\u001b[?7l\u001b[?7l\n",
      "tcktransform: \u001b[01;31m[ERROR] output track file \"/home/a1/Desktop/Projects/forkx/HC_nii/sub-004/streamline/sub-004_tck2MNI.tck -force\" must use the .tck suffix\u001b[0m\n"
     ]
    },
    {
     "name": "stdout",
     "output_type": "stream",
     "text": [
      "Error running BET: Command '['tcktransform', '/home/a1/Desktop/Projects/forkx/HC_nii/sub-004/streamline/sub-004_streamline.tck', '/home/a1/Desktop/Projects/forkx/HC_nii/sub-004/streamline/sub-004_matrix_warp_MNI2dwi.nii.gz', '/home/a1/Desktop/Projects/forkx/HC_nii/sub-004/streamline/sub-004_tck2MNI.tck -force']' returned non-zero exit status 1.\n",
      "Processing sub-005\n"
     ]
    },
    {
     "name": "stderr",
     "output_type": "stream",
     "text": [
      "warpinit: [100%] generating identity warp\u001b[0K[0K\u001b[?7h\u001b[?7l\n",
      "warpinit: [100%] compressing image \"/home/a1/Desktop/Projects/forkx/HC_nii/sub-005/streamline/sub-005_inv_identity_warp_no.nii.gz\"\u001b[0K[0K\u001b[?7h\u001b[?7l\n",
      "mrtransform: [100%] uncompressing image \"/home/a1/Desktop/Projects/forkx/HC_nii/sub-005/streamline/sub-005_matrix_warp_MNI2dwi.nii.gz\"\u001b[0K[0K\u001b[?7h\u001b[?7l\n",
      "mrtransform: [100%] preloading data for \"/home/a1/Desktop/Projects/forkx/HC_nii/sub-005/streamline/sub-005_matrix_warp_MNI2dwi.nii.gz\"\u001b[0K[0K\u001b[?7h\u001b[?7l\n",
      "mrtransform: [100%] uncompressing image \"/home/a1/Desktop/Projects/template/MNI152_T1_2mm_brain.nii.gz\"\u001b[0K[0K\u001b[?7h\u001b[?7l\n",
      "mrtransform: [100%] preloading data for \"/home/a1/Desktop/Projects/template/MNI152_T1_2mm_brain.nii.gz\"\u001b[0K[0K\u001b[?7h\u001b[?7l\n",
      "mrtransform: [100%] warping \"/home/a1/Desktop/Projects/template/MNI152_T1_2mm_brain.nii.gz\"\u001b[0K[0K\u001b[?7h\u001b[?7l\n",
      "mrtransform: [100%] compressing image \"/home/a1/Desktop/Projects/forkx/HC_nii/sub-005/streamline/sub-005_MNI2dwi.nii.gz\"\u001b[0K[0K\u001b[?7h\u001b[?7l\n",
      "tcktransform: \u001b[01;31m[ERROR] output track file \"/home/a1/Desktop/Projects/forkx/HC_nii/sub-005/streamline/sub-005_tck2MNI.tck -force\" must use the .tck suffix\u001b[0m\n"
     ]
    },
    {
     "name": "stdout",
     "output_type": "stream",
     "text": [
      "Error running BET: Command '['tcktransform', '/home/a1/Desktop/Projects/forkx/HC_nii/sub-005/streamline/sub-005_streamline.tck', '/home/a1/Desktop/Projects/forkx/HC_nii/sub-005/streamline/sub-005_matrix_warp_MNI2dwi.nii.gz', '/home/a1/Desktop/Projects/forkx/HC_nii/sub-005/streamline/sub-005_tck2MNI.tck -force']' returned non-zero exit status 1.\n",
      "Processing sub-006\n"
     ]
    },
    {
     "name": "stderr",
     "output_type": "stream",
     "text": [
      "warpinit: [100%] generating identity warp\u001b[0K[0K\u001b[?7h\u001b[?7l\n",
      "warpinit: [100%] compressing image \"/home/a1/Desktop/Projects/forkx/HC_nii/sub-006/streamline/sub-006_inv_identity_warp_no.nii.gz\"\u001b[0K[0K\u001b[?7h\u001b[?7l\n",
      "mrtransform: [100%] uncompressing image \"/home/a1/Desktop/Projects/forkx/HC_nii/sub-006/streamline/sub-006_matrix_warp_MNI2dwi.nii.gz\"\u001b[0K[0K\u001b[?7h\u001b[?7l\n",
      "mrtransform: [100%] preloading data for \"/home/a1/Desktop/Projects/forkx/HC_nii/sub-006/streamline/sub-006_matrix_warp_MNI2dwi.nii.gz\"\u001b[0K[0K\u001b[?7h\u001b[?7l\n",
      "mrtransform: [100%] uncompressing image \"/home/a1/Desktop/Projects/template/MNI152_T1_2mm_brain.nii.gz\"\u001b[0K[0K\u001b[?7h\u001b[?7l\n",
      "mrtransform: [100%] preloading data for \"/home/a1/Desktop/Projects/template/MNI152_T1_2mm_brain.nii.gz\"\u001b[0K[0K\u001b[?7h\u001b[?7l\n",
      "mrtransform: [100%] warping \"/home/a1/Desktop/Projects/template/MNI152_T1_2mm_brain.nii.gz\"\u001b[0K[0K\u001b[?7h\u001b[?7l\n",
      "mrtransform: [100%] compressing image \"/home/a1/Desktop/Projects/forkx/HC_nii/sub-006/streamline/sub-006_MNI2dwi.nii.gz\"\u001b[0K[0K\u001b[?7h\u001b[?7l\n",
      "tcktransform: \u001b[01;31m[ERROR] output track file \"/home/a1/Desktop/Projects/forkx/HC_nii/sub-006/streamline/sub-006_tck2MNI.tck -force\" must use the .tck suffix\u001b[0m\n"
     ]
    },
    {
     "name": "stdout",
     "output_type": "stream",
     "text": [
      "Error running BET: Command '['tcktransform', '/home/a1/Desktop/Projects/forkx/HC_nii/sub-006/streamline/sub-006_streamline.tck', '/home/a1/Desktop/Projects/forkx/HC_nii/sub-006/streamline/sub-006_matrix_warp_MNI2dwi.nii.gz', '/home/a1/Desktop/Projects/forkx/HC_nii/sub-006/streamline/sub-006_tck2MNI.tck -force']' returned non-zero exit status 1.\n",
      "Processing sub-007\n"
     ]
    },
    {
     "name": "stderr",
     "output_type": "stream",
     "text": [
      "warpinit: [100%] generating identity warp\u001b[0K[0K\u001b[?7h\u001b[?7l\n",
      "warpinit: [100%] compressing image \"/home/a1/Desktop/Projects/forkx/HC_nii/sub-007/streamline/sub-007_inv_identity_warp_no.nii.gz\"\u001b[0K[0K\u001b[?7h\u001b[?7l\n",
      "mrtransform: [100%] uncompressing image \"/home/a1/Desktop/Projects/forkx/HC_nii/sub-007/streamline/sub-007_matrix_warp_MNI2dwi.nii.gz\"\u001b[0K[0K\u001b[?7h\u001b[?7l\n",
      "mrtransform: [100%] preloading data for \"/home/a1/Desktop/Projects/forkx/HC_nii/sub-007/streamline/sub-007_matrix_warp_MNI2dwi.nii.gz\"\u001b[0K[0K\u001b[?7h\u001b[?7l\n",
      "mrtransform: [100%] uncompressing image \"/home/a1/Desktop/Projects/template/MNI152_T1_2mm_brain.nii.gz\"\u001b[0K[0K\u001b[?7h\u001b[?7l\n",
      "mrtransform: [100%] preloading data for \"/home/a1/Desktop/Projects/template/MNI152_T1_2mm_brain.nii.gz\"\u001b[0K[0K\u001b[?7h\u001b[?7l\n",
      "mrtransform: [100%] warping \"/home/a1/Desktop/Projects/template/MNI152_T1_2mm_brain.nii.gz\"\u001b[0K[0K\u001b[?7h\u001b[?7l\n",
      "mrtransform: [100%] compressing image \"/home/a1/Desktop/Projects/forkx/HC_nii/sub-007/streamline/sub-007_MNI2dwi.nii.gz\"\u001b[0K[0K\u001b[?7h\u001b[?7l\u001b[?7l\n",
      "tcktransform: \u001b[01;31m[ERROR] output track file \"/home/a1/Desktop/Projects/forkx/HC_nii/sub-007/streamline/sub-007_tck2MNI.tck -force\" must use the .tck suffix\u001b[0m\n"
     ]
    },
    {
     "name": "stdout",
     "output_type": "stream",
     "text": [
      "Error running BET: Command '['tcktransform', '/home/a1/Desktop/Projects/forkx/HC_nii/sub-007/streamline/sub-007_streamline.tck', '/home/a1/Desktop/Projects/forkx/HC_nii/sub-007/streamline/sub-007_matrix_warp_MNI2dwi.nii.gz', '/home/a1/Desktop/Projects/forkx/HC_nii/sub-007/streamline/sub-007_tck2MNI.tck -force']' returned non-zero exit status 1.\n",
      "Processing sub-009\n"
     ]
    },
    {
     "name": "stderr",
     "output_type": "stream",
     "text": [
      "warpinit: [100%] generating identity warp\u001b[0K[0K\u001b[?7h\u001b[?7l\n",
      "warpinit: [100%] compressing image \"/home/a1/Desktop/Projects/forkx/HC_nii/sub-009/streamline/sub-009_inv_identity_warp_no.nii.gz\"\u001b[0K[0K\u001b[?7h\u001b[?7l\n",
      "mrtransform: [100%] uncompressing image \"/home/a1/Desktop/Projects/forkx/HC_nii/sub-009/streamline/sub-009_matrix_warp_MNI2dwi.nii.gz\"\u001b[0K[0K\u001b[?7h\u001b[?7l\n",
      "mrtransform: [100%] preloading data for \"/home/a1/Desktop/Projects/forkx/HC_nii/sub-009/streamline/sub-009_matrix_warp_MNI2dwi.nii.gz\"\u001b[0K[0K\u001b[?7h\u001b[?7l\n",
      "mrtransform: [100%] uncompressing image \"/home/a1/Desktop/Projects/template/MNI152_T1_2mm_brain.nii.gz\"\u001b[0K[0K\u001b[?7h\u001b[?7l\n",
      "mrtransform: [100%] preloading data for \"/home/a1/Desktop/Projects/template/MNI152_T1_2mm_brain.nii.gz\"\u001b[0K[0K\u001b[?7h\u001b[?7l\n",
      "mrtransform: [100%] warping \"/home/a1/Desktop/Projects/template/MNI152_T1_2mm_brain.nii.gz\"\u001b[0K[0K\u001b[?7h\u001b[?7l\n",
      "mrtransform: [100%] compressing image \"/home/a1/Desktop/Projects/forkx/HC_nii/sub-009/streamline/sub-009_MNI2dwi.nii.gz\"\u001b[0K[0K\u001b[?7h\u001b[?7l\u001b[?7l\n",
      "tcktransform: \u001b[01;31m[ERROR] output track file \"/home/a1/Desktop/Projects/forkx/HC_nii/sub-009/streamline/sub-009_tck2MNI.tck -force\" must use the .tck suffix\u001b[0m\n"
     ]
    },
    {
     "name": "stdout",
     "output_type": "stream",
     "text": [
      "Error running BET: Command '['tcktransform', '/home/a1/Desktop/Projects/forkx/HC_nii/sub-009/streamline/sub-009_streamline.tck', '/home/a1/Desktop/Projects/forkx/HC_nii/sub-009/streamline/sub-009_matrix_warp_MNI2dwi.nii.gz', '/home/a1/Desktop/Projects/forkx/HC_nii/sub-009/streamline/sub-009_tck2MNI.tck -force']' returned non-zero exit status 1.\n",
      "Processing sub-017\n"
     ]
    },
    {
     "name": "stderr",
     "output_type": "stream",
     "text": [
      "warpinit: [100%] generating identity warp\u001b[0K[0K\u001b[?7h\u001b[?7l\n",
      "warpinit: [100%] compressing image \"/home/a1/Desktop/Projects/forkx/HC_nii/sub-017/streamline/sub-017_inv_identity_warp_no.nii.gz\"\u001b[0K[0K\u001b[?7h\u001b[?7l\n",
      "mrtransform: [100%] uncompressing image \"/home/a1/Desktop/Projects/forkx/HC_nii/sub-017/streamline/sub-017_matrix_warp_MNI2dwi.nii.gz\"\u001b[0K[0K\u001b[?7h\u001b[?7l\n",
      "mrtransform: [100%] preloading data for \"/home/a1/Desktop/Projects/forkx/HC_nii/sub-017/streamline/sub-017_matrix_warp_MNI2dwi.nii.gz\"\u001b[0K[0K\u001b[?7h\u001b[?7l\n",
      "mrtransform: [100%] uncompressing image \"/home/a1/Desktop/Projects/template/MNI152_T1_2mm_brain.nii.gz\"\u001b[0K[0K\u001b[?7h\u001b[?7l\n",
      "mrtransform: [100%] preloading data for \"/home/a1/Desktop/Projects/template/MNI152_T1_2mm_brain.nii.gz\"\u001b[0K[0K\u001b[?7h\u001b[?7l\n",
      "mrtransform: [100%] warping \"/home/a1/Desktop/Projects/template/MNI152_T1_2mm_brain.nii.gz\"\u001b[0K[0K\u001b[?7h\u001b[?7l\n",
      "mrtransform: [100%] compressing image \"/home/a1/Desktop/Projects/forkx/HC_nii/sub-017/streamline/sub-017_MNI2dwi.nii.gz\"\u001b[0K[0K\u001b[?7h\u001b[?7l\u001b[?7l\n",
      "tcktransform: \u001b[01;31m[ERROR] output track file \"/home/a1/Desktop/Projects/forkx/HC_nii/sub-017/streamline/sub-017_tck2MNI.tck -force\" must use the .tck suffix\u001b[0m\n"
     ]
    },
    {
     "name": "stdout",
     "output_type": "stream",
     "text": [
      "Error running BET: Command '['tcktransform', '/home/a1/Desktop/Projects/forkx/HC_nii/sub-017/streamline/sub-017_streamline.tck', '/home/a1/Desktop/Projects/forkx/HC_nii/sub-017/streamline/sub-017_matrix_warp_MNI2dwi.nii.gz', '/home/a1/Desktop/Projects/forkx/HC_nii/sub-017/streamline/sub-017_tck2MNI.tck -force']' returned non-zero exit status 1.\n",
      "Processing sub-019\n"
     ]
    },
    {
     "name": "stderr",
     "output_type": "stream",
     "text": [
      "warpinit: [100%] generating identity warp\u001b[0K[0K\u001b[?7h\u001b[?7l\n",
      "warpinit: [100%] compressing image \"/home/a1/Desktop/Projects/forkx/HC_nii/sub-019/streamline/sub-019_inv_identity_warp_no.nii.gz\"\u001b[0K[0K\u001b[?7h\u001b[?7l\n",
      "mrtransform: [100%] uncompressing image \"/home/a1/Desktop/Projects/forkx/HC_nii/sub-019/streamline/sub-019_matrix_warp_MNI2dwi.nii.gz\"\u001b[0K[0K\u001b[?7h\u001b[?7l\n",
      "mrtransform: [100%] preloading data for \"/home/a1/Desktop/Projects/forkx/HC_nii/sub-019/streamline/sub-019_matrix_warp_MNI2dwi.nii.gz\"\u001b[0K[0K\u001b[?7h\u001b[?7l\n",
      "mrtransform: [100%] uncompressing image \"/home/a1/Desktop/Projects/template/MNI152_T1_2mm_brain.nii.gz\"\u001b[0K[0K\u001b[?7h\u001b[?7l\n",
      "mrtransform: [100%] preloading data for \"/home/a1/Desktop/Projects/template/MNI152_T1_2mm_brain.nii.gz\"\u001b[0K[0K\u001b[?7h\u001b[?7l\n",
      "mrtransform: [100%] warping \"/home/a1/Desktop/Projects/template/MNI152_T1_2mm_brain.nii.gz\"\u001b[0K[0K\u001b[?7h\u001b[?7l\n",
      "mrtransform: [100%] compressing image \"/home/a1/Desktop/Projects/forkx/HC_nii/sub-019/streamline/sub-019_MNI2dwi.nii.gz\"\u001b[0K[0K\u001b[?7h\u001b[?7l\u001b[?7l\n",
      "tcktransform: \u001b[01;31m[ERROR] output track file \"/home/a1/Desktop/Projects/forkx/HC_nii/sub-019/streamline/sub-019_tck2MNI.tck -force\" must use the .tck suffix\u001b[0m\n"
     ]
    },
    {
     "name": "stdout",
     "output_type": "stream",
     "text": [
      "Error running BET: Command '['tcktransform', '/home/a1/Desktop/Projects/forkx/HC_nii/sub-019/streamline/sub-019_streamline.tck', '/home/a1/Desktop/Projects/forkx/HC_nii/sub-019/streamline/sub-019_matrix_warp_MNI2dwi.nii.gz', '/home/a1/Desktop/Projects/forkx/HC_nii/sub-019/streamline/sub-019_tck2MNI.tck -force']' returned non-zero exit status 1.\n",
      "Processing sub-020\n"
     ]
    },
    {
     "name": "stderr",
     "output_type": "stream",
     "text": [
      "warpinit: [100%] generating identity warp\u001b[0K[0K\u001b[?7h\u001b[?7l\n",
      "warpinit: [100%] compressing image \"/home/a1/Desktop/Projects/forkx/HC_nii/sub-020/streamline/sub-020_inv_identity_warp_no.nii.gz\"\u001b[0K[0K\u001b[?7h\u001b[?7l\n",
      "mrtransform: [100%] uncompressing image \"/home/a1/Desktop/Projects/forkx/HC_nii/sub-020/streamline/sub-020_matrix_warp_MNI2dwi.nii.gz\"\u001b[0K[0K\u001b[?7h\u001b[?7l\n",
      "mrtransform: [100%] preloading data for \"/home/a1/Desktop/Projects/forkx/HC_nii/sub-020/streamline/sub-020_matrix_warp_MNI2dwi.nii.gz\"\u001b[0K[0K\u001b[?7h\u001b[?7l\n",
      "mrtransform: [100%] uncompressing image \"/home/a1/Desktop/Projects/template/MNI152_T1_2mm_brain.nii.gz\"\u001b[0K[0K\u001b[?7h\u001b[?7l\n",
      "mrtransform: [100%] preloading data for \"/home/a1/Desktop/Projects/template/MNI152_T1_2mm_brain.nii.gz\"\u001b[0K[0K\u001b[?7h\u001b[?7l\n",
      "mrtransform: [100%] warping \"/home/a1/Desktop/Projects/template/MNI152_T1_2mm_brain.nii.gz\"\u001b[0K[0K\u001b[?7h\u001b[?7l\n",
      "mrtransform: [100%] compressing image \"/home/a1/Desktop/Projects/forkx/HC_nii/sub-020/streamline/sub-020_MNI2dwi.nii.gz\"\u001b[0K[0K\u001b[?7h\u001b[?7l\n",
      "tcktransform: \u001b[01;31m[ERROR] output track file \"/home/a1/Desktop/Projects/forkx/HC_nii/sub-020/streamline/sub-020_tck2MNI.tck -force\" must use the .tck suffix\u001b[0m\n"
     ]
    },
    {
     "name": "stdout",
     "output_type": "stream",
     "text": [
      "Error running BET: Command '['tcktransform', '/home/a1/Desktop/Projects/forkx/HC_nii/sub-020/streamline/sub-020_streamline.tck', '/home/a1/Desktop/Projects/forkx/HC_nii/sub-020/streamline/sub-020_matrix_warp_MNI2dwi.nii.gz', '/home/a1/Desktop/Projects/forkx/HC_nii/sub-020/streamline/sub-020_tck2MNI.tck -force']' returned non-zero exit status 1.\n",
      "Processing sub-021\n"
     ]
    },
    {
     "name": "stderr",
     "output_type": "stream",
     "text": [
      "warpinit: [100%] generating identity warp\u001b[0K[0K\u001b[?7h\u001b[?7l\n",
      "warpinit: [100%] compressing image \"/home/a1/Desktop/Projects/forkx/HC_nii/sub-021/streamline/sub-021_inv_identity_warp_no.nii.gz\"\u001b[0K[0K\u001b[?7h\u001b[?7l\n",
      "mrtransform: [100%] uncompressing image \"/home/a1/Desktop/Projects/forkx/HC_nii/sub-021/streamline/sub-021_matrix_warp_MNI2dwi.nii.gz\"\u001b[0K[0K\u001b[?7h\u001b[?7l\n",
      "mrtransform: [100%] preloading data for \"/home/a1/Desktop/Projects/forkx/HC_nii/sub-021/streamline/sub-021_matrix_warp_MNI2dwi.nii.gz\"\u001b[0K[0K\u001b[?7h\u001b[?7l\n",
      "mrtransform: [100%] uncompressing image \"/home/a1/Desktop/Projects/template/MNI152_T1_2mm_brain.nii.gz\"\u001b[0K[0K\u001b[?7h\u001b[?7l\n",
      "mrtransform: [100%] preloading data for \"/home/a1/Desktop/Projects/template/MNI152_T1_2mm_brain.nii.gz\"\u001b[0K[0K\u001b[?7h\u001b[?7l\n",
      "mrtransform: [100%] warping \"/home/a1/Desktop/Projects/template/MNI152_T1_2mm_brain.nii.gz\"\u001b[0K[0K\u001b[?7h\u001b[?7l\n",
      "mrtransform: [100%] compressing image \"/home/a1/Desktop/Projects/forkx/HC_nii/sub-021/streamline/sub-021_MNI2dwi.nii.gz\"\u001b[0K[0K\u001b[?7h\u001b[?7l\u001b[?7l\n",
      "tcktransform: \u001b[01;31m[ERROR] output track file \"/home/a1/Desktop/Projects/forkx/HC_nii/sub-021/streamline/sub-021_tck2MNI.tck -force\" must use the .tck suffix\u001b[0m\n"
     ]
    },
    {
     "name": "stdout",
     "output_type": "stream",
     "text": [
      "Error running BET: Command '['tcktransform', '/home/a1/Desktop/Projects/forkx/HC_nii/sub-021/streamline/sub-021_streamline.tck', '/home/a1/Desktop/Projects/forkx/HC_nii/sub-021/streamline/sub-021_matrix_warp_MNI2dwi.nii.gz', '/home/a1/Desktop/Projects/forkx/HC_nii/sub-021/streamline/sub-021_tck2MNI.tck -force']' returned non-zero exit status 1.\n",
      "Processing sub-022\n"
     ]
    },
    {
     "name": "stderr",
     "output_type": "stream",
     "text": [
      "warpinit: [100%] generating identity warp\u001b[0K[0K\u001b[?7h\u001b[?7l\n",
      "warpinit: [100%] compressing image \"/home/a1/Desktop/Projects/forkx/HC_nii/sub-022/streamline/sub-022_inv_identity_warp_no.nii.gz\"\u001b[0K[0K\u001b[?7h\u001b[?7l\n",
      "mrtransform: [100%] uncompressing image \"/home/a1/Desktop/Projects/forkx/HC_nii/sub-022/streamline/sub-022_matrix_warp_MNI2dwi.nii.gz\"\u001b[0K[0K\u001b[?7h\u001b[?7l\n",
      "mrtransform: [100%] preloading data for \"/home/a1/Desktop/Projects/forkx/HC_nii/sub-022/streamline/sub-022_matrix_warp_MNI2dwi.nii.gz\"\u001b[0K[0K\u001b[?7h\u001b[?7l\n",
      "mrtransform: [100%] uncompressing image \"/home/a1/Desktop/Projects/template/MNI152_T1_2mm_brain.nii.gz\"\u001b[0K[0K\u001b[?7h\u001b[?7l\n",
      "mrtransform: [100%] preloading data for \"/home/a1/Desktop/Projects/template/MNI152_T1_2mm_brain.nii.gz\"\u001b[0K[0K\u001b[?7h\u001b[?7l\n",
      "mrtransform: [100%] warping \"/home/a1/Desktop/Projects/template/MNI152_T1_2mm_brain.nii.gz\"\u001b[0K[0K\u001b[?7h\u001b[?7l\n",
      "mrtransform: [100%] compressing image \"/home/a1/Desktop/Projects/forkx/HC_nii/sub-022/streamline/sub-022_MNI2dwi.nii.gz\"\u001b[0K[0K\u001b[?7h\u001b[?7l\n",
      "tcktransform: \u001b[01;31m[ERROR] output track file \"/home/a1/Desktop/Projects/forkx/HC_nii/sub-022/streamline/sub-022_tck2MNI.tck -force\" must use the .tck suffix\u001b[0m\n"
     ]
    },
    {
     "name": "stdout",
     "output_type": "stream",
     "text": [
      "Error running BET: Command '['tcktransform', '/home/a1/Desktop/Projects/forkx/HC_nii/sub-022/streamline/sub-022_streamline.tck', '/home/a1/Desktop/Projects/forkx/HC_nii/sub-022/streamline/sub-022_matrix_warp_MNI2dwi.nii.gz', '/home/a1/Desktop/Projects/forkx/HC_nii/sub-022/streamline/sub-022_tck2MNI.tck -force']' returned non-zero exit status 1.\n",
      "Processing sub-026\n"
     ]
    },
    {
     "name": "stderr",
     "output_type": "stream",
     "text": [
      "warpinit: [100%] generating identity warp\u001b[0K[0K\u001b[?7h\u001b[?7l\n",
      "warpinit: [100%] compressing image \"/home/a1/Desktop/Projects/forkx/HC_nii/sub-026/streamline/sub-026_inv_identity_warp_no.nii.gz\"\u001b[0K[0K\u001b[?7h\u001b[?7l\n",
      "mrtransform: [100%] uncompressing image \"/home/a1/Desktop/Projects/forkx/HC_nii/sub-026/streamline/sub-026_matrix_warp_MNI2dwi.nii.gz\"\u001b[0K[0K\u001b[?7h\u001b[?7l\n",
      "mrtransform: [100%] preloading data for \"/home/a1/Desktop/Projects/forkx/HC_nii/sub-026/streamline/sub-026_matrix_warp_MNI2dwi.nii.gz\"\u001b[0K[0K\u001b[?7h\u001b[?7l\n",
      "mrtransform: [100%] uncompressing image \"/home/a1/Desktop/Projects/template/MNI152_T1_2mm_brain.nii.gz\"\u001b[0K[0K\u001b[?7h\u001b[?7l\n",
      "mrtransform: [100%] preloading data for \"/home/a1/Desktop/Projects/template/MNI152_T1_2mm_brain.nii.gz\"\u001b[0K[0K\u001b[?7h\u001b[?7l\n",
      "mrtransform: [100%] warping \"/home/a1/Desktop/Projects/template/MNI152_T1_2mm_brain.nii.gz\"\u001b[0K[0K\u001b[?7h\u001b[?7l\n",
      "mrtransform: [100%] compressing image \"/home/a1/Desktop/Projects/forkx/HC_nii/sub-026/streamline/sub-026_MNI2dwi.nii.gz\"\u001b[0K[0K\u001b[?7h\u001b[?7l\n",
      "tcktransform: \u001b[01;31m[ERROR] output track file \"/home/a1/Desktop/Projects/forkx/HC_nii/sub-026/streamline/sub-026_tck2MNI.tck -force\" must use the .tck suffix\u001b[0m\n"
     ]
    },
    {
     "name": "stdout",
     "output_type": "stream",
     "text": [
      "Error running BET: Command '['tcktransform', '/home/a1/Desktop/Projects/forkx/HC_nii/sub-026/streamline/sub-026_streamline.tck', '/home/a1/Desktop/Projects/forkx/HC_nii/sub-026/streamline/sub-026_matrix_warp_MNI2dwi.nii.gz', '/home/a1/Desktop/Projects/forkx/HC_nii/sub-026/streamline/sub-026_tck2MNI.tck -force']' returned non-zero exit status 1.\n",
      "Processing sub-027\n"
     ]
    },
    {
     "name": "stderr",
     "output_type": "stream",
     "text": [
      "warpinit: [100%] generating identity warp\u001b[0K[0K\u001b[?7h\u001b[?7l\n",
      "warpinit: [100%] compressing image \"/home/a1/Desktop/Projects/forkx/HC_nii/sub-027/streamline/sub-027_inv_identity_warp_no.nii.gz\"\u001b[0K[0K\u001b[?7h\u001b[?7l\n",
      "mrtransform: [100%] uncompressing image \"/home/a1/Desktop/Projects/forkx/HC_nii/sub-027/streamline/sub-027_matrix_warp_MNI2dwi.nii.gz\"\u001b[0K[0K\u001b[?7h\u001b[?7l\n",
      "mrtransform: [100%] preloading data for \"/home/a1/Desktop/Projects/forkx/HC_nii/sub-027/streamline/sub-027_matrix_warp_MNI2dwi.nii.gz\"\u001b[0K[0K\u001b[?7h\u001b[?7l\n",
      "mrtransform: [100%] uncompressing image \"/home/a1/Desktop/Projects/template/MNI152_T1_2mm_brain.nii.gz\"\u001b[0K[0K\u001b[?7h\u001b[?7l\n",
      "mrtransform: [100%] preloading data for \"/home/a1/Desktop/Projects/template/MNI152_T1_2mm_brain.nii.gz\"\u001b[0K[0K\u001b[?7h\u001b[?7l\n",
      "mrtransform: [100%] warping \"/home/a1/Desktop/Projects/template/MNI152_T1_2mm_brain.nii.gz\"\u001b[0K[0K\u001b[?7h\u001b[?7l\n",
      "mrtransform: [100%] compressing image \"/home/a1/Desktop/Projects/forkx/HC_nii/sub-027/streamline/sub-027_MNI2dwi.nii.gz\"\u001b[0K[0K\u001b[?7h\u001b[?7l\n",
      "tcktransform: \u001b[01;31m[ERROR] output track file \"/home/a1/Desktop/Projects/forkx/HC_nii/sub-027/streamline/sub-027_tck2MNI.tck -force\" must use the .tck suffix\u001b[0m\n"
     ]
    },
    {
     "name": "stdout",
     "output_type": "stream",
     "text": [
      "Error running BET: Command '['tcktransform', '/home/a1/Desktop/Projects/forkx/HC_nii/sub-027/streamline/sub-027_streamline.tck', '/home/a1/Desktop/Projects/forkx/HC_nii/sub-027/streamline/sub-027_matrix_warp_MNI2dwi.nii.gz', '/home/a1/Desktop/Projects/forkx/HC_nii/sub-027/streamline/sub-027_tck2MNI.tck -force']' returned non-zero exit status 1.\n",
      "Processing sub-028\n"
     ]
    },
    {
     "name": "stderr",
     "output_type": "stream",
     "text": [
      "warpinit: [100%] generating identity warp\u001b[0K[0K\u001b[?7h\u001b[?7l\n",
      "warpinit: [100%] compressing image \"/home/a1/Desktop/Projects/forkx/HC_nii/sub-028/streamline/sub-028_inv_identity_warp_no.nii.gz\"\u001b[0K[0K\u001b[?7h\u001b[?7l\n",
      "mrtransform: [100%] uncompressing image \"/home/a1/Desktop/Projects/forkx/HC_nii/sub-028/streamline/sub-028_matrix_warp_MNI2dwi.nii.gz\"\u001b[0K[0K\u001b[?7h\u001b[?7l\n",
      "mrtransform: [100%] preloading data for \"/home/a1/Desktop/Projects/forkx/HC_nii/sub-028/streamline/sub-028_matrix_warp_MNI2dwi.nii.gz\"\u001b[0K[0K\u001b[?7h\u001b[?7l\n",
      "mrtransform: [100%] uncompressing image \"/home/a1/Desktop/Projects/template/MNI152_T1_2mm_brain.nii.gz\"\u001b[0K[0K\u001b[?7h\u001b[?7l\n",
      "mrtransform: [100%] preloading data for \"/home/a1/Desktop/Projects/template/MNI152_T1_2mm_brain.nii.gz\"\u001b[0K[0K\u001b[?7h\u001b[?7l\n",
      "mrtransform: [100%] warping \"/home/a1/Desktop/Projects/template/MNI152_T1_2mm_brain.nii.gz\"\u001b[0K[0K\u001b[?7h\u001b[?7l\n",
      "mrtransform: [100%] compressing image \"/home/a1/Desktop/Projects/forkx/HC_nii/sub-028/streamline/sub-028_MNI2dwi.nii.gz\"\u001b[0K[0K\u001b[?7h\u001b[?7l\u001b[?7l\n",
      "tcktransform: \u001b[01;31m[ERROR] output track file \"/home/a1/Desktop/Projects/forkx/HC_nii/sub-028/streamline/sub-028_tck2MNI.tck -force\" must use the .tck suffix\u001b[0m\n"
     ]
    },
    {
     "name": "stdout",
     "output_type": "stream",
     "text": [
      "Error running BET: Command '['tcktransform', '/home/a1/Desktop/Projects/forkx/HC_nii/sub-028/streamline/sub-028_streamline.tck', '/home/a1/Desktop/Projects/forkx/HC_nii/sub-028/streamline/sub-028_matrix_warp_MNI2dwi.nii.gz', '/home/a1/Desktop/Projects/forkx/HC_nii/sub-028/streamline/sub-028_tck2MNI.tck -force']' returned non-zero exit status 1.\n",
      "Processing sub-030\n"
     ]
    },
    {
     "name": "stderr",
     "output_type": "stream",
     "text": [
      "warpinit: [100%] generating identity warp\u001b[0K[0K\u001b[?7h\u001b[?7l\n",
      "warpinit: [100%] compressing image \"/home/a1/Desktop/Projects/forkx/HC_nii/sub-030/streamline/sub-030_inv_identity_warp_no.nii.gz\"\u001b[0K[0K\u001b[?7h\u001b[?7l\n",
      "mrtransform: [100%] uncompressing image \"/home/a1/Desktop/Projects/forkx/HC_nii/sub-030/streamline/sub-030_matrix_warp_MNI2dwi.nii.gz\"\u001b[0K[0K\u001b[?7h\u001b[?7l\n",
      "mrtransform: [100%] preloading data for \"/home/a1/Desktop/Projects/forkx/HC_nii/sub-030/streamline/sub-030_matrix_warp_MNI2dwi.nii.gz\"\u001b[0K[0K\u001b[?7h\u001b[?7l\n",
      "mrtransform: [100%] uncompressing image \"/home/a1/Desktop/Projects/template/MNI152_T1_2mm_brain.nii.gz\"\u001b[0K[0K\u001b[?7h\u001b[?7l\n",
      "mrtransform: [100%] preloading data for \"/home/a1/Desktop/Projects/template/MNI152_T1_2mm_brain.nii.gz\"\u001b[0K[0K\u001b[?7h\u001b[?7l\n",
      "mrtransform: [100%] warping \"/home/a1/Desktop/Projects/template/MNI152_T1_2mm_brain.nii.gz\"\u001b[0K[0K\u001b[?7h\u001b[?7l\n",
      "mrtransform: [100%] compressing image \"/home/a1/Desktop/Projects/forkx/HC_nii/sub-030/streamline/sub-030_MNI2dwi.nii.gz\"\u001b[0K[0K\u001b[?7h\u001b[?7l\n",
      "tcktransform: \u001b[01;31m[ERROR] output track file \"/home/a1/Desktop/Projects/forkx/HC_nii/sub-030/streamline/sub-030_tck2MNI.tck -force\" must use the .tck suffix\u001b[0m\n"
     ]
    },
    {
     "name": "stdout",
     "output_type": "stream",
     "text": [
      "Error running BET: Command '['tcktransform', '/home/a1/Desktop/Projects/forkx/HC_nii/sub-030/streamline/sub-030_streamline.tck', '/home/a1/Desktop/Projects/forkx/HC_nii/sub-030/streamline/sub-030_matrix_warp_MNI2dwi.nii.gz', '/home/a1/Desktop/Projects/forkx/HC_nii/sub-030/streamline/sub-030_tck2MNI.tck -force']' returned non-zero exit status 1.\n",
      "Processing sub-031\n"
     ]
    },
    {
     "name": "stderr",
     "output_type": "stream",
     "text": [
      "warpinit: [100%] generating identity warp\u001b[0K[0K\u001b[?7h\u001b[?7l\n",
      "warpinit: [100%] compressing image \"/home/a1/Desktop/Projects/forkx/HC_nii/sub-031/streamline/sub-031_inv_identity_warp_no.nii.gz\"\u001b[0K[0K\u001b[?7h\u001b[?7l\n",
      "mrtransform: [100%] uncompressing image \"/home/a1/Desktop/Projects/forkx/HC_nii/sub-031/streamline/sub-031_matrix_warp_MNI2dwi.nii.gz\"\u001b[0K[0K\u001b[?7h\u001b[?7l\n",
      "mrtransform: [100%] preloading data for \"/home/a1/Desktop/Projects/forkx/HC_nii/sub-031/streamline/sub-031_matrix_warp_MNI2dwi.nii.gz\"\u001b[0K[0K\u001b[?7h\u001b[?7l\n",
      "mrtransform: [100%] uncompressing image \"/home/a1/Desktop/Projects/template/MNI152_T1_2mm_brain.nii.gz\"\u001b[0K[0K\u001b[?7h\u001b[?7l\n",
      "mrtransform: [100%] preloading data for \"/home/a1/Desktop/Projects/template/MNI152_T1_2mm_brain.nii.gz\"\u001b[0K[0K\u001b[?7h\u001b[?7l\n",
      "mrtransform: [100%] warping \"/home/a1/Desktop/Projects/template/MNI152_T1_2mm_brain.nii.gz\"\u001b[0K[0K\u001b[?7h\u001b[?7l\n",
      "mrtransform: [100%] compressing image \"/home/a1/Desktop/Projects/forkx/HC_nii/sub-031/streamline/sub-031_MNI2dwi.nii.gz\"\u001b[0K[0K\u001b[?7h\u001b[?7l\u001b[?7l\n",
      "tcktransform: \u001b[01;31m[ERROR] output track file \"/home/a1/Desktop/Projects/forkx/HC_nii/sub-031/streamline/sub-031_tck2MNI.tck -force\" must use the .tck suffix\u001b[0m\n"
     ]
    },
    {
     "name": "stdout",
     "output_type": "stream",
     "text": [
      "Error running BET: Command '['tcktransform', '/home/a1/Desktop/Projects/forkx/HC_nii/sub-031/streamline/sub-031_streamline.tck', '/home/a1/Desktop/Projects/forkx/HC_nii/sub-031/streamline/sub-031_matrix_warp_MNI2dwi.nii.gz', '/home/a1/Desktop/Projects/forkx/HC_nii/sub-031/streamline/sub-031_tck2MNI.tck -force']' returned non-zero exit status 1.\n",
      "Processing sub-032\n"
     ]
    },
    {
     "name": "stderr",
     "output_type": "stream",
     "text": [
      "warpinit: [100%] generating identity warp\u001b[0K[0K\u001b[?7h\u001b[?7l\n",
      "warpinit: [100%] compressing image \"/home/a1/Desktop/Projects/forkx/HC_nii/sub-032/streamline/sub-032_inv_identity_warp_no.nii.gz\"\u001b[0K[0K\u001b[?7h\u001b[?7l\n",
      "mrtransform: [100%] uncompressing image \"/home/a1/Desktop/Projects/forkx/HC_nii/sub-032/streamline/sub-032_matrix_warp_MNI2dwi.nii.gz\"\u001b[0K[0K\u001b[?7h\u001b[?7l\n",
      "mrtransform: [100%] preloading data for \"/home/a1/Desktop/Projects/forkx/HC_nii/sub-032/streamline/sub-032_matrix_warp_MNI2dwi.nii.gz\"\u001b[0K[0K\u001b[?7h\u001b[?7l\n",
      "mrtransform: [100%] uncompressing image \"/home/a1/Desktop/Projects/template/MNI152_T1_2mm_brain.nii.gz\"\u001b[0K[0K\u001b[?7h\u001b[?7l\n",
      "mrtransform: [100%] preloading data for \"/home/a1/Desktop/Projects/template/MNI152_T1_2mm_brain.nii.gz\"\u001b[0K[0K\u001b[?7h\u001b[?7l\n",
      "mrtransform: [100%] warping \"/home/a1/Desktop/Projects/template/MNI152_T1_2mm_brain.nii.gz\"\u001b[0K[0K\u001b[?7h\u001b[?7l\n",
      "mrtransform: [100%] compressing image \"/home/a1/Desktop/Projects/forkx/HC_nii/sub-032/streamline/sub-032_MNI2dwi.nii.gz\"\u001b[0K[0K\u001b[?7h\u001b[?7l\n",
      "tcktransform: \u001b[01;31m[ERROR] output track file \"/home/a1/Desktop/Projects/forkx/HC_nii/sub-032/streamline/sub-032_tck2MNI.tck -force\" must use the .tck suffix\u001b[0m\n"
     ]
    },
    {
     "name": "stdout",
     "output_type": "stream",
     "text": [
      "Error running BET: Command '['tcktransform', '/home/a1/Desktop/Projects/forkx/HC_nii/sub-032/streamline/sub-032_streamline.tck', '/home/a1/Desktop/Projects/forkx/HC_nii/sub-032/streamline/sub-032_matrix_warp_MNI2dwi.nii.gz', '/home/a1/Desktop/Projects/forkx/HC_nii/sub-032/streamline/sub-032_tck2MNI.tck -force']' returned non-zero exit status 1.\n",
      "Processing sub-033\n"
     ]
    },
    {
     "name": "stderr",
     "output_type": "stream",
     "text": [
      "warpinit: [100%] generating identity warp\u001b[0K[0K\u001b[?7h\u001b[?7l\n",
      "warpinit: [100%] compressing image \"/home/a1/Desktop/Projects/forkx/HC_nii/sub-033/streamline/sub-033_inv_identity_warp_no.nii.gz\"\u001b[0K[0K\u001b[?7h\u001b[?7l\n",
      "mrtransform: [100%] uncompressing image \"/home/a1/Desktop/Projects/forkx/HC_nii/sub-033/streamline/sub-033_matrix_warp_MNI2dwi.nii.gz\"\u001b[0K[0K\u001b[?7h\u001b[?7l\n",
      "mrtransform: [100%] preloading data for \"/home/a1/Desktop/Projects/forkx/HC_nii/sub-033/streamline/sub-033_matrix_warp_MNI2dwi.nii.gz\"\u001b[0K[0K\u001b[?7h\u001b[?7l\n",
      "mrtransform: [100%] uncompressing image \"/home/a1/Desktop/Projects/template/MNI152_T1_2mm_brain.nii.gz\"\u001b[0K[0K\u001b[?7h\u001b[?7l\n",
      "mrtransform: [100%] preloading data for \"/home/a1/Desktop/Projects/template/MNI152_T1_2mm_brain.nii.gz\"\u001b[0K[0K\u001b[?7h\u001b[?7l\n",
      "mrtransform: [100%] warping \"/home/a1/Desktop/Projects/template/MNI152_T1_2mm_brain.nii.gz\"\u001b[0K[0K\u001b[?7h\u001b[?7l\n",
      "mrtransform: [100%] compressing image \"/home/a1/Desktop/Projects/forkx/HC_nii/sub-033/streamline/sub-033_MNI2dwi.nii.gz\"\u001b[0K[0K\u001b[?7h\u001b[?7l\u001b[?7l\n",
      "tcktransform: \u001b[01;31m[ERROR] output track file \"/home/a1/Desktop/Projects/forkx/HC_nii/sub-033/streamline/sub-033_tck2MNI.tck -force\" must use the .tck suffix\u001b[0m\n"
     ]
    },
    {
     "name": "stdout",
     "output_type": "stream",
     "text": [
      "Error running BET: Command '['tcktransform', '/home/a1/Desktop/Projects/forkx/HC_nii/sub-033/streamline/sub-033_streamline.tck', '/home/a1/Desktop/Projects/forkx/HC_nii/sub-033/streamline/sub-033_matrix_warp_MNI2dwi.nii.gz', '/home/a1/Desktop/Projects/forkx/HC_nii/sub-033/streamline/sub-033_tck2MNI.tck -force']' returned non-zero exit status 1.\n",
      "Processing sub-034\n"
     ]
    },
    {
     "name": "stderr",
     "output_type": "stream",
     "text": [
      "warpinit: [100%] generating identity warp\u001b[0K[0K\u001b[?7h\u001b[?7l\n",
      "warpinit: [100%] compressing image \"/home/a1/Desktop/Projects/forkx/HC_nii/sub-034/streamline/sub-034_inv_identity_warp_no.nii.gz\"\u001b[0K[0K\u001b[?7h\u001b[?7l\n",
      "mrtransform: [100%] uncompressing image \"/home/a1/Desktop/Projects/forkx/HC_nii/sub-034/streamline/sub-034_matrix_warp_MNI2dwi.nii.gz\"\u001b[0K[0K\u001b[?7h\u001b[?7l\n",
      "mrtransform: [100%] preloading data for \"/home/a1/Desktop/Projects/forkx/HC_nii/sub-034/streamline/sub-034_matrix_warp_MNI2dwi.nii.gz\"\u001b[0K[0K\u001b[?7h\u001b[?7l\n",
      "mrtransform: [100%] uncompressing image \"/home/a1/Desktop/Projects/template/MNI152_T1_2mm_brain.nii.gz\"\u001b[0K[0K\u001b[?7h\u001b[?7l\n",
      "mrtransform: [100%] preloading data for \"/home/a1/Desktop/Projects/template/MNI152_T1_2mm_brain.nii.gz\"\u001b[0K[0K\u001b[?7h\u001b[?7l\n",
      "mrtransform: [100%] warping \"/home/a1/Desktop/Projects/template/MNI152_T1_2mm_brain.nii.gz\"\u001b[0K[0K\u001b[?7h\u001b[?7l\n",
      "mrtransform: [100%] compressing image \"/home/a1/Desktop/Projects/forkx/HC_nii/sub-034/streamline/sub-034_MNI2dwi.nii.gz\"\u001b[0K[0K\u001b[?7h\u001b[?7l\n",
      "tcktransform: \u001b[01;31m[ERROR] output track file \"/home/a1/Desktop/Projects/forkx/HC_nii/sub-034/streamline/sub-034_tck2MNI.tck -force\" must use the .tck suffix\u001b[0m\n"
     ]
    },
    {
     "name": "stdout",
     "output_type": "stream",
     "text": [
      "Error running BET: Command '['tcktransform', '/home/a1/Desktop/Projects/forkx/HC_nii/sub-034/streamline/sub-034_streamline.tck', '/home/a1/Desktop/Projects/forkx/HC_nii/sub-034/streamline/sub-034_matrix_warp_MNI2dwi.nii.gz', '/home/a1/Desktop/Projects/forkx/HC_nii/sub-034/streamline/sub-034_tck2MNI.tck -force']' returned non-zero exit status 1.\n",
      "Processing sub-043\n"
     ]
    },
    {
     "name": "stderr",
     "output_type": "stream",
     "text": [
      "warpinit: [100%] generating identity warp\u001b[0K[0K\u001b[?7h\u001b[?7l\n",
      "warpinit: [100%] compressing image \"/home/a1/Desktop/Projects/forkx/HC_nii/sub-043/streamline/sub-043_inv_identity_warp_no.nii.gz\"\u001b[0K[0K\u001b[?7h\u001b[?7l\n",
      "mrtransform: [100%] uncompressing image \"/home/a1/Desktop/Projects/forkx/HC_nii/sub-043/streamline/sub-043_matrix_warp_MNI2dwi.nii.gz\"\u001b[0K[0K\u001b[?7h\u001b[?7l\n",
      "mrtransform: [100%] preloading data for \"/home/a1/Desktop/Projects/forkx/HC_nii/sub-043/streamline/sub-043_matrix_warp_MNI2dwi.nii.gz\"\u001b[0K[0K\u001b[?7h\u001b[?7l\n",
      "mrtransform: [100%] uncompressing image \"/home/a1/Desktop/Projects/template/MNI152_T1_2mm_brain.nii.gz\"\u001b[0K[0K\u001b[?7h\u001b[?7l\n",
      "mrtransform: [100%] preloading data for \"/home/a1/Desktop/Projects/template/MNI152_T1_2mm_brain.nii.gz\"\u001b[0K[0K\u001b[?7h\u001b[?7l\n",
      "mrtransform: [100%] warping \"/home/a1/Desktop/Projects/template/MNI152_T1_2mm_brain.nii.gz\"\u001b[0K[0K\u001b[?7h\u001b[?7l\n",
      "mrtransform: [100%] compressing image \"/home/a1/Desktop/Projects/forkx/HC_nii/sub-043/streamline/sub-043_MNI2dwi.nii.gz\"\u001b[0K[0K\u001b[?7h\u001b[?7l\u001b[?7l\n",
      "tcktransform: \u001b[01;31m[ERROR] output track file \"/home/a1/Desktop/Projects/forkx/HC_nii/sub-043/streamline/sub-043_tck2MNI.tck -force\" must use the .tck suffix\u001b[0m\n"
     ]
    },
    {
     "name": "stdout",
     "output_type": "stream",
     "text": [
      "Error running BET: Command '['tcktransform', '/home/a1/Desktop/Projects/forkx/HC_nii/sub-043/streamline/sub-043_streamline.tck', '/home/a1/Desktop/Projects/forkx/HC_nii/sub-043/streamline/sub-043_matrix_warp_MNI2dwi.nii.gz', '/home/a1/Desktop/Projects/forkx/HC_nii/sub-043/streamline/sub-043_tck2MNI.tck -force']' returned non-zero exit status 1.\n",
      "Processing sub-304\n"
     ]
    },
    {
     "name": "stderr",
     "output_type": "stream",
     "text": [
      "warpinit: \u001b[01;31m[ERROR] output file \"/home/a1/Desktop/Projects/forkx/HC_nii/sub-304/streamline/sub-304_inv_identity_warp_no.nii.gz\" already exists (use -force option to force overwrite)\u001b[0m\n",
      "warpinit: \u001b[01;31m[ERROR] error creating image \"/home/a1/Desktop/Projects/forkx/HC_nii/sub-304/streamline/sub-304_inv_identity_warp_no.nii.gz\"\u001b[0m\n"
     ]
    },
    {
     "name": "stdout",
     "output_type": "stream",
     "text": [
      "Error running BET: Command '['warpinit', '/home/a1/Desktop/Projects/template/MNI152_T1_2mm_brain.nii.gz', '/home/a1/Desktop/Projects/forkx/HC_nii/sub-304/streamline/sub-304_inv_identity_warp_no.nii.gz']' returned non-zero exit status 1.\n",
      "Processing sub-309\n"
     ]
    },
    {
     "name": "stderr",
     "output_type": "stream",
     "text": [
      "warpinit: [100%] generating identity warp\u001b[0K[0K\u001b[?7h\u001b[?7l\n",
      "warpinit: [100%] compressing image \"/home/a1/Desktop/Projects/forkx/HC_nii/sub-309/streamline/sub-309_inv_identity_warp_no.nii.gz\"\u001b[0K[0K\u001b[?7h\u001b[?7l\n",
      "mrtransform: [100%] uncompressing image \"/home/a1/Desktop/Projects/forkx/HC_nii/sub-309/streamline/sub-309_matrix_warp_MNI2dwi.nii.gz\"\u001b[0K[0K\u001b[?7h\u001b[?7l\n",
      "mrtransform: [100%] preloading data for \"/home/a1/Desktop/Projects/forkx/HC_nii/sub-309/streamline/sub-309_matrix_warp_MNI2dwi.nii.gz\"\u001b[0K[0K\u001b[?7h\u001b[?7l\n",
      "mrtransform: [100%] uncompressing image \"/home/a1/Desktop/Projects/template/MNI152_T1_2mm_brain.nii.gz\"\u001b[0K[0K\u001b[?7h\u001b[?7l\n",
      "mrtransform: [100%] preloading data for \"/home/a1/Desktop/Projects/template/MNI152_T1_2mm_brain.nii.gz\"\u001b[0K[0K\u001b[?7h\u001b[?7l\n",
      "mrtransform: [100%] warping \"/home/a1/Desktop/Projects/template/MNI152_T1_2mm_brain.nii.gz\"\u001b[0K[0K\u001b[?7h\u001b[?7l\n",
      "mrtransform: [100%] compressing image \"/home/a1/Desktop/Projects/forkx/HC_nii/sub-309/streamline/sub-309_MNI2dwi.nii.gz\"\u001b[0K[0K\u001b[?7h\u001b[?7l\u001b[?7l\n",
      "tcktransform: \u001b[01;31m[ERROR] output track file \"/home/a1/Desktop/Projects/forkx/HC_nii/sub-309/streamline/sub-309_tck2MNI.tck -force\" must use the .tck suffix\u001b[0m\n"
     ]
    },
    {
     "name": "stdout",
     "output_type": "stream",
     "text": [
      "Error running BET: Command '['tcktransform', '/home/a1/Desktop/Projects/forkx/HC_nii/sub-309/streamline/sub-309_streamline.tck', '/home/a1/Desktop/Projects/forkx/HC_nii/sub-309/streamline/sub-309_matrix_warp_MNI2dwi.nii.gz', '/home/a1/Desktop/Projects/forkx/HC_nii/sub-309/streamline/sub-309_tck2MNI.tck -force']' returned non-zero exit status 1.\n",
      "Processing sub-310\n"
     ]
    },
    {
     "name": "stderr",
     "output_type": "stream",
     "text": [
      "warpinit: [100%] generating identity warp\u001b[0K[0K\u001b[?7h\u001b[?7l\n",
      "warpinit: [100%] compressing image \"/home/a1/Desktop/Projects/forkx/HC_nii/sub-310/streamline/sub-310_inv_identity_warp_no.nii.gz\"\u001b[0K[0K\u001b[?7h\u001b[?7l\n",
      "mrtransform: [100%] uncompressing image \"/home/a1/Desktop/Projects/forkx/HC_nii/sub-310/streamline/sub-310_matrix_warp_MNI2dwi.nii.gz\"\u001b[0K[0K\u001b[?7h\u001b[?7l\n",
      "mrtransform: [100%] preloading data for \"/home/a1/Desktop/Projects/forkx/HC_nii/sub-310/streamline/sub-310_matrix_warp_MNI2dwi.nii.gz\"\u001b[0K[0K\u001b[?7h\u001b[?7l\n",
      "mrtransform: [100%] uncompressing image \"/home/a1/Desktop/Projects/template/MNI152_T1_2mm_brain.nii.gz\"\u001b[0K[0K\u001b[?7h\u001b[?7l\n",
      "mrtransform: [100%] preloading data for \"/home/a1/Desktop/Projects/template/MNI152_T1_2mm_brain.nii.gz\"\u001b[0K[0K\u001b[?7h\u001b[?7l\n",
      "mrtransform: [100%] warping \"/home/a1/Desktop/Projects/template/MNI152_T1_2mm_brain.nii.gz\"\u001b[0K[0K\u001b[?7h\u001b[?7l\n",
      "mrtransform: [100%] compressing image \"/home/a1/Desktop/Projects/forkx/HC_nii/sub-310/streamline/sub-310_MNI2dwi.nii.gz\"\u001b[0K[0K\u001b[?7h\u001b[?7l\n",
      "tcktransform: \u001b[01;31m[ERROR] output track file \"/home/a1/Desktop/Projects/forkx/HC_nii/sub-310/streamline/sub-310_tck2MNI.tck -force\" must use the .tck suffix\u001b[0m\n"
     ]
    },
    {
     "name": "stdout",
     "output_type": "stream",
     "text": [
      "Error running BET: Command '['tcktransform', '/home/a1/Desktop/Projects/forkx/HC_nii/sub-310/streamline/sub-310_streamline.tck', '/home/a1/Desktop/Projects/forkx/HC_nii/sub-310/streamline/sub-310_matrix_warp_MNI2dwi.nii.gz', '/home/a1/Desktop/Projects/forkx/HC_nii/sub-310/streamline/sub-310_tck2MNI.tck -force']' returned non-zero exit status 1.\n",
      "Processing sub-311\n"
     ]
    },
    {
     "name": "stderr",
     "output_type": "stream",
     "text": [
      "warpinit: [100%] generating identity warp\u001b[0K[0K\u001b[?7h\u001b[?7l\n",
      "warpinit: [100%] compressing image \"/home/a1/Desktop/Projects/forkx/HC_nii/sub-311/streamline/sub-311_inv_identity_warp_no.nii.gz\"\u001b[0K[0K\u001b[?7h\u001b[?7l\n",
      "mrtransform: [100%] uncompressing image \"/home/a1/Desktop/Projects/forkx/HC_nii/sub-311/streamline/sub-311_matrix_warp_MNI2dwi.nii.gz\"\u001b[0K[0K\u001b[?7h\u001b[?7l\n",
      "mrtransform: [100%] preloading data for \"/home/a1/Desktop/Projects/forkx/HC_nii/sub-311/streamline/sub-311_matrix_warp_MNI2dwi.nii.gz\"\u001b[0K[0K\u001b[?7h\u001b[?7l\n",
      "mrtransform: [100%] uncompressing image \"/home/a1/Desktop/Projects/template/MNI152_T1_2mm_brain.nii.gz\"\u001b[0K[0K\u001b[?7h\u001b[?7l\n",
      "mrtransform: [100%] preloading data for \"/home/a1/Desktop/Projects/template/MNI152_T1_2mm_brain.nii.gz\"\u001b[0K[0K\u001b[?7h\u001b[?7l\n",
      "mrtransform: [100%] warping \"/home/a1/Desktop/Projects/template/MNI152_T1_2mm_brain.nii.gz\"\u001b[0K[0K\u001b[?7h\u001b[?7l\n",
      "mrtransform: [100%] compressing image \"/home/a1/Desktop/Projects/forkx/HC_nii/sub-311/streamline/sub-311_MNI2dwi.nii.gz\"\u001b[0K[0K\u001b[?7h\u001b[?7l\n",
      "tcktransform: \u001b[01;31m[ERROR] output track file \"/home/a1/Desktop/Projects/forkx/HC_nii/sub-311/streamline/sub-311_tck2MNI.tck -force\" must use the .tck suffix\u001b[0m\n"
     ]
    },
    {
     "name": "stdout",
     "output_type": "stream",
     "text": [
      "Error running BET: Command '['tcktransform', '/home/a1/Desktop/Projects/forkx/HC_nii/sub-311/streamline/sub-311_streamline.tck', '/home/a1/Desktop/Projects/forkx/HC_nii/sub-311/streamline/sub-311_matrix_warp_MNI2dwi.nii.gz', '/home/a1/Desktop/Projects/forkx/HC_nii/sub-311/streamline/sub-311_tck2MNI.tck -force']' returned non-zero exit status 1.\n",
      "Processing sub-314\n"
     ]
    },
    {
     "name": "stderr",
     "output_type": "stream",
     "text": [
      "warpinit: [100%] generating identity warp\u001b[0K[0K\u001b[?7h\u001b[?7l\n",
      "warpinit: [100%] compressing image \"/home/a1/Desktop/Projects/forkx/HC_nii/sub-314/streamline/sub-314_inv_identity_warp_no.nii.gz\"\u001b[0K[0K\u001b[?7h\u001b[?7l\n",
      "mrtransform: [100%] uncompressing image \"/home/a1/Desktop/Projects/forkx/HC_nii/sub-314/streamline/sub-314_matrix_warp_MNI2dwi.nii.gz\"\u001b[0K[0K\u001b[?7h\u001b[?7l\n",
      "mrtransform: [100%] preloading data for \"/home/a1/Desktop/Projects/forkx/HC_nii/sub-314/streamline/sub-314_matrix_warp_MNI2dwi.nii.gz\"\u001b[0K[0K\u001b[?7h\u001b[?7l\n",
      "mrtransform: [100%] uncompressing image \"/home/a1/Desktop/Projects/template/MNI152_T1_2mm_brain.nii.gz\"\u001b[0K[0K\u001b[?7h\u001b[?7l\n",
      "mrtransform: [100%] preloading data for \"/home/a1/Desktop/Projects/template/MNI152_T1_2mm_brain.nii.gz\"\u001b[0K[0K\u001b[?7h\u001b[?7l\n",
      "mrtransform: [100%] warping \"/home/a1/Desktop/Projects/template/MNI152_T1_2mm_brain.nii.gz\"\u001b[0K[0K\u001b[?7h\u001b[?7l\n",
      "mrtransform: [100%] compressing image \"/home/a1/Desktop/Projects/forkx/HC_nii/sub-314/streamline/sub-314_MNI2dwi.nii.gz\"\u001b[0K[0K\u001b[?7h\u001b[?7l\n",
      "tcktransform: \u001b[01;31m[ERROR] output track file \"/home/a1/Desktop/Projects/forkx/HC_nii/sub-314/streamline/sub-314_tck2MNI.tck -force\" must use the .tck suffix\u001b[0m\n"
     ]
    },
    {
     "name": "stdout",
     "output_type": "stream",
     "text": [
      "Error running BET: Command '['tcktransform', '/home/a1/Desktop/Projects/forkx/HC_nii/sub-314/streamline/sub-314_streamline.tck', '/home/a1/Desktop/Projects/forkx/HC_nii/sub-314/streamline/sub-314_matrix_warp_MNI2dwi.nii.gz', '/home/a1/Desktop/Projects/forkx/HC_nii/sub-314/streamline/sub-314_tck2MNI.tck -force']' returned non-zero exit status 1.\n",
      "Processing sub-317\n"
     ]
    },
    {
     "name": "stderr",
     "output_type": "stream",
     "text": [
      "warpinit: [100%] generating identity warp\u001b[0K[0K\u001b[?7h\u001b[?7l\n",
      "warpinit: [100%] compressing image \"/home/a1/Desktop/Projects/forkx/HC_nii/sub-317/streamline/sub-317_inv_identity_warp_no.nii.gz\"\u001b[0K[0K\u001b[?7h\u001b[?7l\n",
      "mrtransform: [100%] uncompressing image \"/home/a1/Desktop/Projects/forkx/HC_nii/sub-317/streamline/sub-317_matrix_warp_MNI2dwi.nii.gz\"\u001b[0K[0K\u001b[?7h\u001b[?7l\n",
      "mrtransform: [100%] preloading data for \"/home/a1/Desktop/Projects/forkx/HC_nii/sub-317/streamline/sub-317_matrix_warp_MNI2dwi.nii.gz\"\u001b[0K[0K\u001b[?7h\u001b[?7l\n",
      "mrtransform: [100%] uncompressing image \"/home/a1/Desktop/Projects/template/MNI152_T1_2mm_brain.nii.gz\"\u001b[0K[0K\u001b[?7h\u001b[?7l\n",
      "mrtransform: [100%] preloading data for \"/home/a1/Desktop/Projects/template/MNI152_T1_2mm_brain.nii.gz\"\u001b[0K[0K\u001b[?7h\u001b[?7l\n",
      "mrtransform: [100%] warping \"/home/a1/Desktop/Projects/template/MNI152_T1_2mm_brain.nii.gz\"\u001b[0K[0K\u001b[?7h\u001b[?7l\n",
      "mrtransform: [100%] compressing image \"/home/a1/Desktop/Projects/forkx/HC_nii/sub-317/streamline/sub-317_MNI2dwi.nii.gz\"\u001b[0K[0K\u001b[?7h\u001b[?7l\n",
      "tcktransform: \u001b[01;31m[ERROR] output track file \"/home/a1/Desktop/Projects/forkx/HC_nii/sub-317/streamline/sub-317_tck2MNI.tck -force\" must use the .tck suffix\u001b[0m\n"
     ]
    },
    {
     "name": "stdout",
     "output_type": "stream",
     "text": [
      "Error running BET: Command '['tcktransform', '/home/a1/Desktop/Projects/forkx/HC_nii/sub-317/streamline/sub-317_streamline.tck', '/home/a1/Desktop/Projects/forkx/HC_nii/sub-317/streamline/sub-317_matrix_warp_MNI2dwi.nii.gz', '/home/a1/Desktop/Projects/forkx/HC_nii/sub-317/streamline/sub-317_tck2MNI.tck -force']' returned non-zero exit status 1.\n",
      "Processing sub-321\n"
     ]
    },
    {
     "name": "stderr",
     "output_type": "stream",
     "text": [
      "warpinit: [100%] generating identity warp\u001b[0K[0K\u001b[?7h\u001b[?7l\n",
      "warpinit: [100%] compressing image \"/home/a1/Desktop/Projects/forkx/HC_nii/sub-321/streamline/sub-321_inv_identity_warp_no.nii.gz\"\u001b[0K[0K\u001b[?7h\u001b[?7l\n",
      "mrtransform: [100%] uncompressing image \"/home/a1/Desktop/Projects/forkx/HC_nii/sub-321/streamline/sub-321_matrix_warp_MNI2dwi.nii.gz\"\u001b[0K[0K\u001b[?7h\u001b[?7l\n",
      "mrtransform: [100%] preloading data for \"/home/a1/Desktop/Projects/forkx/HC_nii/sub-321/streamline/sub-321_matrix_warp_MNI2dwi.nii.gz\"\u001b[0K[0K\u001b[?7h\u001b[?7l\n",
      "mrtransform: [100%] uncompressing image \"/home/a1/Desktop/Projects/template/MNI152_T1_2mm_brain.nii.gz\"\u001b[0K[0K\u001b[?7h\u001b[?7l\n",
      "mrtransform: [100%] preloading data for \"/home/a1/Desktop/Projects/template/MNI152_T1_2mm_brain.nii.gz\"\u001b[0K[0K\u001b[?7h\u001b[?7l\n",
      "mrtransform: [100%] warping \"/home/a1/Desktop/Projects/template/MNI152_T1_2mm_brain.nii.gz\"\u001b[0K[0K\u001b[?7h\u001b[?7l\n",
      "mrtransform: [100%] compressing image \"/home/a1/Desktop/Projects/forkx/HC_nii/sub-321/streamline/sub-321_MNI2dwi.nii.gz\"\u001b[0K[0K\u001b[?7h\u001b[?7l\u001b[?7l\n",
      "tcktransform: \u001b[01;31m[ERROR] output track file \"/home/a1/Desktop/Projects/forkx/HC_nii/sub-321/streamline/sub-321_tck2MNI.tck -force\" must use the .tck suffix\u001b[0m\n"
     ]
    },
    {
     "name": "stdout",
     "output_type": "stream",
     "text": [
      "Error running BET: Command '['tcktransform', '/home/a1/Desktop/Projects/forkx/HC_nii/sub-321/streamline/sub-321_streamline.tck', '/home/a1/Desktop/Projects/forkx/HC_nii/sub-321/streamline/sub-321_matrix_warp_MNI2dwi.nii.gz', '/home/a1/Desktop/Projects/forkx/HC_nii/sub-321/streamline/sub-321_tck2MNI.tck -force']' returned non-zero exit status 1.\n",
      "Processing sub-322\n"
     ]
    },
    {
     "name": "stderr",
     "output_type": "stream",
     "text": [
      "warpinit: [100%] generating identity warp\u001b[0K[0K\u001b[?7h\u001b[?7l\n",
      "warpinit: [100%] compressing image \"/home/a1/Desktop/Projects/forkx/HC_nii/sub-322/streamline/sub-322_inv_identity_warp_no.nii.gz\"\u001b[0K[0K\u001b[?7h\u001b[?7l\n",
      "mrtransform: [100%] uncompressing image \"/home/a1/Desktop/Projects/forkx/HC_nii/sub-322/streamline/sub-322_matrix_warp_MNI2dwi.nii.gz\"\u001b[0K[0K\u001b[?7h\u001b[?7l\n",
      "mrtransform: [100%] preloading data for \"/home/a1/Desktop/Projects/forkx/HC_nii/sub-322/streamline/sub-322_matrix_warp_MNI2dwi.nii.gz\"\u001b[0K[0K\u001b[?7h\u001b[?7l\n",
      "mrtransform: [100%] uncompressing image \"/home/a1/Desktop/Projects/template/MNI152_T1_2mm_brain.nii.gz\"\u001b[0K[0K\u001b[?7h\u001b[?7l\n",
      "mrtransform: [100%] preloading data for \"/home/a1/Desktop/Projects/template/MNI152_T1_2mm_brain.nii.gz\"\u001b[0K[0K\u001b[?7h\u001b[?7l\n",
      "mrtransform: [100%] warping \"/home/a1/Desktop/Projects/template/MNI152_T1_2mm_brain.nii.gz\"\u001b[0K[0K\u001b[?7h\u001b[?7l\n",
      "mrtransform: [100%] compressing image \"/home/a1/Desktop/Projects/forkx/HC_nii/sub-322/streamline/sub-322_MNI2dwi.nii.gz\"\u001b[0K[0K\u001b[?7h\u001b[?7l\n",
      "tcktransform: \u001b[01;31m[ERROR] output track file \"/home/a1/Desktop/Projects/forkx/HC_nii/sub-322/streamline/sub-322_tck2MNI.tck -force\" must use the .tck suffix\u001b[0m\n"
     ]
    },
    {
     "name": "stdout",
     "output_type": "stream",
     "text": [
      "Error running BET: Command '['tcktransform', '/home/a1/Desktop/Projects/forkx/HC_nii/sub-322/streamline/sub-322_streamline.tck', '/home/a1/Desktop/Projects/forkx/HC_nii/sub-322/streamline/sub-322_matrix_warp_MNI2dwi.nii.gz', '/home/a1/Desktop/Projects/forkx/HC_nii/sub-322/streamline/sub-322_tck2MNI.tck -force']' returned non-zero exit status 1.\n",
      "Processing sub-323\n"
     ]
    },
    {
     "name": "stderr",
     "output_type": "stream",
     "text": [
      "warpinit: [100%] generating identity warp\u001b[0K[0K\u001b[?7h\u001b[?7l\n",
      "warpinit: [100%] compressing image \"/home/a1/Desktop/Projects/forkx/HC_nii/sub-323/streamline/sub-323_inv_identity_warp_no.nii.gz\"\u001b[0K[0K\u001b[?7h\u001b[?7l\n",
      "mrtransform: [100%] uncompressing image \"/home/a1/Desktop/Projects/forkx/HC_nii/sub-323/streamline/sub-323_matrix_warp_MNI2dwi.nii.gz\"\u001b[0K[0K\u001b[?7h\u001b[?7l\n",
      "mrtransform: [100%] preloading data for \"/home/a1/Desktop/Projects/forkx/HC_nii/sub-323/streamline/sub-323_matrix_warp_MNI2dwi.nii.gz\"\u001b[0K[0K\u001b[?7h\u001b[?7l\n",
      "mrtransform: [100%] uncompressing image \"/home/a1/Desktop/Projects/template/MNI152_T1_2mm_brain.nii.gz\"\u001b[0K[0K\u001b[?7h\u001b[?7l\n",
      "mrtransform: [100%] preloading data for \"/home/a1/Desktop/Projects/template/MNI152_T1_2mm_brain.nii.gz\"\u001b[0K[0K\u001b[?7h\u001b[?7l\n",
      "mrtransform: [100%] warping \"/home/a1/Desktop/Projects/template/MNI152_T1_2mm_brain.nii.gz\"\u001b[0K[0K\u001b[?7h\u001b[?7l\n",
      "mrtransform: [100%] compressing image \"/home/a1/Desktop/Projects/forkx/HC_nii/sub-323/streamline/sub-323_MNI2dwi.nii.gz\"\u001b[0K[0K\u001b[?7h\u001b[?7l\n",
      "tcktransform: \u001b[01;31m[ERROR] output track file \"/home/a1/Desktop/Projects/forkx/HC_nii/sub-323/streamline/sub-323_tck2MNI.tck -force\" must use the .tck suffix\u001b[0m\n"
     ]
    },
    {
     "name": "stdout",
     "output_type": "stream",
     "text": [
      "Error running BET: Command '['tcktransform', '/home/a1/Desktop/Projects/forkx/HC_nii/sub-323/streamline/sub-323_streamline.tck', '/home/a1/Desktop/Projects/forkx/HC_nii/sub-323/streamline/sub-323_matrix_warp_MNI2dwi.nii.gz', '/home/a1/Desktop/Projects/forkx/HC_nii/sub-323/streamline/sub-323_tck2MNI.tck -force']' returned non-zero exit status 1.\n",
      "Processing sub-324\n"
     ]
    },
    {
     "name": "stderr",
     "output_type": "stream",
     "text": [
      "warpinit: [100%] generating identity warp\u001b[0K[0K\u001b[?7h\u001b[?7l\n",
      "warpinit: [100%] compressing image \"/home/a1/Desktop/Projects/forkx/HC_nii/sub-324/streamline/sub-324_inv_identity_warp_no.nii.gz\"\u001b[0K[0K\u001b[?7h\u001b[?7l\n",
      "mrtransform: [100%] uncompressing image \"/home/a1/Desktop/Projects/forkx/HC_nii/sub-324/streamline/sub-324_matrix_warp_MNI2dwi.nii.gz\"\u001b[0K[0K\u001b[?7h\u001b[?7l\n",
      "mrtransform: [100%] preloading data for \"/home/a1/Desktop/Projects/forkx/HC_nii/sub-324/streamline/sub-324_matrix_warp_MNI2dwi.nii.gz\"\u001b[0K[0K\u001b[?7h\u001b[?7l\n",
      "mrtransform: [100%] uncompressing image \"/home/a1/Desktop/Projects/template/MNI152_T1_2mm_brain.nii.gz\"\u001b[0K[0K\u001b[?7h\u001b[?7l\n",
      "mrtransform: [100%] preloading data for \"/home/a1/Desktop/Projects/template/MNI152_T1_2mm_brain.nii.gz\"\u001b[0K[0K\u001b[?7h\u001b[?7l\n",
      "mrtransform: [100%] warping \"/home/a1/Desktop/Projects/template/MNI152_T1_2mm_brain.nii.gz\"\u001b[0K[0K\u001b[?7h\u001b[?7l\n",
      "mrtransform: [100%] compressing image \"/home/a1/Desktop/Projects/forkx/HC_nii/sub-324/streamline/sub-324_MNI2dwi.nii.gz\"\u001b[0K[0K\u001b[?7h\u001b[?7l\n",
      "tcktransform: \u001b[01;31m[ERROR] output track file \"/home/a1/Desktop/Projects/forkx/HC_nii/sub-324/streamline/sub-324_tck2MNI.tck -force\" must use the .tck suffix\u001b[0m\n"
     ]
    },
    {
     "name": "stdout",
     "output_type": "stream",
     "text": [
      "Error running BET: Command '['tcktransform', '/home/a1/Desktop/Projects/forkx/HC_nii/sub-324/streamline/sub-324_streamline.tck', '/home/a1/Desktop/Projects/forkx/HC_nii/sub-324/streamline/sub-324_matrix_warp_MNI2dwi.nii.gz', '/home/a1/Desktop/Projects/forkx/HC_nii/sub-324/streamline/sub-324_tck2MNI.tck -force']' returned non-zero exit status 1.\n",
      "Processing sub-326\n"
     ]
    },
    {
     "name": "stderr",
     "output_type": "stream",
     "text": [
      "warpinit: [100%] generating identity warp\u001b[0K[0K\u001b[?7h\u001b[?7l\n",
      "warpinit: [100%] compressing image \"/home/a1/Desktop/Projects/forkx/HC_nii/sub-326/streamline/sub-326_inv_identity_warp_no.nii.gz\"\u001b[0K[0K\u001b[?7h\u001b[?7l\n",
      "mrtransform: [100%] uncompressing image \"/home/a1/Desktop/Projects/forkx/HC_nii/sub-326/streamline/sub-326_matrix_warp_MNI2dwi.nii.gz\"\u001b[0K[0K\u001b[?7h\u001b[?7l\n",
      "mrtransform: [100%] preloading data for \"/home/a1/Desktop/Projects/forkx/HC_nii/sub-326/streamline/sub-326_matrix_warp_MNI2dwi.nii.gz\"\u001b[0K[0K\u001b[?7h\u001b[?7l\n",
      "mrtransform: [100%] uncompressing image \"/home/a1/Desktop/Projects/template/MNI152_T1_2mm_brain.nii.gz\"\u001b[0K[0K\u001b[?7h\u001b[?7l\n",
      "mrtransform: [100%] preloading data for \"/home/a1/Desktop/Projects/template/MNI152_T1_2mm_brain.nii.gz\"\u001b[0K[0K\u001b[?7h\u001b[?7l\n",
      "mrtransform: [100%] warping \"/home/a1/Desktop/Projects/template/MNI152_T1_2mm_brain.nii.gz\"\u001b[0K[0K\u001b[?7h\u001b[?7l\n",
      "mrtransform: [100%] compressing image \"/home/a1/Desktop/Projects/forkx/HC_nii/sub-326/streamline/sub-326_MNI2dwi.nii.gz\"\u001b[0K[0K\u001b[?7h\u001b[?7l\n",
      "tcktransform: \u001b[01;31m[ERROR] output track file \"/home/a1/Desktop/Projects/forkx/HC_nii/sub-326/streamline/sub-326_tck2MNI.tck -force\" must use the .tck suffix\u001b[0m\n"
     ]
    },
    {
     "name": "stdout",
     "output_type": "stream",
     "text": [
      "Error running BET: Command '['tcktransform', '/home/a1/Desktop/Projects/forkx/HC_nii/sub-326/streamline/sub-326_streamline.tck', '/home/a1/Desktop/Projects/forkx/HC_nii/sub-326/streamline/sub-326_matrix_warp_MNI2dwi.nii.gz', '/home/a1/Desktop/Projects/forkx/HC_nii/sub-326/streamline/sub-326_tck2MNI.tck -force']' returned non-zero exit status 1.\n",
      "Processing sub-336\n"
     ]
    },
    {
     "name": "stderr",
     "output_type": "stream",
     "text": [
      "warpinit: [100%] generating identity warp\u001b[0K[0K\u001b[?7h\u001b[?7l\n",
      "warpinit: [100%] compressing image \"/home/a1/Desktop/Projects/forkx/HC_nii/sub-336/streamline/sub-336_inv_identity_warp_no.nii.gz\"\u001b[0K[0K\u001b[?7h\u001b[?7l\n",
      "mrtransform: [100%] uncompressing image \"/home/a1/Desktop/Projects/forkx/HC_nii/sub-336/streamline/sub-336_matrix_warp_MNI2dwi.nii.gz\"\u001b[0K[0K\u001b[?7h\u001b[?7l\n",
      "mrtransform: [100%] preloading data for \"/home/a1/Desktop/Projects/forkx/HC_nii/sub-336/streamline/sub-336_matrix_warp_MNI2dwi.nii.gz\"\u001b[0K[0K\u001b[?7h\u001b[?7l\n",
      "mrtransform: [100%] uncompressing image \"/home/a1/Desktop/Projects/template/MNI152_T1_2mm_brain.nii.gz\"\u001b[0K[0K\u001b[?7h\u001b[?7l\n",
      "mrtransform: [100%] preloading data for \"/home/a1/Desktop/Projects/template/MNI152_T1_2mm_brain.nii.gz\"\u001b[0K[0K\u001b[?7h\u001b[?7l\n",
      "mrtransform: [100%] warping \"/home/a1/Desktop/Projects/template/MNI152_T1_2mm_brain.nii.gz\"\u001b[0K[0K\u001b[?7h\u001b[?7l\n",
      "mrtransform: [100%] compressing image \"/home/a1/Desktop/Projects/forkx/HC_nii/sub-336/streamline/sub-336_MNI2dwi.nii.gz\"\u001b[0K[0K\u001b[?7h\u001b[?7l\n",
      "tcktransform: \u001b[01;31m[ERROR] output track file \"/home/a1/Desktop/Projects/forkx/HC_nii/sub-336/streamline/sub-336_tck2MNI.tck -force\" must use the .tck suffix\u001b[0m\n"
     ]
    },
    {
     "name": "stdout",
     "output_type": "stream",
     "text": [
      "Error running BET: Command '['tcktransform', '/home/a1/Desktop/Projects/forkx/HC_nii/sub-336/streamline/sub-336_streamline.tck', '/home/a1/Desktop/Projects/forkx/HC_nii/sub-336/streamline/sub-336_matrix_warp_MNI2dwi.nii.gz', '/home/a1/Desktop/Projects/forkx/HC_nii/sub-336/streamline/sub-336_tck2MNI.tck -force']' returned non-zero exit status 1.\n",
      "Processing sub-343\n"
     ]
    },
    {
     "name": "stderr",
     "output_type": "stream",
     "text": [
      "warpinit: [100%] generating identity warp\u001b[0K[0K\u001b[?7h\u001b[?7l\n",
      "warpinit: [100%] compressing image \"/home/a1/Desktop/Projects/forkx/HC_nii/sub-343/streamline/sub-343_inv_identity_warp_no.nii.gz\"\u001b[0K[0K\u001b[?7h\u001b[?7l\n",
      "mrtransform: [100%] uncompressing image \"/home/a1/Desktop/Projects/forkx/HC_nii/sub-343/streamline/sub-343_matrix_warp_MNI2dwi.nii.gz\"\u001b[0K[0K\u001b[?7h\u001b[?7l\n",
      "mrtransform: [100%] preloading data for \"/home/a1/Desktop/Projects/forkx/HC_nii/sub-343/streamline/sub-343_matrix_warp_MNI2dwi.nii.gz\"\u001b[0K[0K\u001b[?7h\u001b[?7l\n",
      "mrtransform: [100%] uncompressing image \"/home/a1/Desktop/Projects/template/MNI152_T1_2mm_brain.nii.gz\"\u001b[0K[0K\u001b[?7h\u001b[?7l\n",
      "mrtransform: [100%] preloading data for \"/home/a1/Desktop/Projects/template/MNI152_T1_2mm_brain.nii.gz\"\u001b[0K[0K\u001b[?7h\u001b[?7l\n",
      "mrtransform: [100%] warping \"/home/a1/Desktop/Projects/template/MNI152_T1_2mm_brain.nii.gz\"\u001b[0K[0K\u001b[?7h\u001b[?7l\n",
      "mrtransform: [100%] compressing image \"/home/a1/Desktop/Projects/forkx/HC_nii/sub-343/streamline/sub-343_MNI2dwi.nii.gz\"\u001b[0K[0K\u001b[?7h\u001b[?7l\n",
      "tcktransform: \u001b[01;31m[ERROR] output track file \"/home/a1/Desktop/Projects/forkx/HC_nii/sub-343/streamline/sub-343_tck2MNI.tck -force\" must use the .tck suffix\u001b[0m\n"
     ]
    },
    {
     "name": "stdout",
     "output_type": "stream",
     "text": [
      "Error running BET: Command '['tcktransform', '/home/a1/Desktop/Projects/forkx/HC_nii/sub-343/streamline/sub-343_streamline.tck', '/home/a1/Desktop/Projects/forkx/HC_nii/sub-343/streamline/sub-343_matrix_warp_MNI2dwi.nii.gz', '/home/a1/Desktop/Projects/forkx/HC_nii/sub-343/streamline/sub-343_tck2MNI.tck -force']' returned non-zero exit status 1.\n",
      "Processing sub-345\n"
     ]
    },
    {
     "name": "stderr",
     "output_type": "stream",
     "text": [
      "warpinit: [100%] generating identity warp\u001b[0K[0K\u001b[?7h\u001b[?7l\n",
      "warpinit: [100%] compressing image \"/home/a1/Desktop/Projects/forkx/HC_nii/sub-345/streamline/sub-345_inv_identity_warp_no.nii.gz\"\u001b[0K[0K\u001b[?7h\u001b[?7l\n",
      "mrtransform: [100%] uncompressing image \"/home/a1/Desktop/Projects/forkx/HC_nii/sub-345/streamline/sub-345_matrix_warp_MNI2dwi.nii.gz\"\u001b[0K[0K\u001b[?7h\u001b[?7l\n",
      "mrtransform: [100%] preloading data for \"/home/a1/Desktop/Projects/forkx/HC_nii/sub-345/streamline/sub-345_matrix_warp_MNI2dwi.nii.gz\"\u001b[0K[0K\u001b[?7h\u001b[?7l\n",
      "mrtransform: [100%] uncompressing image \"/home/a1/Desktop/Projects/template/MNI152_T1_2mm_brain.nii.gz\"\u001b[0K[0K\u001b[?7h\u001b[?7l\n",
      "mrtransform: [100%] preloading data for \"/home/a1/Desktop/Projects/template/MNI152_T1_2mm_brain.nii.gz\"\u001b[0K[0K\u001b[?7h\u001b[?7l\n",
      "mrtransform: [100%] warping \"/home/a1/Desktop/Projects/template/MNI152_T1_2mm_brain.nii.gz\"\u001b[0K[0K\u001b[?7h\u001b[?7l\n",
      "mrtransform: [100%] compressing image \"/home/a1/Desktop/Projects/forkx/HC_nii/sub-345/streamline/sub-345_MNI2dwi.nii.gz\"\u001b[0K[0K\u001b[?7h\u001b[?7l\n",
      "tcktransform: \u001b[01;31m[ERROR] output track file \"/home/a1/Desktop/Projects/forkx/HC_nii/sub-345/streamline/sub-345_tck2MNI.tck -force\" must use the .tck suffix\u001b[0m\n"
     ]
    },
    {
     "name": "stdout",
     "output_type": "stream",
     "text": [
      "Error running BET: Command '['tcktransform', '/home/a1/Desktop/Projects/forkx/HC_nii/sub-345/streamline/sub-345_streamline.tck', '/home/a1/Desktop/Projects/forkx/HC_nii/sub-345/streamline/sub-345_matrix_warp_MNI2dwi.nii.gz', '/home/a1/Desktop/Projects/forkx/HC_nii/sub-345/streamline/sub-345_tck2MNI.tck -force']' returned non-zero exit status 1.\n",
      "Processing sub-346\n"
     ]
    },
    {
     "name": "stderr",
     "output_type": "stream",
     "text": [
      "warpinit: [100%] generating identity warp\u001b[0K[0K\u001b[?7h\u001b[?7l\n",
      "warpinit: [100%] compressing image \"/home/a1/Desktop/Projects/forkx/HC_nii/sub-346/streamline/sub-346_inv_identity_warp_no.nii.gz\"\u001b[0K[0K\u001b[?7h\u001b[?7l\n",
      "mrtransform: [100%] uncompressing image \"/home/a1/Desktop/Projects/forkx/HC_nii/sub-346/streamline/sub-346_matrix_warp_MNI2dwi.nii.gz\"\u001b[0K[0K\u001b[?7h\u001b[?7l\n",
      "mrtransform: [100%] preloading data for \"/home/a1/Desktop/Projects/forkx/HC_nii/sub-346/streamline/sub-346_matrix_warp_MNI2dwi.nii.gz\"\u001b[0K[0K\u001b[?7h\u001b[?7l\n",
      "mrtransform: [100%] uncompressing image \"/home/a1/Desktop/Projects/template/MNI152_T1_2mm_brain.nii.gz\"\u001b[0K[0K\u001b[?7h\u001b[?7l\n",
      "mrtransform: [100%] preloading data for \"/home/a1/Desktop/Projects/template/MNI152_T1_2mm_brain.nii.gz\"\u001b[0K[0K\u001b[?7h\u001b[?7l\n",
      "mrtransform: [100%] warping \"/home/a1/Desktop/Projects/template/MNI152_T1_2mm_brain.nii.gz\"\u001b[0K[0K\u001b[?7h\u001b[?7l\n",
      "mrtransform: [100%] compressing image \"/home/a1/Desktop/Projects/forkx/HC_nii/sub-346/streamline/sub-346_MNI2dwi.nii.gz\"\u001b[0K[0K\u001b[?7h\u001b[?7l\u001b[?7l\n",
      "tcktransform: \u001b[01;31m[ERROR] output track file \"/home/a1/Desktop/Projects/forkx/HC_nii/sub-346/streamline/sub-346_tck2MNI.tck -force\" must use the .tck suffix\u001b[0m\n"
     ]
    },
    {
     "name": "stdout",
     "output_type": "stream",
     "text": [
      "Error running BET: Command '['tcktransform', '/home/a1/Desktop/Projects/forkx/HC_nii/sub-346/streamline/sub-346_streamline.tck', '/home/a1/Desktop/Projects/forkx/HC_nii/sub-346/streamline/sub-346_matrix_warp_MNI2dwi.nii.gz', '/home/a1/Desktop/Projects/forkx/HC_nii/sub-346/streamline/sub-346_tck2MNI.tck -force']' returned non-zero exit status 1.\n",
      "Processing sub-364\n"
     ]
    }
   ],
   "source": [
    "import os\n",
    "import subprocess\n",
    "\n",
    "# Set up FSL environment\n",
    "fsl_path = \"/home/a1/fsl\"\n",
    "os.environ[\"FSLDIR\"] = fsl_path\n",
    "os.environ[\"PATH\"] += os.pathsep + os.path.join(fsl_path, \"bin\")\n",
    "os.environ[\"FSLOUTPUTTYPE\"] = \"NIFTI_GZ\"\n",
    "\n",
    "# Define base directory where the BIDS data is stored\n",
    "BASE_DIR = \"/home/a1/Desktop/Projects/forkx/HC_nii\"\n",
    "FREE_DIR = \"/home/a1/Desktop/Projects/forkx/HC_nii\"\n",
    "# Path to the list of subjects file\n",
    "SUBJECT_LIST = \"/home/a1/Desktop/Projects/code/hc_list.txt\"\n",
    "\n",
    "# Read the list of subjects\n",
    "with open(SUBJECT_LIST, 'r') as file:\n",
    "    subjects = file.read().splitlines()\n",
    "\n",
    "# Loop over each subject in the list\n",
    "for SUBJ in subjects:\n",
    "    SUBJ_ID = f\"sub-{SUBJ}\"\n",
    "    print(f\"Processing {SUBJ_ID}\")\n",
    "\n",
    "    # Define subject directory\n",
    "    SUBJ_DIR = os.path.join(BASE_DIR, SUBJ_ID)\n",
    "\n",
    "    # Define file paths\n",
    "    t1_fname = os.path.join(SUBJ_DIR, 'dwi', f\"{SUBJ_ID}_brainmask_in_space.nii.gz\")\n",
    "    label_fname = os.path.join(FREE_DIR, f\"{SUBJ}\",\"mri\", \"wm_bin.nii.gz\")\n",
    "    MAT = os.path.join(SUBJ_DIR, 'dwi', f\"{SUBJ_ID}_brainmask_to_dwi.mat\")\n",
    "    BVAL = os.path.join(SUBJ_DIR, 'dwi', f\"{SUBJ_ID}_dwi.bval\")\n",
    "    BVEC = os.path.join(SUBJ_DIR, 'dwi', f\"{SUBJ_ID}_dwi.bvec\")\n",
    "    WM = os.path.join(FREE_DIR, f\"{SUBJ}\",\"mri\", \"wm_in_dwi.nii.gz\")\n",
    "    EDDY_IMAGE = os.path.join(SUBJ_DIR, 'dwi', f\"{SUBJ_ID}_dwi_brain.nii.gz\")\n",
    "    OUT=os.path.join(SUBJ_DIR, 'dwi', f\"{SUBJ_ID}_b0_brain_in_MNI.nii.gz\")\n",
    "    WM_bin = os.path.join(FREE_DIR, f\"{SUBJ}\",\"mri\", \"wm_bin.nii.gz\")\n",
    "    WM_MIF = os.path.join(FREE_DIR, f\"{SUBJ}\",\"mri\", \"wm.mif\")\n",
    "    B0=os.path.join(SUBJ_DIR, 'dwi', f\"{SUBJ_ID}_b0.nii.gz\")\n",
    "    mean_B0=os.path.join(SUBJ_DIR, 'dwi', f\"{SUBJ_ID}_b0_mean.nii.gz\")\n",
    "    brain=os.path.join(FREE_DIR, f\"{SUBJ}\",\"mri\", \"brain.mgz\")\n",
    "    brainnii=os.path.join(FREE_DIR, f\"{SUBJ}\",\"mri\", \"brain.nii.gz\")\n",
    "    TEM='/home/a1/Desktop/Projects/template/MNI152_T1_2mm_brain.nii.gz'\n",
    "\n",
    "\n",
    "    eddy_OUTPUT=os.path.join(SUBJ_DIR, 'dwi', f\"{SUBJ_ID}_dwi_in_MNI.nii.gz\")\n",
    "    B0_in_MNI=os.path.join(SUBJ_DIR, 'dwi', f\"{SUBJ_ID}_b0_brain_in_MNI.nii.gz1Warp.nii.gz\") \n",
    "    TransMAT=os.path.join(SUBJ_DIR, 'dwi', f\"{SUBJ_ID}_b0_brain_in_MNI.nii.gz0GenericAffine.mat\") \n",
    "    MRTIX3_DWI = os.path.join(SUBJ_DIR, 'dwi', f\"{SUBJ_ID}_dwi.mif\") \n",
    "    fOD = os.path.join(SUBJ_DIR, 'dwi', f\"{SUBJ_ID}_fod.mif\") \n",
    "    reponsetxt=os.path.join(SUBJ_DIR, 'dwi', f\"{SUBJ_ID}_response_wm.txt\") \n",
    "    streamlines=os.path.join(SUBJ_DIR, 'streamline', f\"{SUBJ_ID}_streamline.tck\") \n",
    "    flix=os.path.join(SUBJ_DIR, 'streamline', f\"{SUBJ_ID}\")\n",
    "    t1_fname = os.path.join(SUBJ_DIR, 'anat', f\"{SUBJ_ID}_T1w.nii.gz\")\n",
    "    #00#\n",
    "\n",
    "   # convert_cmd = [\"mri_convert\", brain, brainnii]\n",
    "    #try:\n",
    "     #   subprocess.run(convert_cmd, check=True)\n",
    "    #except subprocess.CalledProcessError as e:\n",
    "     #   print(f\"Error running BET: {e}\")\n",
    "      #  continue\n",
    "\n",
    "\n",
    "\n",
    "    #ss\n",
    "    #convert_cmd = [\"epi_reg\", \"--pedir=-y\", \"--echospacing=2.1e-0.6\", f\"--epi={mean_B0}\", f\"--t1={t1_fname}\", f\"--t1brain={brainnii}\",\n",
    "     #              f\"--out={flix}_dwi2T1\"]\n",
    "    #try:\n",
    "     #   subprocess.run(convert_cmd, check=True)\n",
    "    #except subprocess.CalledProcessError as e:\n",
    "        #print(f\"Error running BET: {e}\")\n",
    "       # continue\n",
    "    #211#\n",
    "   # convert_cmd = [\"convert_xfm\", \"-omat\", f\"{flix}_T12dwi.mat\", \"-inverse\", f\"{flix}_dwi2T1.mat\"]\n",
    "    #try:\n",
    "     #   subprocess.run(convert_cmd, check=True)\n",
    "    #except subprocess.CalledProcessError as e:\n",
    "     #   print(f\"Error running BET: {e}\")\n",
    "      #  continue\n",
    "    \n",
    "    \n",
    "    #33#\n",
    "  #  convert_cmd = [\"flirt\", \"-in\", brainnii, \"-ref\", mean_B0, \"-out\", f\"{flix}_T12dwi.nii.gz\", \"-init\", f\"{flix}_T12dwi.mat\",\n",
    "   #                 \"-applyxfm\"]\n",
    "   # try:              \n",
    "    #    subprocess.run(convert_cmd, check=True)\n",
    "    #except subprocess.CalledProcessError as e:\n",
    "     #   print(f\"Error running BET: {e}\")\n",
    "      #  continue\n",
    "    \n",
    "    #44#\n",
    " #   convert_cmd = [\"flirt\", \"-in\", f\"{flix}_T12dwi.nii.gz\", \"-ref\", TEM,  \"-omat\" ,f\"{flix}_T12MNI_affine.mat\"]\n",
    "  #  try:              \n",
    "   #     subprocess.run(convert_cmd, check=True)\n",
    "   # except subprocess.CalledProcessError as e:\n",
    "    #    print(f\"Error running BET: {e}\")\n",
    "     #   continue\n",
    "\n",
    "    \n",
    "    TEM='/home/a1/Desktop/Projects/template/MNI152_T1_2mm_brain.nii.gz'\n",
    "#44#\n",
    "    convert_cmd = [\"fnirt\", f\"--ref={TEM}\", f\"--in={flix}_T12dwi.nii.gz\", f\"--aff={flix}_T12MNI_affine.mat\", f\"--cout={flix}_warps_T12MNI\"]             \n",
    "    try:\n",
    "        subprocess.run(convert_cmd, check=True)\n",
    "    except subprocess.CalledProcessError as e:\n",
    "        print(f\"Error running BET: {e}\")\n",
    "        continue\n",
    "\n",
    "#55#\n",
    "    convert_cmd = [\"invwarp\", f\"--ref={flix}_T12dwi.nii.gz\", f\"--warp={flix}_warps_T12MNI\", f\"--out={flix}_warps_MNI2T1\"]\n",
    "    try:\n",
    "        subprocess.run(convert_cmd, check=True)\n",
    "    except subprocess.CalledProcessError as e:\n",
    "        print(f\"Error running BET: {e}\")\n",
    "        continue\n",
    "\n",
    "#66#warpinit MNI152_T1_3mm_brain.nii.gz inv_identity_warp_no.nii\n",
    "    convert_cmd = [\"warpinit\", TEM, f\"{flix}_inv_identity_warp_no.nii.gz\"]\n",
    "    try:\n",
    "        subprocess.run(convert_cmd, check=True)\n",
    "    except subprocess.CalledProcessError as e:\n",
    "        print(f\"Error running BET: {e}\")\n",
    "        continue\n",
    "\n",
    "\n",
    "#77#applywarp --ref=b0_brain.nii.gz --in=inv_identity_warp_no.nii --warp=warps_MNI2T1.nii.gz --out=mrtrix_warp_MNI2dwi.nii.gz\n",
    "    convert_cmd = [\"applywarp\", f\"--ref={mean_B0}\", f\"--in={flix}_inv_identity_warp_no.nii.gz\", f\"--warp={flix}_warps_MNI2T1.nii.gz\", \n",
    "                   f\"--out={flix}_matrix_warp_MNI2dwi.nii.gz\"]\n",
    "    try:\n",
    "        subprocess.run(convert_cmd, check=True)\n",
    "    except subprocess.CalledProcessError as e:\n",
    "        print(f\"Error running BET: {e}\")\n",
    "        continue\n",
    "\n",
    "\n",
    "#77#mrtransform MNI152_T1_3mm_brain.nii.gz -warp mrtrix_warp_MNI2dwi.nii.gz MNI2dwi.nii.gz\n",
    "    convert_cmd = [\"mrtransform\", TEM, \"-warp\", f\"{flix}_matrix_warp_MNI2dwi.nii.gz\", f\"{flix}_MNI2dwi.nii.gz\"]\n",
    "    try:\n",
    "        subprocess.run(convert_cmd, check=True)\n",
    "    except subprocess.CalledProcessError as e:\n",
    "        print(f\"Error running BET: {e}\")\n",
    "        continue\n",
    "\n",
    "\n",
    "\n",
    "\n",
    "\n",
    "    #77#tcktransform ACT_50M.tck mrtrix_warp_MNI2dwi.nii.gz tck2MNI.tck -force\n",
    "    convert_cmd = [\"tcktransform\", f\"{flix}_streamline.tck\", f\"{flix}_matrix_warp_MNI2dwi.nii.gz\", f\"{flix}_tck2MNI.tck\", \"-force\"]\n",
    "    try:\n",
    "        subprocess.run(convert_cmd, check=True)\n",
    "    except subprocess.CalledProcessError as e:\n",
    "        print(f\"Error running BET: {e}\")\n",
    "        continue"
   ]
  },
  {
   "cell_type": "code",
   "execution_count": null,
   "id": "00c3417d-98f4-4c47-81b0-e3188a0c8c99",
   "metadata": {},
   "outputs": [],
   "source": [
    "\n",
    "\n",
    "    \n",
    "#    TEM='/home/a1/Desktop/Projects/template/MNI152_T1_2mm_brain.nii.gz'\n",
    "#44#\n",
    " #   convert_cmd = [\"fnirt\", f\"--ref={brainnii}\", f\"--in={flix}_T12dwi.nii.gz\", f\"--aff={flix}_T12MNI_affine.mat\", f\"--cout={flix}_warps_T12MNI\"]             \n",
    "  #  try:\n",
    "   #     subprocess.run(convert_cmd, check=True)\n",
    "   # except subprocess.CalledProcessError as e:\n",
    "    #    print(f\"Error running BET: {e}\")\n",
    "     #   continue\n",
    "\n",
    "#55#\n",
    "    \n",
    "   # convert_cmd = [\"invwarp\", f\"--ref={flix}_T12dwi.nii.gz\", f\"--warp={flix}_warps_T12MNI\", f\"--out={flix}_warps_MNI2T1\"]\n",
    "    #try:\n",
    "     #   subprocess.run(convert_cmd, check=True)\n",
    "    #except subprocess.CalledProcessError as e:\n",
    "     #   print(f\"Error running BET: {e}\")\n",
    "      #  continue\n",
    "\n",
    "#66#\n",
    " #   convert_cmd = [\"warpinit\", TEM, f\"{flix}_inv_identity_warp_no.nii.gz\"]\n",
    "    try:\n",
    "        subprocess.run(convert_cmd, check=True)\n",
    "    except subprocess.CalledProcessError as e:\n",
    "        print(f\"Error running BET: {e}\")\n",
    "        continue\n",
    "\n",
    "\n",
    "#77#\n",
    "    convert_cmd = [\"applywarp\", f\"--ref={mean_B0}\", f\"--in={flix}_inv_identity_warp_no.nii.gz\", f\"--warp={flix}_warps_MNI2T1.nii.gz\", f\"--out={flix}_matrix_warp_MNI2dwi.nii.gz\"]\n",
    "    try:\n",
    "        subprocess.run(convert_cmd, check=True)\n",
    "    except subprocess.CalledProcessError as e:\n",
    "        print(f\"Error running BET: {e}\")\n",
    "        continue\n",
    "\n",
    "\n",
    "#77#\n",
    "    convert_cmd = [\"mrtransform\", TEM, \"-warp\", f\"{flix}_matrix_warp_MNI2dwi.nii.gz\", f\"{flix}_MNI2dwi.nii.gz\"]\n",
    "    try:\n",
    "        subprocess.run(convert_cmd, check=True)\n",
    "    except subprocess.CalledProcessError as e:\n",
    "        print(f\"Error running BET: {e}\")\n",
    "        continue\n",
    "\n",
    "\n",
    "\n",
    "\n",
    "\n",
    "    #77#\n",
    "    convert_cmd = [\"tcktransform\", f\"{flix}_streamline.tck\", f\"{flix}_matrix_warp_MNI2dwi.nii.gz\", f\"{flix}_tck2MNI.tck -force\"]\n",
    "    try:\n",
    "        subprocess.run(convert_cmd, check=True)\n",
    "    except subprocess.CalledProcessError as e:\n",
    "        print(f\"Error running BET: {e}\")\n",
    "        continue"
   ]
  },
  {
   "cell_type": "code",
   "execution_count": null,
   "id": "57a9cd30-3093-4ebc-9adf-4162d8b67390",
   "metadata": {},
   "outputs": [],
   "source": [
    "import numpy as np\n",
    "import matplotlib.pyplot as plt\n",
    "from scipy.ndimage import binary_dilation\n",
    "\n",
    "from dipy.core.gradients import gradient_table\n",
    "from dipy.data import get_fnames\n",
    "from dipy.io.gradients import read_bvals_bvecs\n",
    "from dipy.io.image import load_nifti_data, load_nifti, save_nifti\n",
    "from dipy.io.stateful_tractogram import Space, StatefulTractogram\n",
    "from dipy.io.streamline import save_trk\n",
    "from dipy.direction import peaks\n",
    "from dipy.reconst import shm\n",
    "from dipy.tracking import utils\n",
    "from dipy.tracking.local_tracking import LocalTracking\n",
    "from dipy.tracking.stopping_criterion import BinaryStoppingCriterion\n",
    "from dipy.tracking.streamline import Streamlines\n",
    "from dipy.viz import window, actor, colormap as cmap\n",
    "from os.path import join as pjoin\n",
    "\n",
    "from dipy.align import affine_registration, syn_registration\n",
    "from dipy.align.reslice import reslice\n",
    "from dipy.core.gradients import gradient_table\n",
    "from dipy.data import get_fnames, fetch_stanford_tracks\n",
    "from dipy.data.fetcher import (fetch_mni_template, read_mni_template)\n",
    "from dipy.io.gradients import read_bvals_bvecs\n",
    "from dipy.io.image import load_nifti\n",
    "from dipy.io.stateful_tractogram import Space, StatefulTractogram\n",
    "from dipy.io.streamline import save_tractogram, load_tractogram\n",
    "from dipy.segment.mask import median_otsu\n",
    "from dipy.tracking.streamline import transform_streamlines\n",
    "from dipy.viz import regtools, has_fury, horizon\n",
    "import os\n",
    "\n",
    "import nibabel as nib\n",
    "from dipy.io.stateful_tractogram import Space, StatefulTractogram\n",
    "from dipy.io.streamline import load_tractogram, save_tractogram\n",
    "from dipy.io.utils import (create_nifti_header, get_reference_info,\n",
    "                           is_header_compatible)\n",
    "from dipy.tracking.streamline import select_random_set_of_streamlines\n",
    "from dipy.tracking.utils import density_map\n",
    "\n",
    "from dipy.data.fetcher import (fetch_file_formats,\n",
    "                               get_file_formats)"
   ]
  }
 ],
 "metadata": {
  "kernelspec": {
   "display_name": "Python 3 (ipykernel)",
   "language": "python",
   "name": "python3"
  },
  "language_info": {
   "codemirror_mode": {
    "name": "ipython",
    "version": 3
   },
   "file_extension": ".py",
   "mimetype": "text/x-python",
   "name": "python",
   "nbconvert_exporter": "python",
   "pygments_lexer": "ipython3",
   "version": "3.11.9"
  }
 },
 "nbformat": 4,
 "nbformat_minor": 5
}
