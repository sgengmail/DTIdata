{
 "cells": [
  {
   "cell_type": "code",
   "execution_count": null,
   "id": "9a0760ff-4dd8-41b6-8030-f197fb2da881",
   "metadata": {},
   "outputs": [
    {
     "name": "stdout",
     "output_type": "stream",
     "text": [
      "Processing sub-011\n",
      "mri_convert /home/a1/Desktop/Projects/forkx/MDD_nii/011/mri/wm.mgz /home/a1/Desktop/Projects/forkx/MDD_nii/011/mri/wm.nii.gz \n",
      "reading from /home/a1/Desktop/Projects/forkx/MDD_nii/011/mri/wm.mgz...\n",
      "TR=6.65, TE=0.00, TI=0.00, flip angle=0.00\n",
      "i_ras = (-1, 0, 0)\n",
      "j_ras = (0, 0, -1)\n",
      "k_ras = (0, 1, 0)\n",
      "writing to /home/a1/Desktop/Projects/forkx/MDD_nii/011/mri/wm.nii.gz...\n"
     ]
    },
    {
     "name": "stderr",
     "output_type": "stream",
     "text": [
      "Warning: An input intended to be a single 3D volume has multiple timepoints. Input will be truncated to first volume, but this functionality is deprecated and will be removed in a future release.\n"
     ]
    },
    {
     "name": "stdout",
     "output_type": "stream",
     "text": [
      "sub-011 processing completed.\n",
      "Processing sub-031\n",
      "mri_convert /home/a1/Desktop/Projects/forkx/MDD_nii/031/mri/wm.mgz /home/a1/Desktop/Projects/forkx/MDD_nii/031/mri/wm.nii.gz \n",
      "reading from /home/a1/Desktop/Projects/forkx/MDD_nii/031/mri/wm.mgz...\n",
      "TR=6.65, TE=0.00, TI=0.00, flip angle=0.00\n",
      "i_ras = (-1, 0, 0)\n",
      "j_ras = (0, 0, -1)\n",
      "k_ras = (0, 1, 0)\n",
      "writing to /home/a1/Desktop/Projects/forkx/MDD_nii/031/mri/wm.nii.gz...\n"
     ]
    },
    {
     "name": "stderr",
     "output_type": "stream",
     "text": [
      "Warning: An input intended to be a single 3D volume has multiple timepoints. Input will be truncated to first volume, but this functionality is deprecated and will be removed in a future release.\n"
     ]
    },
    {
     "name": "stdout",
     "output_type": "stream",
     "text": [
      "sub-031 processing completed.\n",
      "Processing sub-034\n",
      "Error: /home/a1/Desktop/Projects/forkx/MDD_nii/sub-034/dwi/sub-034_dwi_brain.nii.gz was not created.\n",
      "Processing sub-036\n",
      "Error: /home/a1/Desktop/Projects/forkx/MDD_nii/sub-036/dwi/sub-036_dwi_brain.nii.gz was not created.\n",
      "Processing sub-040\n",
      "mri_convert /home/a1/Desktop/Projects/forkx/MDD_nii/040/mri/wm.mgz /home/a1/Desktop/Projects/forkx/MDD_nii/040/mri/wm.nii.gz \n",
      "reading from /home/a1/Desktop/Projects/forkx/MDD_nii/040/mri/wm.mgz...\n",
      "TR=6.65, TE=0.00, TI=0.00, flip angle=0.00\n",
      "i_ras = (-1, 0, 0)\n",
      "j_ras = (0, 0, -1)\n",
      "k_ras = (0, 1, 0)\n",
      "writing to /home/a1/Desktop/Projects/forkx/MDD_nii/040/mri/wm.nii.gz...\n"
     ]
    }
   ],
   "source": [
    "\n",
    "import os\n",
    "import subprocess\n",
    "\n",
    "# Set up FSL environment\n",
    "fsl_path = \"/home/a1/fsl\"\n",
    "os.environ[\"FSLDIR\"] = fsl_path\n",
    "os.environ[\"PATH\"] += os.pathsep + os.path.join(fsl_path, \"bin\")\n",
    "os.environ[\"FSLOUTPUTTYPE\"] = \"NIFTI_GZ\"\n",
    "\n",
    "# Define base directory where the BIDS data is stored\n",
    "BASE_DIR = \"/home/a1/Desktop/Projects/forkx/MDD_nii\"\n",
    "FREE_DIR = \"/home/a1/Desktop/Projects/forkx/MDD_nii\"\n",
    "# Path to the list of subjects file\n",
    "SUBJECT_LIST = \"/home/a1/Desktop/Projects/code/mdd_list.txt\"\n",
    "\n",
    "# Read the list of subjects\n",
    "with open(SUBJECT_LIST, 'r') as file:\n",
    "    subjects = file.read().splitlines()\n",
    "\n",
    "# Loop over each subject in the list\n",
    "for SUBJ in subjects:\n",
    "    SUBJ_ID = f\"sub-{SUBJ}\"\n",
    "    print(f\"Processing {SUBJ_ID}\")\n",
    "\n",
    "    # Define subject directory\n",
    "    SUBJ_DIR = os.path.join(BASE_DIR, SUBJ_ID)\n",
    "\n",
    "    # Define file paths\n",
    "    OUTPUT = os.path.join(SUBJ_DIR, 'dwi', f\"{SUBJ_ID}_brainmask_in_space.nii.gz\")\n",
    "    WM = os.path.join(FREE_DIR, f\"{SUBJ}\",\"mri\", \"wm.nii.gz\")\n",
    "    WM_ORIG = os.path.join(FREE_DIR, f\"{SUBJ}\",\"mri\", \"wm.mgz\")\n",
    "    WM_in_dwi =os.path.join(FREE_DIR, f\"{SUBJ}\", \"mri\", \"wm_in_dwi.nii.gz\")\n",
    "    OUT_MASK = os.path.join(FREE_DIR, f\"{SUBJ}\", \"mri\", \"wm_bin.nii.gz\")\n",
    "    MAT = os.path.join(SUBJ_DIR, 'dwi', f\"{SUBJ_ID}_brainmask_to_dwi.mat\")\n",
    "    BVAL = os.path.join(SUBJ_DIR, 'dwi', f\"{SUBJ_ID}_dwi.bval\")\n",
    "    EDDY_IMAGE = os.path.join(SUBJ_DIR, 'dwi', f\"{SUBJ_ID}_dwi_brain.nii.gz\")\n",
    "    OUT=os.path.join(SUBJ_DIR, 'dwi', f\"{SUBJ_ID}_dwi_brain.nii.gz\")\n",
    "    eddy_OUTPUT=os.path.join(SUBJ_DIR, 'dwi', f\"{SUBJ_ID}_dwi_in_MNI.nii.gz\")\n",
    "\n",
    "\n",
    "    # Check if the EDYY CORRECTED file was created\n",
    "    if not os.path.exists(EDDY_IMAGE):\n",
    "        print(f\"Error: {EDDY_IMAGE} was not created.\")\n",
    "        continue\n",
    "\n",
    "\n",
    "\n",
    "    # Run BET to extract brain mask\n",
    "    convert_cmd = ['mri_convert', WM_ORIG, WM]\n",
    "    try:\n",
    "        subprocess.run(convert_cmd, check=True)\n",
    "    except subprocess.CalledProcessError as e:\n",
    "        print(f\"Error running BET: {e}\")\n",
    "        continue\n",
    "    \n",
    "    \n",
    "\n",
    "  \n",
    "# Run EDdy to correct distortions\n",
    "    flirt_cmd = ['flirt',\n",
    "        '-in',WM,\n",
    "        '-ref',EDDY_IMAGE,\n",
    "        '-applyxfm',\n",
    "        '-init',MAT,\n",
    "        '-out',WM_in_dwi,\n",
    "        '-interp',\"nearestneighbour\"\n",
    "    ]\n",
    "    try:\n",
    "        subprocess.run(flirt_cmd, check=True)\n",
    "    except subprocess.CalledProcessError as e:\n",
    "        print(f\"Error running flirt: {e}\")\n",
    "        continue\n",
    "\n",
    "\n",
    "        \n",
    "\n",
    "    fslmask_cmd = [\n",
    "        'fslmaths',\n",
    "        WM_in_dwi,\n",
    "        '-thr',\n",
    "        '0.5'\n",
    "        '-bin',  \n",
    "        OUT_MASK\n",
    "    ]\n",
    "\n",
    "    try:\n",
    "        subprocess.run(fslmask_cmd, check=True)\n",
    "    except subprocess.CalledProcessError as e:\n",
    "        print(f\"Error running fslmaths: {e}\")\n",
    "    \n",
    "    print(f\"{SUBJ_ID} processing completed.\")\n",
    "\n"
   ]
  },
  {
   "cell_type": "code",
   "execution_count": null,
   "id": "4e7fe34c-f956-4ea5-a479-e98c221b2393",
   "metadata": {},
   "outputs": [],
   "source": []
  }
 ],
 "metadata": {
  "kernelspec": {
   "display_name": "Python 3 (ipykernel)",
   "language": "python",
   "name": "python3"
  },
  "language_info": {
   "codemirror_mode": {
    "name": "ipython",
    "version": 3
   },
   "file_extension": ".py",
   "mimetype": "text/x-python",
   "name": "python",
   "nbconvert_exporter": "python",
   "pygments_lexer": "ipython3",
   "version": "3.11.9"
  }
 },
 "nbformat": 4,
 "nbformat_minor": 5
}
