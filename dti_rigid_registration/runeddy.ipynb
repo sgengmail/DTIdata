{
 "cells": [
  {
   "cell_type": "code",
   "execution_count": 2,
   "id": "8b3246a1-dc73-4149-aae2-42accd484677",
   "metadata": {},
   "outputs": [
    {
     "name": "stdout",
     "output_type": "stream",
     "text": [
      "Processing sub-219\n",
      "\n",
      "Error: input image /home/a1/Desktop/Projects/forkx/MDD_nii/sub-219/dwi/sub-219_dwi not valid\n",
      "\n",
      "Error running BET: Command '['bet', '/home/a1/Desktop/Projects/forkx/MDD_nii/sub-219/dwi/sub-219_dwi.nii.gz', '/home/a1/Desktop/Projects/forkx/MDD_nii/sub-219/dwi/sub-219_dwi_brain-mask.nii.gz', '-f', '0.2']' returned non-zero exit status 1.\n",
      "Processing sub-221\n",
      "\n",
      "Error: input image /home/a1/Desktop/Projects/forkx/MDD_nii/sub-221/dwi/sub-221_dwi not valid\n",
      "\n",
      "Error running BET: Command '['bet', '/home/a1/Desktop/Projects/forkx/MDD_nii/sub-221/dwi/sub-221_dwi.nii.gz', '/home/a1/Desktop/Projects/forkx/MDD_nii/sub-221/dwi/sub-221_dwi_brain-mask.nii.gz', '-f', '0.2']' returned non-zero exit status 1.\n",
      "Processing sub-230\n"
     ]
    },
    {
     "name": "stderr",
     "output_type": "stream",
     "text": [
      "Warning: An input intended to be a single 3D volume has multiple timepoints. Input will be truncated to first volume, but this functionality is deprecated and will be removed in a future release.\n"
     ]
    },
    {
     "name": "stdout",
     "output_type": "stream",
     "text": [
      "\n",
      "Warning: In a future release the first argument will have to be \"diffusion\" when using eddy on diffusion data, i.e.\n",
      "eddy diffusion --imain='my_ima' --acqp='my_acqp' ...\n",
      "\n",
      "Warning: Writing of individual text files will be discontinued in favour of a single .json file in future versions\n",
      "\n",
      "sub-230 processing completed.\n",
      "Processing sub-235\n"
     ]
    },
    {
     "name": "stderr",
     "output_type": "stream",
     "text": [
      "Warning: An input intended to be a single 3D volume has multiple timepoints. Input will be truncated to first volume, but this functionality is deprecated and will be removed in a future release.\n"
     ]
    },
    {
     "name": "stdout",
     "output_type": "stream",
     "text": [
      "\n",
      "Warning: In a future release the first argument will have to be \"diffusion\" when using eddy on diffusion data, i.e.\n",
      "eddy diffusion --imain='my_ima' --acqp='my_acqp' ...\n",
      "\n",
      "Warning: Writing of individual text files will be discontinued in favour of a single .json file in future versions\n",
      "\n",
      "sub-235 processing completed.\n"
     ]
    }
   ],
   "source": [
    "import os\n",
    "import subprocess\n",
    "\n",
    "# Set up FSL environment\n",
    "fsl_path = \"/home/a1/fsl\"\n",
    "os.environ[\"FSLDIR\"] = fsl_path\n",
    "os.environ[\"PATH\"] += os.pathsep + os.path.join(fsl_path, \"bin\")\n",
    "os.environ[\"FSLOUTPUTTYPE\"] = \"NIFTI_GZ\"\n",
    "\n",
    "# Define base directory where the BIDS data is stored\n",
    "BASE_DIR = \"/home/a1/Desktop/Projects/forkx/MDD_nii\"\n",
    "\n",
    "# Path to the list of subjects file\n",
    "SUBJECT_LIST = \"/home/a1/Desktop/Projects/code/to9.txt\"\n",
    "\n",
    "# Define constants for acqp and index files\n",
    "ACQP = \"/home/a1/Desktop/Projects/code/acqparams.txt\"\n",
    "INDEX = \"/home/a1/Desktop/Projects/code/index.txt\"\n",
    "\n",
    "# Read the list of subjects\n",
    "with open(SUBJECT_LIST, 'r') as file:\n",
    "    subjects = file.read().splitlines()\n",
    "\n",
    "# Loop over each subject in the list\n",
    "for SUBJ_ID in subjects:\n",
    "    SUBJ_ID = f\"sub-{SUBJ_ID}\"\n",
    "    print(f\"Processing {SUBJ_ID}\")\n",
    "\n",
    "    # Define subject directory\n",
    "    SUBJ_DIR = os.path.join(BASE_DIR, SUBJ_ID)\n",
    "\n",
    "    # Define file paths\n",
    "    DWI_IMAGE = os.path.join(SUBJ_DIR, 'dwi', f\"{SUBJ_ID}_dwi.nii.gz\")\n",
    "    MASK = os.path.join(SUBJ_DIR, 'dwi', f\"{SUBJ_ID}_dwi_brain-mask.nii.gz\")\n",
    "    BVEC = os.path.join(SUBJ_DIR, 'dwi', f\"{SUBJ_ID}_dwi.bvec\")\n",
    "    BVAL = os.path.join(SUBJ_DIR, 'dwi', f\"{SUBJ_ID}_dwi.bval\")\n",
    "    OUTPUT = os.path.join(SUBJ_DIR, 'dwi', f\"{SUBJ_ID}_eddy_corrected\")\n",
    "\n",
    "   \n",
    "    # Run BET to extract brain mask\n",
    "    bet_cmd = ['bet', DWI_IMAGE, MASK, '-f', '0.2']\n",
    "    try:\n",
    "        subprocess.run(bet_cmd, check=True)\n",
    "    except subprocess.CalledProcessError as e:\n",
    "        print(f\"Error running BET: {e}\")\n",
    "        continue\n",
    "\n",
    "    # Check if the MASK file was created\n",
    "    if not os.path.exists(MASK):\n",
    "        print(f\"Error: {MASK} was not created.\")\n",
    "        continue\n",
    "\n",
    "\n",
    "    # Run EDdy to correct distortions\n",
    "    eddy_cmd = [\n",
    "        'eddy',\n",
    "        f'--imain={DWI_IMAGE}',\n",
    "        f'--mask={MASK}',\n",
    "        f'--acqp={ACQP}',\n",
    "        f'--index={INDEX}',\n",
    "        f'--bvecs={BVEC}',\n",
    "        f'--bvals={BVAL}',\n",
    "        f'--out={OUTPUT}'\n",
    "    ]\n",
    "    try:\n",
    "        subprocess.run(eddy_cmd, check=True)\n",
    "    except subprocess.CalledProcessError as e:\n",
    "        print(f\"Error running EDdy: {e}\")\n",
    "        continue\n",
    "\n",
    "    print(f\"{SUBJ_ID} processing completed.\")\n"
   ]
  },
  {
   "cell_type": "code",
   "execution_count": null,
   "id": "cfcc0bb9-6bf1-4619-982f-693b95ea83f5",
   "metadata": {},
   "outputs": [],
   "source": []
  }
 ],
 "metadata": {
  "kernelspec": {
   "display_name": "Python 3 (ipykernel)",
   "language": "python",
   "name": "python3"
  },
  "language_info": {
   "codemirror_mode": {
    "name": "ipython",
    "version": 3
   },
   "file_extension": ".py",
   "mimetype": "text/x-python",
   "name": "python",
   "nbconvert_exporter": "python",
   "pygments_lexer": "ipython3",
   "version": "3.11.9"
  }
 },
 "nbformat": 4,
 "nbformat_minor": 5
}
