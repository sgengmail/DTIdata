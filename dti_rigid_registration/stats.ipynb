{
 "cells": [
  {
   "cell_type": "code",
   "execution_count": 51,
   "id": "a7786b87-f3ca-41a6-8e34-63bff16083eb",
   "metadata": {},
   "outputs": [],
   "source": [
    "import os\n",
    "import subprocess\n",
    "import numpy as np\n",
    "from scipy.stats import ttest_ind\n",
    "from statsmodels.stats.multitest import multipletests\n",
    "\n",
    "\n",
    "# Define base directory where the BIDS data is stored\n",
    "pa_f = \"/home/a1/Desktop/Projects/HC\"\n",
    "cn_f = \"/home/a1/Desktop/Projects/MDD\"\n",
    "# Path to the list of subjects file\n",
    "\n",
    "def load_fc_matrices(folder):\n",
    "    fc_matrices=[]\n",
    "    for file in os.listdir(folder):\n",
    "        if file.endswith(\".csv\"):         \n",
    "            txtfile= os.path.join(folder,file)   \n",
    "            matrix = np.loadtxt(txtfile,delimiter=\",\")\n",
    "            fc_matrices.append(matrix)\n",
    "    return np.array(fc_matrices)\n",
    "    \n",
    "\n",
    "fc_matrix_pa = load_fc_matrices(pa_f)\n",
    "fc_matrix_cn = load_fc_matrices(cn_f)\n",
    "\n",
    "t_values, p_values = ttest_ind(fc_matrix_pa, fc_matrix_cn, axis=0)\n",
    "\n",
    "p_values_flat = p_values.flatten()\n",
    "_,p_values_corrected,_,_=multipletests(p_values_flat,alpha=0.05,method='fdr_bh')\n",
    "p_values_corrected=p_values_corrected.reshape(p_values.shape)\n",
    "\n",
    "sig_connectionss = p_values_corrected < 0.05\n"
   ]
  },
  {
   "cell_type": "code",
   "execution_count": null,
   "id": "38afa5d9-6808-428d-8b27-bf3ee56a5718",
   "metadata": {},
   "outputs": [],
   "source": []
  }
 ],
 "metadata": {
  "kernelspec": {
   "display_name": "Python 3 (ipykernel)",
   "language": "python",
   "name": "python3"
  },
  "language_info": {
   "codemirror_mode": {
    "name": "ipython",
    "version": 3
   },
   "file_extension": ".py",
   "mimetype": "text/x-python",
   "name": "python",
   "nbconvert_exporter": "python",
   "pygments_lexer": "ipython3",
   "version": "3.11.9"
  }
 },
 "nbformat": 4,
 "nbformat_minor": 5
}
