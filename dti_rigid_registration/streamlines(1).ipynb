{
 "cells": [
  {
   "cell_type": "code",
   "execution_count": 21,
   "id": "5a537154-c3d5-4c5e-889a-899a5be348ea",
   "metadata": {
    "scrolled": true
   },
   "outputs": [
    {
     "name": "stdout",
     "output_type": "stream",
     "text": [
      "Processing sub-011\n",
      "not created\n"
     ]
    },
    {
     "name": "stderr",
     "output_type": "stream",
     "text": [
      "mrconvert: [100%] uncompressing image \"/home/a1/Desktop/Projects/forkx/MDD_nii/011/mri/wm_bin.nii.gz\"\u001b[0K[0K\u001b[?7h\u001b[?7l\n",
      "mrconvert: [100%] copying from \"/home/a1/D...D_nii/011/mri/wm_bin.nii.gz\" to \"/home/a1/D...orkx/MDD_nii/011/mri/wm.mif\"\u001b[0K[0K\u001b[?7h\n",
      "tckgen: \u001b[00;31m[WARNING] ignoring -backtrack option - only valid if using ACT\u001b[0m\n",
      "tckgen: [100%]     7180 seeds,     7169 streamlines,     5000 selected\u001b[0K\u001b[?7h\u001b[?7l\u001b[?7l\u001b[?7l\u001b[?7l\u001b[?7l\u001b[?7l\u001b[?7l\u001b[?7l\u001b[?7l\u001b[?7l\u001b[?7l\u001b[?7l\n"
     ]
    },
    {
     "name": "stdout",
     "output_type": "stream",
     "text": [
      "Processing sub-031\n",
      "not created\n"
     ]
    },
    {
     "name": "stderr",
     "output_type": "stream",
     "text": [
      "mrconvert: [100%] uncompressing image \"/home/a1/Desktop/Projects/forkx/MDD_nii/031/mri/wm_bin.nii.gz\"\u001b[0K[0K\u001b[?7h\u001b[?7l\n",
      "mrconvert: [100%] copying from \"/home/a1/D...D_nii/031/mri/wm_bin.nii.gz\" to \"/home/a1/D...orkx/MDD_nii/031/mri/wm.mif\"\u001b[0K[0K\u001b[?7h\u001b[?7l\n",
      "tckgen: \u001b[00;31m[WARNING] ignoring -backtrack option - only valid if using ACT\u001b[0m\n",
      "tckgen: [100%]     6697 seeds,     6674 streamlines,     5000 selected\u001b[0K\u001b[?7h\u001b[?7l\u001b[?7l\u001b[?7l\u001b[?7l\u001b[?7l\u001b[?7l\u001b[?7l\u001b[?7l\u001b[?7l\u001b[?7l\u001b[?7l\u001b[?7l\u001b[?7l\n",
      "mrconvert: \u001b[01;31m[ERROR] cannot access file \"/home/a1/Desktop/Projects/forkx/MDD_nii/034/mri/wm_bin.nii.gz\": No such file or directory\u001b[0m\n",
      "mrconvert: \u001b[01;31m[ERROR] error opening image \"/home/a1/Desktop/Projects/forkx/MDD_nii/034/mri/wm_bin.nii.gz\"\u001b[0m\n",
      "mrconvert: \u001b[01;31m[ERROR] cannot access file \"/home/a1/Desktop/Projects/forkx/MDD_nii/036/mri/wm_bin.nii.gz\": No such file or directory\u001b[0m\n",
      "mrconvert: \u001b[01;31m[ERROR] error opening image \"/home/a1/Desktop/Projects/forkx/MDD_nii/036/mri/wm_bin.nii.gz\"\u001b[0m\n",
      "mrconvert: [100%] uncompressing image \"/home/a1/Desktop/Projects/forkx/MDD_nii/040/mri/wm_bin.nii.gz\"\u001b[0K[0K\u001b[?7h\u001b[?7l\n",
      "mrconvert: [100%] copying from \"/home/a1/D...D_nii/040/mri/wm_bin.nii.gz\" to \"/home/a1/D...orkx/MDD_nii/040/mri/wm.mif\"\u001b[0K[0K\u001b[?7h\n",
      "tckgen: \u001b[00;31m[WARNING] ignoring -backtrack option - only valid if using ACT\u001b[0m\n"
     ]
    },
    {
     "name": "stdout",
     "output_type": "stream",
     "text": [
      "Processing sub-034\n",
      "Error running BET: Command '['mrconvert', '/home/a1/Desktop/Projects/forkx/MDD_nii/034/mri/wm_bin.nii.gz', '/home/a1/Desktop/Projects/forkx/MDD_nii/034/mri/wm.mif']' returned non-zero exit status 1.\n",
      "Processing sub-036\n",
      "Error running BET: Command '['mrconvert', '/home/a1/Desktop/Projects/forkx/MDD_nii/036/mri/wm_bin.nii.gz', '/home/a1/Desktop/Projects/forkx/MDD_nii/036/mri/wm.mif']' returned non-zero exit status 1.\n",
      "Processing sub-040\n",
      "not created\n"
     ]
    },
    {
     "name": "stderr",
     "output_type": "stream",
     "text": [
      "tckgen: [100%]     7276 seeds,     7265 streamlines,     5000 selected\u001b[0K\u001b[?7h\u001b[?7l\u001b[?7l\u001b[?7l\u001b[?7l\u001b[?7l\u001b[?7l\u001b[?7l\u001b[?7l\u001b[?7l\u001b[?7l\u001b[?7l\n",
      "mrconvert: [100%] uncompressing image \"/home/a1/Desktop/Projects/forkx/MDD_nii/041/mri/wm_bin.nii.gz\"\u001b[0K[0K\u001b[?7h\u001b[?7l\n",
      "mrconvert: [100%] copying from \"/home/a1/D...D_nii/041/mri/wm_bin.nii.gz\" to \"/home/a1/D...orkx/MDD_nii/041/mri/wm.mif\"\u001b[0K[0K\u001b[?7h\u001b[?7l\n",
      "tckgen: \u001b[00;31m[WARNING] ignoring -backtrack option - only valid if using ACT\u001b[0m\n",
      "tckgen: [  2%]      141 seeds,      141 streamlines,      101 selected\u001b[0K\u001b[?7h\u001b[?7l"
     ]
    },
    {
     "name": "stdout",
     "output_type": "stream",
     "text": [
      "Processing sub-041\n",
      "not created\n"
     ]
    },
    {
     "name": "stderr",
     "output_type": "stream",
     "text": [
      "tckgen: [100%]     7268 seeds,     7236 streamlines,     5000 selected\u001b[0K\u001b[?7h\u001b[?7l\u001b[?7l\u001b[?7l\u001b[?7l\u001b[?7l\u001b[?7l\u001b[?7l\u001b[?7l\u001b[?7l\u001b[?7l\u001b[?7l\n",
      "mrconvert: [ 43%] uncompressing image \"/home/a1/Desktop/Projects/forkx/MDD_nii/042/mri/wm_bin.nii.gz\"...\u001b[0K\u001b[?7h\u001b[?7l"
     ]
    },
    {
     "name": "stdout",
     "output_type": "stream",
     "text": [
      "Processing sub-042\n",
      "not created\n"
     ]
    },
    {
     "name": "stderr",
     "output_type": "stream",
     "text": [
      "mrconvert: [100%] uncompressing image \"/home/a1/Desktop/Projects/forkx/MDD_nii/042/mri/wm_bin.nii.gz\"\u001b[0K[0K\u001b[?7h\u001b[?7l\n",
      "mrconvert: [100%] copying from \"/home/a1/D...D_nii/042/mri/wm_bin.nii.gz\" to \"/home/a1/D...orkx/MDD_nii/042/mri/wm.mif\"\u001b[0K[0K\u001b[?7h\u001b[?7l\n",
      "tckgen: \u001b[00;31m[WARNING] ignoring -backtrack option - only valid if using ACT\u001b[0m\n",
      "tckgen: [100%]     7266 seeds,     7264 streamlines,     5000 selected\u001b[0K\u001b[?7h\u001b[?7l\u001b[?7l\u001b[?7l\u001b[?7l\u001b[?7l\u001b[?7l\u001b[?7l\u001b[?7l\u001b[?7l\u001b[?7l\u001b[?7l\u001b[?7l\n",
      "mrconvert: [100%] uncompressing image \"/home/a1/Desktop/Projects/forkx/MDD_nii/046/mri/wm_bin.nii.gz\"\u001b[0K[0K\u001b[?7h\u001b[?7l\n",
      "mrconvert: [100%] copying from \"/home/a1/D...D_nii/046/mri/wm_bin.nii.gz\" to \"/home/a1/D...orkx/MDD_nii/046/mri/wm.mif\"\u001b[0K[0K\u001b[?7h\n",
      "tckgen: \u001b[00;31m[WARNING] ignoring -backtrack option - only valid if using ACT\u001b[0m\n"
     ]
    },
    {
     "name": "stdout",
     "output_type": "stream",
     "text": [
      "Processing sub-046\n",
      "not created\n"
     ]
    },
    {
     "name": "stderr",
     "output_type": "stream",
     "text": [
      "tckgen: [100%]     7103 seeds,     7092 streamlines,     5000 selected\u001b[0K\u001b[?7h\u001b[?7l\u001b[?7l\u001b[?7l\u001b[?7l\u001b[?7l\u001b[?7l\u001b[?7l\u001b[?7l\u001b[?7l\u001b[?7l\u001b[?7l\u001b[?7l\n",
      "mrconvert: [100%] uncompressing image \"/home/a1/Desktop/Projects/forkx/MDD_nii/052/mri/wm_bin.nii.gz\"\u001b[0K[0K\u001b[?7h\u001b[?7l\n",
      "mrconvert: [100%] copying from \"/home/a1/D...D_nii/052/mri/wm_bin.nii.gz\" to \"/home/a1/D...orkx/MDD_nii/052/mri/wm.mif\"\u001b[0K[0K\u001b[?7h\u001b[?7l\n",
      "tckgen: \u001b[00;31m[WARNING] ignoring -backtrack option - only valid if using ACT\u001b[0m\n",
      "tckgen: [  0%]        2 seeds,        2 streamlines,        2 selected\u001b[0K\u001b[?7h\u001b[?7l"
     ]
    },
    {
     "name": "stdout",
     "output_type": "stream",
     "text": [
      "Processing sub-052\n",
      "not created\n"
     ]
    },
    {
     "name": "stderr",
     "output_type": "stream",
     "text": [
      "tckgen: [100%]     7108 seeds,     7101 streamlines,     5000 selected\u001b[0K\u001b[?7h\u001b[?7l\u001b[?7l\u001b[?7l\u001b[?7l\u001b[?7l\u001b[?7l\u001b[?7l\u001b[?7l\u001b[?7l\u001b[?7l\u001b[?7l\n",
      "mrconvert: [100%] uncompressing image \"/home/a1/Desktop/Projects/forkx/MDD_nii/053/mri/wm_bin.nii.gz\"\u001b[0K[0K\u001b[?7h\u001b[?7l\n",
      "mrconvert: [100%] copying from \"/home/a1/D...D_nii/053/mri/wm_bin.nii.gz\" to \"/home/a1/D...orkx/MDD_nii/053/mri/wm.mif\"\u001b[0K[0K\u001b[?7h\u001b[?7l\n",
      "tckgen: \u001b[00;31m[WARNING] ignoring -backtrack option - only valid if using ACT\u001b[0m\n"
     ]
    },
    {
     "name": "stdout",
     "output_type": "stream",
     "text": [
      "Processing sub-053\n",
      "not created\n"
     ]
    },
    {
     "name": "stderr",
     "output_type": "stream",
     "text": [
      "tckgen: [100%]     7203 seeds,     7197 streamlines,     5000 selected\u001b[0K\u001b[?7h\u001b[?7l\u001b[?7l\u001b[?7l\u001b[?7l\u001b[?7l\u001b[?7l\u001b[?7l\u001b[?7l\u001b[?7l\u001b[?7l\u001b[?7l\n",
      "mrconvert: [100%] uncompressing image \"/home/a1/Desktop/Projects/forkx/MDD_nii/057/mri/wm_bin.nii.gz\"\u001b[0K[0K\u001b[?7h\u001b[?7l\n",
      "mrconvert: [100%] copying from \"/home/a1/D...D_nii/057/mri/wm_bin.nii.gz\" to \"/home/a1/D...orkx/MDD_nii/057/mri/wm.mif\"\u001b[0K[0K\u001b[?7h\u001b[?7l\n",
      "tckgen: \u001b[00;31m[WARNING] ignoring -backtrack option - only valid if using ACT\u001b[0m\n"
     ]
    },
    {
     "name": "stdout",
     "output_type": "stream",
     "text": [
      "Processing sub-057\n",
      "not created\n"
     ]
    },
    {
     "name": "stderr",
     "output_type": "stream",
     "text": [
      "tckgen: [100%]     7291 seeds,     7278 streamlines,     5000 selected\u001b[0K\u001b[?7h\u001b[?7l\u001b[?7l\u001b[?7l\u001b[?7l\u001b[?7l\u001b[?7l\u001b[?7l\u001b[?7l\u001b[?7l\u001b[?7l\u001b[?7l\u001b[?7l\n",
      "mrconvert: [100%] uncompressing image \"/home/a1/Desktop/Projects/forkx/MDD_nii/059/mri/wm_bin.nii.gz\"\u001b[0K[0K\u001b[?7h\u001b[?7l\n",
      "mrconvert: [100%] copying from \"/home/a1/D...D_nii/059/mri/wm_bin.nii.gz\" to \"/home/a1/D...orkx/MDD_nii/059/mri/wm.mif\"\u001b[0K[0K\u001b[?7h\n",
      "tckgen: \u001b[00;31m[WARNING] ignoring -backtrack option - only valid if using ACT\u001b[0m\n",
      "tckgen: [  1%]       73 seeds,       73 streamlines,       50 selected\u001b[0K\u001b[?7h\u001b[?7l"
     ]
    },
    {
     "name": "stdout",
     "output_type": "stream",
     "text": [
      "Processing sub-059\n",
      "not created\n"
     ]
    },
    {
     "name": "stderr",
     "output_type": "stream",
     "text": [
      "tckgen: [100%]     7239 seeds,     7229 streamlines,     5000 selected\u001b[0K\u001b[?7h\u001b[?7l\u001b[?7l\u001b[?7l\u001b[?7l\u001b[?7l\u001b[?7l\u001b[?7l\u001b[?7l\u001b[?7l\u001b[?7l\u001b[?7l\n",
      "mrconvert: [100%] uncompressing image \"/home/a1/Desktop/Projects/forkx/MDD_nii/060/mri/wm_bin.nii.gz\"\u001b[0K[0K\u001b[?7h\u001b[?7l\n",
      "mrconvert: [100%] copying from \"/home/a1/D...D_nii/060/mri/wm_bin.nii.gz\" to \"/home/a1/D...orkx/MDD_nii/060/mri/wm.mif\"\u001b[0K[0K\u001b[?7h\u001b[?7l\n",
      "tckgen: \u001b[00;31m[WARNING] ignoring -backtrack option - only valid if using ACT\u001b[0m\n",
      "tckgen: [  2%]      162 seeds,      162 streamlines,      101 selected\u001b[0K\u001b[?7h\u001b[?7l"
     ]
    },
    {
     "name": "stdout",
     "output_type": "stream",
     "text": [
      "Processing sub-060\n",
      "not created\n"
     ]
    },
    {
     "name": "stderr",
     "output_type": "stream",
     "text": [
      "tckgen: [100%]     7258 seeds,     7242 streamlines,     5000 selected\u001b[0K\u001b[?7h\u001b[?7l\u001b[?7l\u001b[?7l\u001b[?7l\u001b[?7l\u001b[?7l\u001b[?7l\u001b[?7l\u001b[?7l\u001b[?7l\u001b[?7l\n",
      "mrconvert: [100%] uncompressing image \"/home/a1/Desktop/Projects/forkx/MDD_nii/075/mri/wm_bin.nii.gz\"\u001b[0K[0K\u001b[?7h\u001b[?7l\n",
      "mrconvert: [100%] copying from \"/home/a1/D...D_nii/075/mri/wm_bin.nii.gz\" to \"/home/a1/D...orkx/MDD_nii/075/mri/wm.mif\"\u001b[0K[0K\u001b[?7h\u001b[?7l\n",
      "tckgen: \u001b[00;31m[WARNING] ignoring -backtrack option - only valid if using ACT\u001b[0m\n"
     ]
    },
    {
     "name": "stdout",
     "output_type": "stream",
     "text": [
      "Processing sub-075\n",
      "not created\n"
     ]
    },
    {
     "name": "stderr",
     "output_type": "stream",
     "text": [
      "tckgen: [100%]     6865 seeds,     6844 streamlines,     5000 selected\u001b[0K\u001b[?7h\u001b[?7l\u001b[?7l\u001b[?7l\u001b[?7l\u001b[?7l\u001b[?7l\u001b[?7l\u001b[?7l\u001b[?7l\u001b[?7l\u001b[?7l\u001b[?7l\n",
      "mrconvert: [ 57%] uncompressing image \"/home/a1/Desktop/Projects/forkx/MDD_nii/076/mri/wm_bin.nii.gz\"...\u001b[0K\u001b[?7h\u001b[?7l"
     ]
    },
    {
     "name": "stdout",
     "output_type": "stream",
     "text": [
      "Processing sub-076\n",
      "not created\n"
     ]
    },
    {
     "name": "stderr",
     "output_type": "stream",
     "text": [
      "mrconvert: [100%] uncompressing image \"/home/a1/Desktop/Projects/forkx/MDD_nii/076/mri/wm_bin.nii.gz\"\u001b[0K[0K\u001b[?7h\u001b[?7l\n",
      "mrconvert: [100%] copying from \"/home/a1/D...D_nii/076/mri/wm_bin.nii.gz\" to \"/home/a1/D...orkx/MDD_nii/076/mri/wm.mif\"\u001b[0K[0K\u001b[?7h\n",
      "tckgen: \u001b[00;31m[WARNING] ignoring -backtrack option - only valid if using ACT\u001b[0m\n",
      "tckgen: [100%]     7284 seeds,     7268 streamlines,     5000 selected\u001b[0K\u001b[?7h\u001b[?7l\u001b[?7l\u001b[?7l\u001b[?7l\u001b[?7l\u001b[?7l\u001b[?7l\u001b[?7l\u001b[?7l\u001b[?7l\u001b[?7l\u001b[?7l\n",
      "mrconvert: [ 86%] uncompressing image \"/home/a1/Desktop/Projects/forkx/MDD_nii/081/mri/wm_bin.nii.gz\"...\u001b[0K\u001b[?7h\u001b[?7l"
     ]
    },
    {
     "name": "stdout",
     "output_type": "stream",
     "text": [
      "Processing sub-081\n",
      "not created\n"
     ]
    },
    {
     "name": "stderr",
     "output_type": "stream",
     "text": [
      "mrconvert: [100%] uncompressing image \"/home/a1/Desktop/Projects/forkx/MDD_nii/081/mri/wm_bin.nii.gz\"\u001b[0K[0K\u001b[?7h\n",
      "mrconvert: [100%] copying from \"/home/a1/D...D_nii/081/mri/wm_bin.nii.gz\" to \"/home/a1/D...orkx/MDD_nii/081/mri/wm.mif\"\u001b[0K[0K\u001b[?7h\u001b[?7l\n",
      "tckgen: \u001b[00;31m[WARNING] ignoring -backtrack option - only valid if using ACT\u001b[0m\n",
      "tckgen: [100%]     6933 seeds,     6927 streamlines,     5000 selected\u001b[0K\u001b[?7h\u001b[?7l\u001b[?7l\u001b[?7l\u001b[?7l\u001b[?7l\u001b[?7l\u001b[?7l\u001b[?7l\u001b[?7l\u001b[?7l\u001b[?7l\u001b[?7l\n",
      "mrconvert: [ 86%] uncompressing image \"/home/a1/Desktop/Projects/forkx/MDD_nii/093/mri/wm_bin.nii.gz\"...\u001b[0K\u001b[?7h\u001b[?7l"
     ]
    },
    {
     "name": "stdout",
     "output_type": "stream",
     "text": [
      "Processing sub-093\n",
      "not created\n"
     ]
    },
    {
     "name": "stderr",
     "output_type": "stream",
     "text": [
      "mrconvert: [100%] uncompressing image \"/home/a1/Desktop/Projects/forkx/MDD_nii/093/mri/wm_bin.nii.gz\"\u001b[0K[0K\u001b[?7h\n",
      "mrconvert: [100%] copying from \"/home/a1/D...D_nii/093/mri/wm_bin.nii.gz\" to \"/home/a1/D...orkx/MDD_nii/093/mri/wm.mif\"\u001b[0K[0K\u001b[?7h\u001b[?7l\n",
      "tckgen: \u001b[00;31m[WARNING] ignoring -backtrack option - only valid if using ACT\u001b[0m\n",
      "tckgen: [100%]     7580 seeds,     7576 streamlines,     5000 selected\u001b[0K\u001b[?7h\u001b[?7l\u001b[?7l\u001b[?7l\u001b[?7l\u001b[?7l\u001b[?7l\u001b[?7l\u001b[?7l\u001b[?7l\u001b[?7l\u001b[?7l\n",
      "mrconvert: [100%] uncompressing image \"/home/a1/Desktop/Projects/forkx/MDD_nii/096/mri/wm_bin.nii.gz\"\u001b[0K[0K\u001b[?7h\u001b[?7l\n",
      "mrconvert: [100%] copying from \"/home/a1/D...D_nii/096/mri/wm_bin.nii.gz\" to \"/home/a1/D...orkx/MDD_nii/096/mri/wm.mif\"\u001b[0K[0K\u001b[?7h\n",
      "tckgen: \u001b[00;31m[WARNING] ignoring -backtrack option - only valid if using ACT\u001b[0m\n",
      "tckgen: [  2%]      139 seeds,      139 streamlines,      101 selected\u001b[0K\u001b[?7h\u001b[?7l"
     ]
    },
    {
     "name": "stdout",
     "output_type": "stream",
     "text": [
      "Processing sub-096\n",
      "not created\n"
     ]
    },
    {
     "name": "stderr",
     "output_type": "stream",
     "text": [
      "tckgen: [100%]     7003 seeds,     7000 streamlines,     5000 selected\u001b[0K\u001b[?7h\u001b[?7l\u001b[?7l\u001b[?7l\u001b[?7l\u001b[?7l\u001b[?7l\u001b[?7l\u001b[?7l\u001b[?7l\u001b[?7l\u001b[?7l\u001b[?7l\n",
      "mrconvert: [100%] uncompressing image \"/home/a1/Desktop/Projects/forkx/MDD_nii/100/mri/wm_bin.nii.gz\"\u001b[0K[0K\u001b[?7h\u001b[?7l\n",
      "mrconvert: [100%] copying from \"/home/a1/D...D_nii/100/mri/wm_bin.nii.gz\" to \"/home/a1/D...orkx/MDD_nii/100/mri/wm.mif\"\u001b[0K[0K\u001b[?7h\u001b[?7l\n",
      "tckgen: \u001b[00;31m[WARNING] ignoring -backtrack option - only valid if using ACT\u001b[0m\n"
     ]
    },
    {
     "name": "stdout",
     "output_type": "stream",
     "text": [
      "Processing sub-100\n",
      "not created\n"
     ]
    },
    {
     "name": "stderr",
     "output_type": "stream",
     "text": [
      "tckgen: [100%]     7130 seeds,     7124 streamlines,     5000 selected\u001b[0K\u001b[?7h\u001b[?7l\u001b[?7l\u001b[?7l\u001b[?7l\u001b[?7l\u001b[?7l\u001b[?7l\u001b[?7l\u001b[?7l\u001b[?7l\u001b[?7l\u001b[?7l\n",
      "mrconvert: [100%] uncompressing image \"/home/a1/Desktop/Projects/forkx/MDD_nii/126/mri/wm_bin.nii.gz\"\u001b[0K[0K\u001b[?7h\u001b[?7l\n",
      "mrconvert: [100%] copying from \"/home/a1/D...D_nii/126/mri/wm_bin.nii.gz\" to \"/home/a1/D...orkx/MDD_nii/126/mri/wm.mif\"\u001b[0K[0K\u001b[?7h\u001b[?7l\n",
      "tckgen: \u001b[00;31m[WARNING] ignoring -backtrack option - only valid if using ACT\u001b[0m\n",
      "tckgen: [  0%]        3 seeds,        3 streamlines,        2 selected\u001b[0K\u001b[?7h\u001b[?7l"
     ]
    },
    {
     "name": "stdout",
     "output_type": "stream",
     "text": [
      "Processing sub-126\n",
      "not created\n"
     ]
    },
    {
     "name": "stderr",
     "output_type": "stream",
     "text": [
      "tckgen: [100%]     7516 seeds,     7507 streamlines,     5000 selected\u001b[0K\u001b[?7h\u001b[?7l\u001b[?7l\u001b[?7l\u001b[?7l\u001b[?7l\u001b[?7l\u001b[?7l\u001b[?7l\u001b[?7l\u001b[?7l\u001b[?7l\n",
      "mrconvert: [100%] uncompressing image \"/home/a1/Desktop/Projects/forkx/MDD_nii/134/mri/wm_bin.nii.gz\"\u001b[0K[0K\u001b[?7h\u001b[?7l\n",
      "mrconvert: [100%] copying from \"/home/a1/D...D_nii/134/mri/wm_bin.nii.gz\" to \"/home/a1/D...orkx/MDD_nii/134/mri/wm.mif\"\u001b[0K[0K\u001b[?7h\u001b[?7l\n",
      "tckgen: \u001b[00;31m[WARNING] ignoring -backtrack option - only valid if using ACT\u001b[0m\n",
      "tckgen: [  2%]      156 seeds,      156 streamlines,      101 selected\u001b[0K\u001b[?7h\u001b[?7l"
     ]
    },
    {
     "name": "stdout",
     "output_type": "stream",
     "text": [
      "Processing sub-134\n",
      "not created\n"
     ]
    },
    {
     "name": "stderr",
     "output_type": "stream",
     "text": [
      "tckgen: [100%]     7309 seeds,     7306 streamlines,     5000 selected\u001b[0K\u001b[?7h\u001b[?7l\u001b[?7l\u001b[?7l\u001b[?7l\u001b[?7l\u001b[?7l\u001b[?7l\u001b[?7l\u001b[?7l\u001b[?7l\u001b[?7l\n",
      "mrconvert: [100%] uncompressing image \"/home/a1/Desktop/Projects/forkx/MDD_nii/137/mri/wm_bin.nii.gz\"\u001b[0K[0K\u001b[?7h\u001b[?7l\n",
      "mrconvert: [100%] copying from \"/home/a1/D...D_nii/137/mri/wm_bin.nii.gz\" to \"/home/a1/D...orkx/MDD_nii/137/mri/wm.mif\"\u001b[0K[0K\u001b[?7h\u001b[?7l\n",
      "tckgen: \u001b[00;31m[WARNING] ignoring -backtrack option - only valid if using ACT\u001b[0m\n"
     ]
    },
    {
     "name": "stdout",
     "output_type": "stream",
     "text": [
      "Processing sub-137\n",
      "not created\n"
     ]
    },
    {
     "name": "stderr",
     "output_type": "stream",
     "text": [
      "tckgen: [100%]     7465 seeds,     7445 streamlines,     5000 selected\u001b[0K\u001b[?7h\u001b[?7l\u001b[?7l\u001b[?7l\u001b[?7l\u001b[?7l\u001b[?7l\u001b[?7l\u001b[?7l\u001b[?7l\u001b[?7l\u001b[?7l\n",
      "mrconvert: [100%] uncompressing image \"/home/a1/Desktop/Projects/forkx/MDD_nii/141/mri/wm_bin.nii.gz\"\u001b[0K[0K\u001b[?7h\u001b[?7l\n",
      "mrconvert: [100%] copying from \"/home/a1/D...D_nii/141/mri/wm_bin.nii.gz\" to \"/home/a1/D...orkx/MDD_nii/141/mri/wm.mif\"\u001b[0K[0K\u001b[?7h\u001b[?7l\n",
      "tckgen: \u001b[00;31m[WARNING] ignoring -backtrack option - only valid if using ACT\u001b[0m\n"
     ]
    },
    {
     "name": "stdout",
     "output_type": "stream",
     "text": [
      "Processing sub-141\n",
      "not created\n"
     ]
    },
    {
     "name": "stderr",
     "output_type": "stream",
     "text": [
      "tckgen: [100%]     7238 seeds,     7214 streamlines,     5000 selected\u001b[0K\u001b[?7h\u001b[?7l\u001b[?7l\u001b[?7l\u001b[?7l\u001b[?7l\u001b[?7l\u001b[?7l\u001b[?7l\u001b[?7l\u001b[?7l\u001b[?7l\n",
      "mrconvert: [100%] uncompressing image \"/home/a1/Desktop/Projects/forkx/MDD_nii/162/mri/wm_bin.nii.gz\"\u001b[0K[0K\u001b[?7h\u001b[?7l\n",
      "mrconvert: [100%] copying from \"/home/a1/D...D_nii/162/mri/wm_bin.nii.gz\" to \"/home/a1/D...orkx/MDD_nii/162/mri/wm.mif\"\u001b[0K[0K\u001b[?7h\u001b[?7l\n",
      "tckgen: \u001b[00;31m[WARNING] ignoring -backtrack option - only valid if using ACT\u001b[0m\n",
      "tckgen: [  2%]      146 seeds,      146 streamlines,      100 selected\u001b[0K\u001b[?7h\u001b[?7l"
     ]
    },
    {
     "name": "stdout",
     "output_type": "stream",
     "text": [
      "Processing sub-162\n",
      "not created\n"
     ]
    },
    {
     "name": "stderr",
     "output_type": "stream",
     "text": [
      "tckgen: [100%]     7032 seeds,     7028 streamlines,     5000 selected\u001b[0K\u001b[?7h\u001b[?7l\u001b[?7l\u001b[?7l\u001b[?7l\u001b[?7l\u001b[?7l\u001b[?7l\u001b[?7l\u001b[?7l\u001b[?7l\u001b[?7l\u001b[?7l\n",
      "mrconvert: [100%] uncompressing image \"/home/a1/Desktop/Projects/forkx/MDD_nii/168/mri/wm_bin.nii.gz\"\u001b[0K[0K\u001b[?7h\u001b[?7l\n",
      "mrconvert: [100%] copying from \"/home/a1/D...D_nii/168/mri/wm_bin.nii.gz\" to \"/home/a1/D...orkx/MDD_nii/168/mri/wm.mif\"\u001b[0K[0K\u001b[?7h\u001b[?7l\n",
      "tckgen: \u001b[00;31m[WARNING] ignoring -backtrack option - only valid if using ACT\u001b[0m\n"
     ]
    },
    {
     "name": "stdout",
     "output_type": "stream",
     "text": [
      "Processing sub-168\n",
      "not created\n"
     ]
    },
    {
     "name": "stderr",
     "output_type": "stream",
     "text": [
      "tckgen: [100%]     7367 seeds,     7340 streamlines,     5000 selected\u001b[0K\u001b[?7h\u001b[?7l\u001b[?7l\u001b[?7l\u001b[?7l\u001b[?7l\u001b[?7l\u001b[?7l\u001b[?7l\u001b[?7l\u001b[?7l\u001b[?7l\n",
      "mrconvert: [100%] uncompressing image \"/home/a1/Desktop/Projects/forkx/MDD_nii/179/mri/wm_bin.nii.gz\"\u001b[0K[0K\u001b[?7h\u001b[?7l\n",
      "mrconvert: [100%] copying from \"/home/a1/D...D_nii/179/mri/wm_bin.nii.gz\" to \"/home/a1/D...orkx/MDD_nii/179/mri/wm.mif\"\u001b[0K[0K\u001b[?7h\n"
     ]
    },
    {
     "name": "stdout",
     "output_type": "stream",
     "text": [
      "Processing sub-179\n",
      "not created\n"
     ]
    },
    {
     "name": "stderr",
     "output_type": "stream",
     "text": [
      "tckgen: \u001b[00;31m[WARNING] ignoring -backtrack option - only valid if using ACT\u001b[0m\n",
      "tckgen: [100%]     6933 seeds,     6923 streamlines,     5000 selected\u001b[0K\u001b[?7h\u001b[?7l\u001b[?7l\u001b[?7l\u001b[?7l\u001b[?7l\u001b[?7l\u001b[?7l\u001b[?7l\u001b[?7l\u001b[?7l\u001b[?7l\n",
      "mrconvert: [100%] uncompressing image \"/home/a1/Desktop/Projects/forkx/MDD_nii/192/mri/wm_bin.nii.gz\"\u001b[0K[0K\u001b[?7h\u001b[?7l\n",
      "mrconvert: [100%] copying from \"/home/a1/D...D_nii/192/mri/wm_bin.nii.gz\" to \"/home/a1/D...orkx/MDD_nii/192/mri/wm.mif\"\u001b[0K[0K\u001b[?7h\n",
      "tckgen: \u001b[00;31m[WARNING] ignoring -backtrack option - only valid if using ACT\u001b[0m\n",
      "tckgen: [  2%]      142 seeds,      142 streamlines,      101 selected\u001b[0K\u001b[?7h\u001b[?7l"
     ]
    },
    {
     "name": "stdout",
     "output_type": "stream",
     "text": [
      "Processing sub-192\n",
      "not created\n"
     ]
    },
    {
     "name": "stderr",
     "output_type": "stream",
     "text": [
      "tckgen: [100%]     6998 seeds,     6993 streamlines,     5000 selected\u001b[0K\u001b[?7h\u001b[?7l\u001b[?7l\u001b[?7l\u001b[?7l\u001b[?7l\u001b[?7l\u001b[?7l\u001b[?7l\u001b[?7l\u001b[?7l\u001b[?7l\n",
      "mrconvert: [100%] uncompressing image \"/home/a1/Desktop/Projects/forkx/MDD_nii/209/mri/wm_bin.nii.gz\"\u001b[0K[0K\u001b[?7h\u001b[?7l\n",
      "mrconvert: [100%] copying from \"/home/a1/D...D_nii/209/mri/wm_bin.nii.gz\" to \"/home/a1/D...orkx/MDD_nii/209/mri/wm.mif\"\u001b[0K[0K\u001b[?7h\u001b[?7l\n",
      "tckgen: \u001b[00;31m[WARNING] ignoring -backtrack option - only valid if using ACT\u001b[0m\n",
      "tckgen: [  2%]      145 seeds,      144 streamlines,      101 selected\u001b[0K\u001b[?7h\u001b[?7l"
     ]
    },
    {
     "name": "stdout",
     "output_type": "stream",
     "text": [
      "Processing sub-209\n",
      "not created\n"
     ]
    },
    {
     "name": "stderr",
     "output_type": "stream",
     "text": [
      "tckgen: [100%]     7033 seeds,     7009 streamlines,     5000 selected\u001b[0K\u001b[?7h\u001b[?7l\u001b[?7l\u001b[?7l\u001b[?7l\u001b[?7l\u001b[?7l\u001b[?7l\u001b[?7l\u001b[?7l\u001b[?7l\u001b[?7l\n",
      "mrconvert: \u001b[01;31m[ERROR] cannot access file \"/home/a1/Desktop/Projects/forkx/MDD_nii/212/mri/wm_bin.nii.gz\": No such file or directory\u001b[0m\n",
      "mrconvert: \u001b[01;31m[ERROR] error opening image \"/home/a1/Desktop/Projects/forkx/MDD_nii/212/mri/wm_bin.nii.gz\"\u001b[0m\n",
      "mrconvert: [100%] uncompressing image \"/home/a1/Desktop/Projects/forkx/MDD_nii/230/mri/wm_bin.nii.gz\"\u001b[0K[0K\u001b[?7h\u001b[?7l\n",
      "mrconvert: [100%] copying from \"/home/a1/D...D_nii/230/mri/wm_bin.nii.gz\" to \"/home/a1/D...orkx/MDD_nii/230/mri/wm.mif\"\u001b[0K[0K\u001b[?7h\n",
      "tckgen: \u001b[00;31m[WARNING] ignoring -backtrack option - only valid if using ACT\u001b[0m\n"
     ]
    },
    {
     "name": "stdout",
     "output_type": "stream",
     "text": [
      "Processing sub-212\n",
      "Error running BET: Command '['mrconvert', '/home/a1/Desktop/Projects/forkx/MDD_nii/212/mri/wm_bin.nii.gz', '/home/a1/Desktop/Projects/forkx/MDD_nii/212/mri/wm.mif']' returned non-zero exit status 1.\n",
      "Processing sub-230\n",
      "not created\n"
     ]
    },
    {
     "name": "stderr",
     "output_type": "stream",
     "text": [
      "tckgen: [100%]     6753 seeds,     6753 streamlines,     5000 selected\u001b[0K\u001b[?7h\u001b[?7l\u001b[?7l\u001b[?7l\u001b[?7l\u001b[?7l\u001b[?7l\u001b[?7l\u001b[?7l\u001b[?7l\u001b[?7l\u001b[?7l\u001b[?7l\n",
      "mrconvert: [100%] uncompressing image \"/home/a1/Desktop/Projects/forkx/MDD_nii/235/mri/wm_bin.nii.gz\"\u001b[0K[0K\u001b[?7h\u001b[?7l\n",
      "mrconvert: [100%] copying from \"/home/a1/D...D_nii/235/mri/wm_bin.nii.gz\" to \"/home/a1/D...orkx/MDD_nii/235/mri/wm.mif\"\u001b[0K[0K\u001b[?7h\n",
      "tckgen: \u001b[00;31m[WARNING] ignoring -backtrack option - only valid if using ACT\u001b[0m\n",
      "tckgen: [  0%]        2 seeds,        2 streamlines,        1 selected\u001b[0K\u001b[?7h\u001b[?7l"
     ]
    },
    {
     "name": "stdout",
     "output_type": "stream",
     "text": [
      "Processing sub-235\n",
      "not created\n"
     ]
    },
    {
     "name": "stderr",
     "output_type": "stream",
     "text": [
      "tckgen: [100%]     7142 seeds,     7131 streamlines,     5000 selected\u001b[0K\u001b[?7h\u001b[?7l\u001b[?7l\u001b[?7l\u001b[?7l\u001b[?7l\u001b[?7l\u001b[?7l\u001b[?7l\u001b[?7l\u001b[?7l\u001b[?7l\n"
     ]
    },
    {
     "name": "stdout",
     "output_type": "stream",
     "text": [
      "Processing sub-244\n",
      "not created\n"
     ]
    },
    {
     "name": "stderr",
     "output_type": "stream",
     "text": [
      "mrconvert: [100%] uncompressing image \"/home/a1/Desktop/Projects/forkx/MDD_nii/244/mri/wm_bin.nii.gz\"\u001b[0K[0K\u001b[?7h\u001b[?7l\n",
      "mrconvert: [100%] copying from \"/home/a1/D...D_nii/244/mri/wm_bin.nii.gz\" to \"/home/a1/D...orkx/MDD_nii/244/mri/wm.mif\"\u001b[0K[0K\u001b[?7h\u001b[?7l\n",
      "tckgen: \u001b[00;31m[WARNING] ignoring -backtrack option - only valid if using ACT\u001b[0m\n",
      "tckgen: [100%]     6986 seeds,     6976 streamlines,     5000 selected\u001b[0K\u001b[?7h\u001b[?7l\u001b[?7l\u001b[?7l\u001b[?7l\u001b[?7l\u001b[?7l\u001b[?7l\u001b[?7l\u001b[?7l\u001b[?7l\u001b[?7l\n",
      "mrconvert: [100%] uncompressing image \"/home/a1/Desktop/Projects/forkx/MDD_nii/245/mri/wm_bin.nii.gz\"\u001b[0K[0K\u001b[?7h\u001b[?7l\n",
      "mrconvert: [100%] copying from \"/home/a1/D...D_nii/245/mri/wm_bin.nii.gz\" to \"/home/a1/D...orkx/MDD_nii/245/mri/wm.mif\"\u001b[0K[0K\u001b[?7h\u001b[?7l\n",
      "tckgen: \u001b[00;31m[WARNING] ignoring -backtrack option - only valid if using ACT\u001b[0m\n",
      "tckgen: [  2%]      148 seeds,      147 streamlines,      101 selected\u001b[0K\u001b[?7h\u001b[?7l"
     ]
    },
    {
     "name": "stdout",
     "output_type": "stream",
     "text": [
      "Processing sub-245\n",
      "not created\n"
     ]
    },
    {
     "name": "stderr",
     "output_type": "stream",
     "text": [
      "tckgen: [100%]     7185 seeds,     7183 streamlines,     5000 selected\u001b[0K\u001b[?7h\u001b[?7l\u001b[?7l\u001b[?7l\u001b[?7l\u001b[?7l\u001b[?7l\u001b[?7l\u001b[?7l\u001b[?7l\u001b[?7l\u001b[?7l\n",
      "mrconvert: [ 43%] uncompressing image \"/home/a1/Desktop/Projects/forkx/MDD_nii/256/mri/wm_bin.nii.gz\"...\u001b[0K\u001b[?7h\u001b[?7l"
     ]
    },
    {
     "name": "stdout",
     "output_type": "stream",
     "text": [
      "Processing sub-256\n",
      "not created\n"
     ]
    },
    {
     "name": "stderr",
     "output_type": "stream",
     "text": [
      "mrconvert: [100%] uncompressing image \"/home/a1/Desktop/Projects/forkx/MDD_nii/256/mri/wm_bin.nii.gz\"\u001b[0K[0K\u001b[?7h\u001b[?7l\n",
      "mrconvert: [100%] copying from \"/home/a1/D...D_nii/256/mri/wm_bin.nii.gz\" to \"/home/a1/D...orkx/MDD_nii/256/mri/wm.mif\"\u001b[0K[0K\u001b[?7h\u001b[?7l\n",
      "tckgen: \u001b[00;31m[WARNING] ignoring -backtrack option - only valid if using ACT\u001b[0m\n",
      "tckgen: [100%]     7391 seeds,     7374 streamlines,     5000 selected\u001b[0K\u001b[?7h\u001b[?7l\u001b[?7l\u001b[?7l\u001b[?7l\u001b[?7l\u001b[?7l\u001b[?7l\u001b[?7l\u001b[?7l\u001b[?7l\u001b[?7l\n"
     ]
    },
    {
     "name": "stdout",
     "output_type": "stream",
     "text": [
      "Processing sub-257\n",
      "not created\n"
     ]
    },
    {
     "name": "stderr",
     "output_type": "stream",
     "text": [
      "mrconvert: [100%] uncompressing image \"/home/a1/Desktop/Projects/forkx/MDD_nii/257/mri/wm_bin.nii.gz\"\u001b[0K[0K\u001b[?7h\u001b[?7l\n",
      "mrconvert: [100%] copying from \"/home/a1/D...D_nii/257/mri/wm_bin.nii.gz\" to \"/home/a1/D...orkx/MDD_nii/257/mri/wm.mif\"\u001b[0K[0K\u001b[?7h\u001b[?7l\n",
      "tckgen: \u001b[00;31m[WARNING] ignoring -backtrack option - only valid if using ACT\u001b[0m\n",
      "tckgen: [100%]     7084 seeds,     7081 streamlines,     5000 selected\u001b[0K\u001b[?7h\u001b[?7l\u001b[?7l\u001b[?7l\u001b[?7l\u001b[?7l\u001b[?7l\u001b[?7l\u001b[?7l\u001b[?7l\u001b[?7l\u001b[?7l\u001b[?7l\n",
      "mrconvert: [100%] uncompressing image \"/home/a1/Desktop/Projects/forkx/MDD_nii/259/mri/wm_bin.nii.gz\"\u001b[0K[0K\u001b[?7h\u001b[?7l\n",
      "mrconvert: [100%] copying from \"/home/a1/D...D_nii/259/mri/wm_bin.nii.gz\" to \"/home/a1/D...orkx/MDD_nii/259/mri/wm.mif\"\u001b[0K[0K\u001b[?7h\n",
      "tckgen: \u001b[00;31m[WARNING] ignoring -backtrack option - only valid if using ACT\u001b[0m\n"
     ]
    },
    {
     "name": "stdout",
     "output_type": "stream",
     "text": [
      "Processing sub-259\n",
      "not created\n"
     ]
    },
    {
     "name": "stderr",
     "output_type": "stream",
     "text": [
      "tckgen: [100%]     7039 seeds,     7035 streamlines,     5000 selected\u001b[0K\u001b[?7h\u001b[?7l\u001b[?7l\u001b[?7l\u001b[?7l\u001b[?7l\u001b[?7l\u001b[?7l\u001b[?7l\u001b[?7l\u001b[?7l\u001b[?7l\u001b[?7l\n",
      "mrconvert: [100%] uncompressing image \"/home/a1/Desktop/Projects/forkx/MDD_nii/261/mri/wm_bin.nii.gz\"\u001b[0K[0K\u001b[?7h\u001b[?7l\n",
      "mrconvert: [100%] copying from \"/home/a1/D...D_nii/261/mri/wm_bin.nii.gz\" to \"/home/a1/D...orkx/MDD_nii/261/mri/wm.mif\"\u001b[0K[0K\u001b[?7h\u001b[?7l\n",
      "tckgen: \u001b[00;31m[WARNING] ignoring -backtrack option - only valid if using ACT\u001b[0m\n",
      "tckgen: [  0%]      197 seeds,        5 streamlines,        1 selected\u001b[0K\u001b[?7h\u001b[?7l"
     ]
    },
    {
     "name": "stdout",
     "output_type": "stream",
     "text": [
      "Processing sub-261\n",
      "not created\n"
     ]
    },
    {
     "name": "stderr",
     "output_type": "stream",
     "text": [
      "tckgen: [100%]   124832 seeds,    10674 streamlines,     5000 selected\u001b[0K\u001b[?7h\u001b[?7l\u001b[?7l\u001b[?7l\u001b[?7l\u001b[?7l\u001b[?7l\u001b[?7l\u001b[?7l\n",
      "mrconvert: [100%] uncompressing image \"/home/a1/Desktop/Projects/forkx/MDD_nii/264/mri/wm_bin.nii.gz\"\u001b[0K[0K\u001b[?7h\u001b[?7l\n",
      "mrconvert: [100%] copying from \"/home/a1/D...D_nii/264/mri/wm_bin.nii.gz\" to \"/home/a1/D...orkx/MDD_nii/264/mri/wm.mif\"\u001b[0K[0K\u001b[?7h\n",
      "tckgen: \u001b[00;31m[WARNING] ignoring -backtrack option - only valid if using ACT\u001b[0m\n",
      "tckgen: \u001b[01;31m[ERROR] failed to open key/value file \"/home/a1/Desktop/Projects/forkx/MDD_nii/sub-264/dwi/sub-264_fod.mif\": No such file or directory\u001b[0m\n",
      "tckgen: \u001b[01;31m[ERROR] error opening image \"/home/a1/Desktop/Projects/forkx/MDD_nii/sub-264/dwi/sub-264_fod.mif\"\u001b[0m\n",
      "mrconvert: [100%] uncompressing image \"/home/a1/Desktop/Projects/forkx/MDD_nii/275/mri/wm_bin.nii.gz\"\u001b[0K[0K\u001b[?7h\u001b[?7l\n",
      "mrconvert: \u001b[01;31m[ERROR] output file \"/home/a1/Desktop/Projects/forkx/MDD_nii/275/mri/wm.mif\" already exists (use -force option to force overwrite)\u001b[0m\n",
      "mrconvert: \u001b[01;31m[ERROR] error creating image \"/home/a1/Desktop/Projects/forkx/MDD_nii/275/mri/wm.mif\"\u001b[0m\n",
      "mrconvert: [100%] uncompressing image \"/home/a1/Desktop/Projects/forkx/MDD_nii/277/mri/wm_bin.nii.gz\"\u001b[0K[0K\u001b[?7h\u001b[?7l\n",
      "mrconvert: \u001b[01;31m[ERROR] output file \"/home/a1/Desktop/Projects/forkx/MDD_nii/277/mri/wm.mif\" already exists (use -force option to force overwrite)\u001b[0m\n",
      "mrconvert: \u001b[01;31m[ERROR] error creating image \"/home/a1/Desktop/Projects/forkx/MDD_nii/277/mri/wm.mif\"\u001b[0m\n",
      "mrconvert: [ 29%] uncompressing image \"/home/a1/Desktop/Projects/forkx/MDD_nii/282/mri/wm_bin.nii.gz\"...\u001b[0K\u001b[?7h\u001b[?7l"
     ]
    },
    {
     "name": "stdout",
     "output_type": "stream",
     "text": [
      "Processing sub-264\n",
      "not created\n",
      "Error running BET: Command '['tckgen', '/home/a1/Desktop/Projects/forkx/MDD_nii/sub-264/dwi/sub-264_fod.mif', '/home/a1/Desktop/Projects/forkx/MDD_nii/sub-264/streamline/sub-264_streamline.tck', '-seed_image', '/home/a1/Desktop/Projects/forkx/MDD_nii/264/mri/wm.mif', '-backtrack', '-seed_unidirectional', '-angle', '45', '-nthreads', '8', '-maxlength', '250']' returned non-zero exit status 1.\n",
      "Processing sub-275\n",
      "Error running BET: Command '['mrconvert', '/home/a1/Desktop/Projects/forkx/MDD_nii/275/mri/wm_bin.nii.gz', '/home/a1/Desktop/Projects/forkx/MDD_nii/275/mri/wm.mif']' returned non-zero exit status 1.\n",
      "Processing sub-277\n",
      "Error running BET: Command '['mrconvert', '/home/a1/Desktop/Projects/forkx/MDD_nii/277/mri/wm_bin.nii.gz', '/home/a1/Desktop/Projects/forkx/MDD_nii/277/mri/wm.mif']' returned non-zero exit status 1.\n",
      "Processing sub-282\n",
      "Error running BET: Command '['mrconvert', '/home/a1/Desktop/Projects/forkx/MDD_nii/282/mri/wm_bin.nii.gz', '/home/a1/Desktop/Projects/forkx/MDD_nii/282/mri/wm.mif']' returned non-zero exit status 1.\n",
      "Processing sub-283\n",
      "Error running BET: Command '['mrconvert', '/home/a1/Desktop/Projects/forkx/MDD_nii/283/mri/wm_bin.nii.gz', '/home/a1/Desktop/Projects/forkx/MDD_nii/283/mri/wm.mif']' returned non-zero exit status 1.\n",
      "Processing sub-294\n",
      "Error running BET: Command '['mrconvert', '/home/a1/Desktop/Projects/forkx/MDD_nii/294/mri/wm_bin.nii.gz', '/home/a1/Desktop/Projects/forkx/MDD_nii/294/mri/wm.mif']' returned non-zero exit status 1.\n",
      "Processing sub-318\n",
      "Error running BET: Command '['mrconvert', '/home/a1/Desktop/Projects/forkx/MDD_nii/318/mri/wm_bin.nii.gz', '/home/a1/Desktop/Projects/forkx/MDD_nii/318/mri/wm.mif']' returned non-zero exit status 1.\n",
      "Processing sub-329\n",
      "Error running BET: Command '['mrconvert', '/home/a1/Desktop/Projects/forkx/MDD_nii/329/mri/wm_bin.nii.gz', '/home/a1/Desktop/Projects/forkx/MDD_nii/329/mri/wm.mif']' returned non-zero exit status 1.\n"
     ]
    },
    {
     "name": "stderr",
     "output_type": "stream",
     "text": [
      "mrconvert: [100%] uncompressing image \"/home/a1/Desktop/Projects/forkx/MDD_nii/282/mri/wm_bin.nii.gz\"\u001b[0K[0K\u001b[?7h\u001b[?7l\n",
      "mrconvert: \u001b[01;31m[ERROR] output file \"/home/a1/Desktop/Projects/forkx/MDD_nii/282/mri/wm.mif\" already exists (use -force option to force overwrite)\u001b[0m\n",
      "mrconvert: \u001b[01;31m[ERROR] error creating image \"/home/a1/Desktop/Projects/forkx/MDD_nii/282/mri/wm.mif\"\u001b[0m\n",
      "mrconvert: [100%] uncompressing image \"/home/a1/Desktop/Projects/forkx/MDD_nii/283/mri/wm_bin.nii.gz\"\u001b[0K[0K\u001b[?7h\u001b[?7l\n",
      "mrconvert: \u001b[01;31m[ERROR] output file \"/home/a1/Desktop/Projects/forkx/MDD_nii/283/mri/wm.mif\" already exists (use -force option to force overwrite)\u001b[0m\n",
      "mrconvert: \u001b[01;31m[ERROR] error creating image \"/home/a1/Desktop/Projects/forkx/MDD_nii/283/mri/wm.mif\"\u001b[0m\n",
      "mrconvert: [100%] uncompressing image \"/home/a1/Desktop/Projects/forkx/MDD_nii/294/mri/wm_bin.nii.gz\"\u001b[0K[0K\u001b[?7h\u001b[?7l\n",
      "mrconvert: \u001b[01;31m[ERROR] output file \"/home/a1/Desktop/Projects/forkx/MDD_nii/294/mri/wm.mif\" already exists (use -force option to force overwrite)\u001b[0m\n",
      "mrconvert: \u001b[01;31m[ERROR] error creating image \"/home/a1/Desktop/Projects/forkx/MDD_nii/294/mri/wm.mif\"\u001b[0m\n",
      "mrconvert: [100%] uncompressing image \"/home/a1/Desktop/Projects/forkx/MDD_nii/318/mri/wm_bin.nii.gz\"\u001b[0K[0K\u001b[?7h\u001b[?7l\n",
      "mrconvert: \u001b[01;31m[ERROR] output file \"/home/a1/Desktop/Projects/forkx/MDD_nii/318/mri/wm.mif\" already exists (use -force option to force overwrite)\u001b[0m\n",
      "mrconvert: \u001b[01;31m[ERROR] error creating image \"/home/a1/Desktop/Projects/forkx/MDD_nii/318/mri/wm.mif\"\u001b[0m\n",
      "mrconvert: [100%] uncompressing image \"/home/a1/Desktop/Projects/forkx/MDD_nii/329/mri/wm_bin.nii.gz\"\u001b[0K[0K\u001b[?7h\u001b[?7l\n",
      "mrconvert: \u001b[01;31m[ERROR] output file \"/home/a1/Desktop/Projects/forkx/MDD_nii/329/mri/wm.mif\" already exists (use -force option to force overwrite)\u001b[0m\n",
      "mrconvert: \u001b[01;31m[ERROR] error creating image \"/home/a1/Desktop/Projects/forkx/MDD_nii/329/mri/wm.mif\"\u001b[0m\n"
     ]
    }
   ],
   "source": [
    "import os\n",
    "import subprocess\n",
    "\n",
    "# Set up FSL environment\n",
    "fsl_path = \"/home/a1/fsl\"\n",
    "os.environ[\"FSLDIR\"] = fsl_path\n",
    "os.environ[\"PATH\"] += os.pathsep + os.path.join(fsl_path, \"bin\")\n",
    "os.environ[\"FSLOUTPUTTYPE\"] = \"NIFTI_GZ\"\n",
    "\n",
    "# Define base directory where the BIDS data is stored\n",
    "BASE_DIR = \"/home/a1/Desktop/Projects/forkx/MDD_nii\"\n",
    "FREE_DIR = \"/home/a1/Desktop/Projects/forkx/MDD_nii\"\n",
    "# Path to the list of subjects file\n",
    "SUBJECT_LIST = \"/home/a1/Desktop/Projects/code/mdd_list.txt\"\n",
    "\n",
    "# Read the list of subjects\n",
    "with open(SUBJECT_LIST, 'r') as file:\n",
    "    subjects = file.read().splitlines()\n",
    "\n",
    "# Loop over each subject in the list\n",
    "for SUBJ in subjects:\n",
    "    SUBJ_ID = f\"sub-{SUBJ}\"\n",
    "    print(f\"Processing {SUBJ_ID}\")\n",
    "\n",
    "    # Define subject directory\n",
    "    SUBJ_DIR = os.path.join(BASE_DIR, SUBJ_ID)\n",
    "\n",
    "    # Define file paths\n",
    "    t1_fname = os.path.join(SUBJ_DIR, 'dwi', f\"{SUBJ_ID}_brainmask_in_space.nii.gz\")\n",
    "    label_fname = os.path.join(FREE_DIR, f\"{SUBJ}\",\"mri\", \"wm_bin.nii.gz\")\n",
    "    MAT = os.path.join(SUBJ_DIR, 'dwi', f\"{SUBJ_ID}_brainmask_to_dwi.mat\")\n",
    "    BVAL = os.path.join(SUBJ_DIR, 'dwi', f\"{SUBJ_ID}_dwi.bval\")\n",
    "    BVEC = os.path.join(SUBJ_DIR, 'dwi', f\"{SUBJ_ID}_dwi.bvec\")\n",
    "    WM = os.path.join(FREE_DIR, f\"{SUBJ}\",\"mri\", \"wm_in_dwi.nii.gz\")\n",
    "    EDDY_IMAGE = os.path.join(SUBJ_DIR, 'dwi', f\"{SUBJ_ID}_dwi_brain.nii.gz\")\n",
    "    OUT=os.path.join(SUBJ_DIR, 'dwi', f\"{SUBJ_ID}_b0_brain_in_MNI.nii.gz\")\n",
    "    WM_bin = os.path.join(FREE_DIR, f\"{SUBJ}\",\"mri\", \"wm_bin.nii.gz\")\n",
    "    WM_MIF = os.path.join(FREE_DIR, f\"{SUBJ}\",\"mri\", \"wm.mif\")\n",
    "    B0=os.path.join(SUBJ_DIR, 'dwi', f\"{SUBJ_ID}_b0.nii.gz\")\n",
    "    mean_B0=os.path.join(SUBJ_DIR, 'dwi', f\"{SUBJ_ID}_b0_mean.nii.gz\")\n",
    "    TEM='/home/a1/Desktop/Projects/template/MNI152_T1_2mm_brain.nii.gz'\n",
    "    eddy_OUTPUT=os.path.join(SUBJ_DIR, 'dwi', f\"{SUBJ_ID}_dwi_in_MNI.nii.gz\")\n",
    "    B0_in_MNI=os.path.join(SUBJ_DIR, 'dwi', f\"{SUBJ_ID}_b0_brain_in_MNI.nii.gz1Warp.nii.gz\") \n",
    "    TransMAT=os.path.join(SUBJ_DIR, 'dwi', f\"{SUBJ_ID}_b0_brain_in_MNI.nii.gz0GenericAffine.mat\") \n",
    "    MRTIX3_DWI = os.path.join(SUBJ_DIR, 'dwi', f\"{SUBJ_ID}_dwi.mif\") \n",
    "    fOD = os.path.join(SUBJ_DIR, 'dwi', f\"{SUBJ_ID}_fod.mif\") \n",
    "    reponsetxt=os.path.join(SUBJ_DIR, 'dwi', f\"{SUBJ_ID}_response_wm.txt\") \n",
    "    streamlines=os.path.join(SUBJ_DIR, 'streamline', f\"{SUBJ_ID}_streamline.tck\") \n",
    "    # Run BET to extract brain mask\n",
    "    mrconvert = ['mrconvert',EDDY_IMAGE,'-fslgrad',BVEC,BVAL,MRTIX3_DWI]\n",
    "    try:\n",
    "        subprocess.run(mrconvert, check=True)\n",
    "    except subprocess.CalledProcessError as e:\n",
    "        print(f\"Error running BET: {e}\")\n",
    "        continue\n",
    "\n",
    "\n",
    "\n",
    " # Run BET to extract brain mask\n",
    "    dwi2response = ['dwi2response','tournier',MRTIX3_DWI,reponsetxt]\n",
    "    try:\n",
    "        subprocess.run(dwi2response, check=True)\n",
    "    except subprocess.CalledProcessError as e:\n",
    "        print(f\"Error running BET: {e}\")\n",
    "        continue\n",
    "\n",
    "\n",
    " # Run BET to extract brain mask\n",
    "    dwi2fod = ['dwi2fod','csd',MRTIX3_DWI,reponsetxt, fOD]\n",
    "    try:\n",
    "        subprocess.run(dwi2fod, check=True)\n",
    "    except subprocess.CalledProcessError as e:\n",
    "        print(f\"Error running BET: {e}\")\n",
    "        continue\n",
    "    \n",
    "    \n",
    " # Run BET to extract brain mask\n",
    "    mrconvert = ['mrconvert',WM_bin,WM_MIF]\n",
    "    try:\n",
    "        subprocess.run(mrconvert, check=True)\n",
    "    except subprocess.CalledProcessError as e:\n",
    "        print(f\"Error running BET: {e}\")\n",
    "        continue\n",
    "\n",
    "    \n",
    "    folder_path=os.path.join(SUBJ_DIR, 'streamline')\n",
    "    if not os.path.exists(folder_path):\n",
    "        os.makedirs(folder_path)\n",
    "        print(f\"ddd'{folder_path}' created\")\n",
    "    else:\n",
    "        print(\"not created\")\n",
    "\n",
    "\n",
    " # Run BET to extract brain mask\n",
    "    tckgen = ['tckgen',fOD,streamlines,'-seed_image',WM_MIF,'-backtrack', '-seed_unidirectional', '-angle', '45','-nthreads', '8','-maxlength', '250']\n",
    "    try:\n",
    "        subprocess.run(tckgen, check=True)\n",
    "    except subprocess.CalledProcessError as e:\n",
    "        print(f\"Error running BET: {e}\")\n",
    "        continue\n",
    "     # Run BET to extract brain mask\n",
    "    #anttr_cmd = ['antsApplyTransforms','-d','4','-i',EDDY_IMAGE,'-r',TEM,'-o', eddy_OUTPUT,'-t', WARP, '-t', TransMAT, '--float']\n",
    "    #try:\n",
    "     #   subprocess.run(anttr_cmd, check=True)\n",
    "    #except subprocess.CalledProcessError as e:\n",
    "     #   print(f\"Error running BET: {e}\")\n",
    "      #  continue\n",
    "    \n",
    "\n",
    "\n",
    "  #  data, affine, hardi_img = load_nifti(EDDY_IMAGE, return_img=True)\n",
    "   # labels = load_nifti_data(label_fname)\n",
    "   # t1_data = load_nifti_data(t1_fname)\n",
    "   # bvals, bvecs = read_bvals_bvecs(BVAL, BVEC)\n",
    "   # gtab = gradient_table(bvals, bvecs)\n",
    "\n",
    " "
   ]
  },
  {
   "cell_type": "code",
   "execution_count": null,
   "id": "fd410bd4-5e83-4111-85e6-757e6b19b0d9",
   "metadata": {},
   "outputs": [],
   "source": []
  }
 ],
 "metadata": {
  "kernelspec": {
   "display_name": "Python 3 (ipykernel)",
   "language": "python",
   "name": "python3"
  },
  "language_info": {
   "codemirror_mode": {
    "name": "ipython",
    "version": 3
   },
   "file_extension": ".py",
   "mimetype": "text/x-python",
   "name": "python",
   "nbconvert_exporter": "python",
   "pygments_lexer": "ipython3",
   "version": "3.11.9"
  }
 },
 "nbformat": 4,
 "nbformat_minor": 5
}
