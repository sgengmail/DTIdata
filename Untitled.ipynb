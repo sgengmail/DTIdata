{
 "cells": [
  {
   "cell_type": "code",
   "execution_count": null,
   "metadata": {
    "collapsed": true
   },
   "outputs": [],
   "source": [
    "import os\n",
    "parent_dir = '/Volumes/shuang/depression/MDD_nii'\n",
    "\n",
    "for folder_name in os.listdir(parent_dir):\n",
    "    folder_path = os.path.join(parent_dir, folder_name, 'd')\n",
    "    if os.path.isdir(folder_path):\n",
    "        new_name = 'sub-' + folder_name\n",
    "        new_path = os.path.join(parent_dir, new_name)\n",
    "        os.rename(folder_path, new_path)\n",
    "        print(f\"Renamed '{folder_name}' to '{new_name}'\")"
   ]
  }
 ],
 "metadata": {
  "kernelspec": {
   "display_name": "Python 3",
   "language": "python",
   "name": "python3"
  },
  "language_info": {
   "codemirror_mode": {
    "name": "ipython",
    "version": 3
   },
   "file_extension": ".py",
   "mimetype": "text/x-python",
   "name": "python",
   "nbconvert_exporter": "python",
   "pygments_lexer": "ipython3",
   "version": "3.6.3"
  }
 },
 "nbformat": 4,
 "nbformat_minor": 2
}
