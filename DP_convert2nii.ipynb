{
 "cells": [
  {
   "cell_type": "code",
   "execution_count": 1,
   "metadata": {},
   "outputs": [
    {
     "name": "stdout",
     "output_type": "stream",
     "text": [
      "\u001b[33mWARNING: Ignoring invalid distribution -ydicom (/Users/gengshuang/anaconda3/lib/python3.6/site-packages)\u001b[0m\n",
      "\u001b[33mWARNING: Ignoring invalid distribution - (/Users/gengshuang/anaconda3/lib/python3.6/site-packages)\u001b[0m\n",
      "\u001b[33mWARNING: Ignoring invalid distribution -ydicom (/Users/gengshuang/anaconda3/lib/python3.6/site-packages)\u001b[0m\n",
      "\u001b[33mWARNING: Ignoring invalid distribution - (/Users/gengshuang/anaconda3/lib/python3.6/site-packages)\u001b[0m\n",
      "Requirement already satisfied: dcm2niix in ./anaconda3/lib/python3.6/site-packages (1.0.20220715)\n",
      "Requirement already satisfied: miutil[web] in ./anaconda3/lib/python3.6/site-packages (from dcm2niix) (0.10.1)\n",
      "Requirement already satisfied: tqdm>=4.40.0 in ./anaconda3/lib/python3.6/site-packages (from miutil[web]->dcm2niix) (4.61.0)\n",
      "Requirement already satisfied: requests in ./anaconda3/lib/python3.6/site-packages (from miutil[web]->dcm2niix) (2.18.4)\n",
      "Requirement already satisfied: chardet<3.1.0,>=3.0.2 in ./anaconda3/lib/python3.6/site-packages (from requests->miutil[web]->dcm2niix) (3.0.4)\n",
      "Requirement already satisfied: idna<2.7,>=2.5 in ./anaconda3/lib/python3.6/site-packages (from requests->miutil[web]->dcm2niix) (2.6)\n",
      "Requirement already satisfied: urllib3<1.23,>=1.21.1 in ./anaconda3/lib/python3.6/site-packages (from requests->miutil[web]->dcm2niix) (1.22)\n",
      "Requirement already satisfied: certifi>=2017.4.17 in ./anaconda3/lib/python3.6/site-packages (from requests->miutil[web]->dcm2niix) (2018.11.29)\n",
      "\u001b[33mWARNING: Ignoring invalid distribution -ydicom (/Users/gengshuang/anaconda3/lib/python3.6/site-packages)\u001b[0m\n",
      "\u001b[33mWARNING: Ignoring invalid distribution - (/Users/gengshuang/anaconda3/lib/python3.6/site-packages)\u001b[0m\n",
      "\u001b[33mWARNING: Ignoring invalid distribution -ydicom (/Users/gengshuang/anaconda3/lib/python3.6/site-packages)\u001b[0m\n",
      "\u001b[33mWARNING: Ignoring invalid distribution - (/Users/gengshuang/anaconda3/lib/python3.6/site-packages)\u001b[0m\n",
      "\u001b[33mWARNING: Ignoring invalid distribution -ydicom (/Users/gengshuang/anaconda3/lib/python3.6/site-packages)\u001b[0m\n",
      "\u001b[33mWARNING: Ignoring invalid distribution - (/Users/gengshuang/anaconda3/lib/python3.6/site-packages)\u001b[0m\n"
     ]
    }
   ],
   "source": [
    "!pip install dcm2niix"
   ]
  },
  {
   "cell_type": "code",
   "execution_count": 4,
   "metadata": {},
   "outputs": [
    {
     "ename": "PermissionError",
     "evalue": "[Errno 13] Permission denied: '/Volumns'",
     "output_type": "error",
     "traceback": [
      "\u001b[0;31m---------------------------------------------------------------------------\u001b[0m",
      "\u001b[0;31mPermissionError\u001b[0m                           Traceback (most recent call last)",
      "\u001b[0;32m<ipython-input-4-136627903db5>\u001b[0m in \u001b[0;36m<module>\u001b[0;34m()\u001b[0m\n\u001b[1;32m      5\u001b[0m \u001b[0;32mimport\u001b[0m \u001b[0mos\u001b[0m\u001b[0;34m\u001b[0m\u001b[0m\n\u001b[1;32m      6\u001b[0m \u001b[0;31m# Ensure the target directory exists\u001b[0m\u001b[0;34m\u001b[0m\u001b[0;34m\u001b[0m\u001b[0m\n\u001b[0;32m----> 7\u001b[0;31m \u001b[0mos\u001b[0m\u001b[0;34m.\u001b[0m\u001b[0mmakedirs\u001b[0m\u001b[0;34m(\u001b[0m\u001b[0mtarget_dir\u001b[0m\u001b[0;34m,\u001b[0m \u001b[0mexist_ok\u001b[0m\u001b[0;34m=\u001b[0m\u001b[0;32mTrue\u001b[0m\u001b[0;34m)\u001b[0m\u001b[0;34m\u001b[0m\u001b[0m\n\u001b[0m\u001b[1;32m      8\u001b[0m \u001b[0;34m\u001b[0m\u001b[0m\n\u001b[1;32m      9\u001b[0m \u001b[0;31m# Walk through the source directory\u001b[0m\u001b[0;34m\u001b[0m\u001b[0;34m\u001b[0m\u001b[0m\n",
      "\u001b[0;32m~/anaconda3/lib/python3.6/os.py\u001b[0m in \u001b[0;36mmakedirs\u001b[0;34m(name, mode, exist_ok)\u001b[0m\n\u001b[1;32m    208\u001b[0m     \u001b[0;32mif\u001b[0m \u001b[0mhead\u001b[0m \u001b[0;32mand\u001b[0m \u001b[0mtail\u001b[0m \u001b[0;32mand\u001b[0m \u001b[0;32mnot\u001b[0m \u001b[0mpath\u001b[0m\u001b[0;34m.\u001b[0m\u001b[0mexists\u001b[0m\u001b[0;34m(\u001b[0m\u001b[0mhead\u001b[0m\u001b[0;34m)\u001b[0m\u001b[0;34m:\u001b[0m\u001b[0;34m\u001b[0m\u001b[0m\n\u001b[1;32m    209\u001b[0m         \u001b[0;32mtry\u001b[0m\u001b[0;34m:\u001b[0m\u001b[0;34m\u001b[0m\u001b[0m\n\u001b[0;32m--> 210\u001b[0;31m             \u001b[0mmakedirs\u001b[0m\u001b[0;34m(\u001b[0m\u001b[0mhead\u001b[0m\u001b[0;34m,\u001b[0m \u001b[0mmode\u001b[0m\u001b[0;34m,\u001b[0m \u001b[0mexist_ok\u001b[0m\u001b[0;34m)\u001b[0m\u001b[0;34m\u001b[0m\u001b[0m\n\u001b[0m\u001b[1;32m    211\u001b[0m         \u001b[0;32mexcept\u001b[0m \u001b[0mFileExistsError\u001b[0m\u001b[0;34m:\u001b[0m\u001b[0;34m\u001b[0m\u001b[0m\n\u001b[1;32m    212\u001b[0m             \u001b[0;31m# Defeats race condition when another thread created the path\u001b[0m\u001b[0;34m\u001b[0m\u001b[0;34m\u001b[0m\u001b[0m\n",
      "\u001b[0;32m~/anaconda3/lib/python3.6/os.py\u001b[0m in \u001b[0;36mmakedirs\u001b[0;34m(name, mode, exist_ok)\u001b[0m\n\u001b[1;32m    208\u001b[0m     \u001b[0;32mif\u001b[0m \u001b[0mhead\u001b[0m \u001b[0;32mand\u001b[0m \u001b[0mtail\u001b[0m \u001b[0;32mand\u001b[0m \u001b[0;32mnot\u001b[0m \u001b[0mpath\u001b[0m\u001b[0;34m.\u001b[0m\u001b[0mexists\u001b[0m\u001b[0;34m(\u001b[0m\u001b[0mhead\u001b[0m\u001b[0;34m)\u001b[0m\u001b[0;34m:\u001b[0m\u001b[0;34m\u001b[0m\u001b[0m\n\u001b[1;32m    209\u001b[0m         \u001b[0;32mtry\u001b[0m\u001b[0;34m:\u001b[0m\u001b[0;34m\u001b[0m\u001b[0m\n\u001b[0;32m--> 210\u001b[0;31m             \u001b[0mmakedirs\u001b[0m\u001b[0;34m(\u001b[0m\u001b[0mhead\u001b[0m\u001b[0;34m,\u001b[0m \u001b[0mmode\u001b[0m\u001b[0;34m,\u001b[0m \u001b[0mexist_ok\u001b[0m\u001b[0;34m)\u001b[0m\u001b[0;34m\u001b[0m\u001b[0m\n\u001b[0m\u001b[1;32m    211\u001b[0m         \u001b[0;32mexcept\u001b[0m \u001b[0mFileExistsError\u001b[0m\u001b[0;34m:\u001b[0m\u001b[0;34m\u001b[0m\u001b[0m\n\u001b[1;32m    212\u001b[0m             \u001b[0;31m# Defeats race condition when another thread created the path\u001b[0m\u001b[0;34m\u001b[0m\u001b[0;34m\u001b[0m\u001b[0m\n",
      "\u001b[0;32m~/anaconda3/lib/python3.6/os.py\u001b[0m in \u001b[0;36mmakedirs\u001b[0;34m(name, mode, exist_ok)\u001b[0m\n\u001b[1;32m    208\u001b[0m     \u001b[0;32mif\u001b[0m \u001b[0mhead\u001b[0m \u001b[0;32mand\u001b[0m \u001b[0mtail\u001b[0m \u001b[0;32mand\u001b[0m \u001b[0;32mnot\u001b[0m \u001b[0mpath\u001b[0m\u001b[0;34m.\u001b[0m\u001b[0mexists\u001b[0m\u001b[0;34m(\u001b[0m\u001b[0mhead\u001b[0m\u001b[0;34m)\u001b[0m\u001b[0;34m:\u001b[0m\u001b[0;34m\u001b[0m\u001b[0m\n\u001b[1;32m    209\u001b[0m         \u001b[0;32mtry\u001b[0m\u001b[0;34m:\u001b[0m\u001b[0;34m\u001b[0m\u001b[0m\n\u001b[0;32m--> 210\u001b[0;31m             \u001b[0mmakedirs\u001b[0m\u001b[0;34m(\u001b[0m\u001b[0mhead\u001b[0m\u001b[0;34m,\u001b[0m \u001b[0mmode\u001b[0m\u001b[0;34m,\u001b[0m \u001b[0mexist_ok\u001b[0m\u001b[0;34m)\u001b[0m\u001b[0;34m\u001b[0m\u001b[0m\n\u001b[0m\u001b[1;32m    211\u001b[0m         \u001b[0;32mexcept\u001b[0m \u001b[0mFileExistsError\u001b[0m\u001b[0;34m:\u001b[0m\u001b[0;34m\u001b[0m\u001b[0m\n\u001b[1;32m    212\u001b[0m             \u001b[0;31m# Defeats race condition when another thread created the path\u001b[0m\u001b[0;34m\u001b[0m\u001b[0;34m\u001b[0m\u001b[0m\n",
      "\u001b[0;32m~/anaconda3/lib/python3.6/os.py\u001b[0m in \u001b[0;36mmakedirs\u001b[0;34m(name, mode, exist_ok)\u001b[0m\n\u001b[1;32m    218\u001b[0m             \u001b[0;32mreturn\u001b[0m\u001b[0;34m\u001b[0m\u001b[0m\n\u001b[1;32m    219\u001b[0m     \u001b[0;32mtry\u001b[0m\u001b[0;34m:\u001b[0m\u001b[0;34m\u001b[0m\u001b[0m\n\u001b[0;32m--> 220\u001b[0;31m         \u001b[0mmkdir\u001b[0m\u001b[0;34m(\u001b[0m\u001b[0mname\u001b[0m\u001b[0;34m,\u001b[0m \u001b[0mmode\u001b[0m\u001b[0;34m)\u001b[0m\u001b[0;34m\u001b[0m\u001b[0m\n\u001b[0m\u001b[1;32m    221\u001b[0m     \u001b[0;32mexcept\u001b[0m \u001b[0mOSError\u001b[0m\u001b[0;34m:\u001b[0m\u001b[0;34m\u001b[0m\u001b[0m\n\u001b[1;32m    222\u001b[0m         \u001b[0;31m# Cannot rely on checking for EEXIST, since the operating system\u001b[0m\u001b[0;34m\u001b[0m\u001b[0;34m\u001b[0m\u001b[0m\n",
      "\u001b[0;31mPermissionError\u001b[0m: [Errno 13] Permission denied: '/Volumns'"
     ]
    }
   ],
   "source": [
    "source_dir = '/Volumns/shuang/depression/HC'\n",
    "target_dir = '/Volumns/shuang/depression/HC_nii'\n",
    "\n",
    "import subprocess\n",
    "import os\n",
    "# Ensure the target directory exists\n",
    "os.makedirs(target_dir, exist_ok=True)\n",
    "\n",
    "# Walk through the source directory\n",
    "for root, dirs, files in os.walk(source_dir):\n",
    "    for dir in dirs:\n",
    "        subject_dir = os.path.join(root, dir)\n",
    "        print(subject_dir)\n",
    "        print()\n",
    "        #subprocess.run(['dcm2niix', '-o', 'output_directory', '-f', '%p_%s', 'input_directory'])"
   ]
  },
  {
   "cell_type": "code",
   "execution_count": 10,
   "metadata": {
    "collapsed": true
   },
   "outputs": [],
   "source": [
    "# 定义目标网页的URL\n",
    "url = \"https://tv.bcbl.eu/\"\n",
    "\n",
    "# 发送HTTP GET请求并获取网页内容\n",
    "response = requests.get(url)\n",
    "html_content = response.content\n",
    "\n",
    "# 使用BeautifulSoup解析HTML内容\n",
    "soup = BeautifulSoup(html_content, \"html.parser\")\n",
    "# 查找视频标签（例如<video>、<iframe>等）并提取视频链接\n",
    "video_tags = soup.find_all(\"video\")  # 可根据实际情况修改标签名\n",
    "video_links = [tag[\"src\"] for tag in video_tags]\n",
    "\n",
    "# 下载视频文件\n",
    "for link in video_links:\n",
    "    file_name = link.split(\"/\")[-1]  # 提取链接中的文件名\n",
    "    urllib.request.urlretrieve(link, file_name)\n",
    "    print(f\"下载视频文件 {file_name} 完成\")"
   ]
  },
  {
   "cell_type": "code",
   "execution_count": 9,
   "metadata": {},
   "outputs": [
    {
     "name": "stdout",
     "output_type": "stream",
     "text": [
      "https://tv.bcbl.eu/#!/player/20\n"
     ]
    }
   ],
   "source": [
    "print(url)"
   ]
  },
  {
   "cell_type": "code",
   "execution_count": 12,
   "metadata": {},
   "outputs": [
    {
     "name": "stdout",
     "output_type": "stream",
     "text": [
      "\n",
      "<!DOCTYPE doctype html>\n",
      "\n",
      "<html class=\"no-js\" lang=\"en\">\n",
      "<head>\n",
      "<meta content=\"text/html; charset=utf-8\" http-equiv=\"Content-Type\"/>\n",
      "<meta content=\"IE=edge\" http-equiv=\"X-UA-Compatible\"/>\n",
      "<title>BCBL TV  - Secure video streaming service</title>\n",
      "<meta content=\"width=device-width, initial-scale=1\" name=\"viewport\"/>\n",
      "<style type=\"text/css\">\n",
      "\t[ng\\:cloak], [ng-cloak], [data-ng-cloak], [x-ng-cloak], .ng-cloak, .x-ng-cloak {\n",
      "\t\tdisplay: none !important;\n",
      "\t}\n",
      "\t</style>\n",
      "<link href=\"/assets/vendor-c17b01d9566b81c0c21592129cdd1535.css\" rel=\"stylesheet\"/>\n",
      "<link href=\"/assets/application-5f070a230096a9e132c601f5fe586e3d.css\" rel=\"stylesheet\"/>\n",
      "<link href=\"/file/serve/48.png\" rel=\"icon\" type=\"image/x-icon\"/>\n",
      "<script type=\"text/javascript\">\n",
      "\t\twindow.contextPath = \"\";\n",
      "\t</script>\n",
      "</head>\n",
      "<body>\n",
      "<style>.login-page{ background-image: url(/file/serve/43.jpg);}</style>\n",
      "<div class=\"page-container login-page\">\n",
      "<div class=\"ng-cloak\" id=\"login\" ng-app=\"streama.auth\" ng-controller=\"authController\">\n",
      "<img alt=\"BCBL TV  - Secure video streaming service Logo\" class=\"auth-logo\" src=\"/file/serve/49.png\"/>\n",
      "<div class=\"inner\">\n",
      "<form action=\"/login/authenticate\" autocomplete=\"off\" class=\"cssform form-horizontal\" id=\"loginForm\" method=\"POST\">\n",
      "<div class=\"form-group\">\n",
      "<div class=\"col-lg-12\">\n",
      "<input class=\"form-control\" name=\"username\" placeholder=\"{{'LOGIN.USERNAME' | translate}}\" type=\"text\"/>\n",
      "</div>\n",
      "</div>\n",
      "<div class=\"form-group\">\n",
      "<div class=\"col-lg-12\">\n",
      "<input class=\"form-control\" name=\"password\" placeholder=\"{{'LOGIN.PASSWORD' | translate}}\" type=\"password\"/>\n",
      "</div>\n",
      "</div>\n",
      "<span>\n",
      "<input checked=\"checked\" id=\"remember_me\" name=\"remember_me\" style=\"display: none;\" type=\"checkbox\">\n",
      "<button class=\"btn btn-primary pull-right\">{{'LOGIN.SUBMIT' | translate}}   <i class=\"ion-chevron-right\"></i></button></input></span>\n",
      "</form>\n",
      "</div>\n",
      "</div>\n",
      "<div class=\"page-container-push\"></div>\n",
      "</div>\n",
      "<div class=\"footer\" ng-if=\"isCurrentState('dash')\">\n",
      "<div ng-bind-html=\"$root.getSetting('footer-content').parsedValue | trustHtml\"></div>\n",
      "</div>\n",
      "<script src=\"/assets/vendor-469de78f6e466e5d0c50420abd29f3c6.js\" type=\"text/javascript\"></script>\n",
      "<script src=\"/assets/streama/streama.translations-f1e58ef133b73e0d0e417b20c36f0241.js\" type=\"text/javascript\"></script>\n",
      "<script type=\"text/javascript\">\n",
      "    <!--\n",
      "    (function() {\n",
      "      document.forms['loginForm'].elements['username'].focus();\n",
      "    })();\n",
      "\n",
      "    angular.module('streama.auth', ['streama.translations', 'LocalStorageModule']);\n",
      "\n",
      "    angular.module('streama.auth').controller('authController', function ($translate, localStorageService) {\n",
      "      localStorageService.remove('currentProfile');\n",
      "      var sessionExpired = false;\n",
      "      if(sessionExpired){\n",
      "        alertify.log($translate.instant('LOGIN.SESSION_EXPIRED'));\n",
      "      }\n",
      "    })\n",
      "    // -->\n",
      "  </script>\n",
      "</body>\n",
      "</html>\n",
      "\n"
     ]
    }
   ],
   "source": [
    "print(soup)"
   ]
  },
  {
   "cell_type": "code",
   "execution_count": null,
   "metadata": {
    "collapsed": true
   },
   "outputs": [],
   "source": []
  }
 ],
 "metadata": {
  "kernelspec": {
   "display_name": "Python 3",
   "language": "python",
   "name": "python3"
  },
  "language_info": {
   "codemirror_mode": {
    "name": "ipython",
    "version": 3
   },
   "file_extension": ".py",
   "mimetype": "text/x-python",
   "name": "python",
   "nbconvert_exporter": "python",
   "pygments_lexer": "ipython3",
   "version": "3.6.3"
  }
 },
 "nbformat": 4,
 "nbformat_minor": 2
}
