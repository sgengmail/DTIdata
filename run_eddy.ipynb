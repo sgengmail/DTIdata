{
 "cells": [
  {
   "cell_type": "code",
   "execution_count": null,
   "id": "11c5de02-5e6a-423c-90e5-745da34f4888",
   "metadata": {},
   "outputs": [],
   "source": []
  },
  {
   "cell_type": "code",
   "execution_count": null,
   "id": "03cf7702-6ceb-4239-9e83-b1354fbc2663",
   "metadata": {},
   "outputs": [
    {
     "name": "stdout",
     "output_type": "stream",
     "text": [
      "Processing sub-060\n"
     ]
    },
    {
     "name": "stderr",
     "output_type": "stream",
     "text": [
      "Warning: An input intended to be a single 3D volume has multiple timepoints. Input will be truncated to first volume, but this functionality is deprecated and will be removed in a future release.\n"
     ]
    },
    {
     "name": "stdout",
     "output_type": "stream",
     "text": [
      "\n",
      "Warning: In a future release the first argument will have to be \"diffusion\" when using eddy on diffusion data, i.e.\n",
      "eddy diffusion --imain='my_ima' --acqp='my_acqp' ...\n",
      "\n",
      "Warning: Writing of individual text files will be discontinued in favour of a single .json file in future versions\n",
      "\n",
      "sub-060 processing completed.\n",
      "Processing sub-065\n"
     ]
    },
    {
     "name": "stderr",
     "output_type": "stream",
     "text": [
      "Warning: An input intended to be a single 3D volume has multiple timepoints. Input will be truncated to first volume, but this functionality is deprecated and will be removed in a future release.\n"
     ]
    },
    {
     "name": "stdout",
     "output_type": "stream",
     "text": [
      "\n",
      "Warning: In a future release the first argument will have to be \"diffusion\" when using eddy on diffusion data, i.e.\n",
      "eddy diffusion --imain='my_ima' --acqp='my_acqp' ...\n",
      "\n",
      "Warning: Writing of individual text files will be discontinued in favour of a single .json file in future versions\n",
      "\n",
      "sub-065 processing completed.\n",
      "Processing sub-075\n"
     ]
    },
    {
     "name": "stderr",
     "output_type": "stream",
     "text": [
      "Warning: An input intended to be a single 3D volume has multiple timepoints. Input will be truncated to first volume, but this functionality is deprecated and will be removed in a future release.\n"
     ]
    },
    {
     "name": "stdout",
     "output_type": "stream",
     "text": [
      "\n",
      "Warning: In a future release the first argument will have to be \"diffusion\" when using eddy on diffusion data, i.e.\n",
      "eddy diffusion --imain='my_ima' --acqp='my_acqp' ...\n",
      "\n",
      "Warning: Writing of individual text files will be discontinued in favour of a single .json file in future versions\n",
      "\n"
     ]
    }
   ],
   "source": [
    "import os\n",
    "import subprocess\n",
    "\n",
    "# Set up FSL environment\n",
    "fsl_path = \"/usr/local/fsl\"\n",
    "os.environ[\"FSLDIR\"] = fsl_path\n",
    "os.environ[\"PATH\"] += os.pathsep + os.path.join(fsl_path, \"bin\")\n",
    "os.environ[\"FSLOUTPUTTYPE\"] = \"NIFTI_GZ\"\n",
    "\n",
    "# Define base directory where the BIDS data is stored\n",
    "BASE_DIR = \"/Volumes/datadrive/test/forkx/MDD_nii\"\n",
    "\n",
    "# Path to the list of subjects file\n",
    "SUBJECT_LIST = \"/Users/gengshuang/Desktop/depression/code/lists.txt\"\n",
    "\n",
    "# Define constants for acqp and index files\n",
    "ACQP = \"/Users/gengshuang/Desktop/depression/code/acqparams.txt\"\n",
    "INDEX = \"/Users/gengshuang/Desktop/depression/code/index.txt\"\n",
    "\n",
    "# Read the list of subjects\n",
    "with open(SUBJECT_LIST, 'r') as file:\n",
    "    subjects = file.read().splitlines()\n",
    "\n",
    "# Loop over each subject in the list\n",
    "for SUBJ_ID in subjects:\n",
    "    SUBJ_ID = f\"sub-{SUBJ_ID}\"\n",
    "    print(f\"Processing {SUBJ_ID}\")\n",
    "\n",
    "    # Define subject directory\n",
    "    SUBJ_DIR = os.path.join(BASE_DIR, SUBJ_ID)\n",
    "\n",
    "    # Define file paths\n",
    "    T1w_IMAGE = os.path.join(SUBJ_DIR, 'anat', f\"{SUBJ_ID}_T1w.nii.gz\")\n",
    "    DWI_IMAGE = os.path.join(SUBJ_DIR, 'dwi', f\"{SUBJ_ID}_dwi.nii.gz\")\n",
    "    MASK = os.path.join(SUBJ_DIR, 'anat', f\"{SUBJ_ID}_T1w_brain-mask.nii.gz\")\n",
    "    RESAMPLED_MASK = os.path.join(SUBJ_DIR, 'dwi', f\"{SUBJ_ID}_dwi-resam.nii.gz\")\n",
    "    BVEC = os.path.join(SUBJ_DIR, 'dwi', f\"{SUBJ_ID}_dwi.bvec\")\n",
    "    BVAL = os.path.join(SUBJ_DIR, 'dwi', f\"{SUBJ_ID}_dwi.bval\")\n",
    "    OUTPUT = os.path.join(SUBJ_DIR, 'dwi', f\"{SUBJ_ID}_eddy_corrected\")\n",
    "\n",
    "    # Check if the T1w image exists\n",
    "    if not os.path.exists(T1w_IMAGE):\n",
    "        print(f\"Error: {T1w_IMAGE} does not exist.\")\n",
    "        continue\n",
    "\n",
    "    # Run BET to extract brain mask\n",
    "    bet_cmd = ['bet', T1w_IMAGE, MASK, '-f', '0.2']\n",
    "    try:\n",
    "        subprocess.run(bet_cmd, check=True)\n",
    "    except subprocess.CalledProcessError as e:\n",
    "        print(f\"Error running BET: {e}\")\n",
    "        continue\n",
    "\n",
    "    # Check if the MASK file was created\n",
    "    if not os.path.exists(MASK):\n",
    "        print(f\"Error: {MASK} was not created.\")\n",
    "        continue\n",
    "\n",
    "    # Run FLIRT to resample mask to DWI space\n",
    "    flirt_cmd = ['flirt', '-in', MASK, '-ref', DWI_IMAGE, '-out', RESAMPLED_MASK, '-applyxfm', '-interp', 'nearestneighbour']\n",
    "    try:\n",
    "        subprocess.run(flirt_cmd, check=True)\n",
    "    except subprocess.CalledProcessError as e:\n",
    "        print(f\"Error running FLIRT: {e}\")\n",
    "        continue\n",
    "\n",
    "    # Check if the RESAMPLED_MASK file was created\n",
    "    if not os.path.exists(RESAMPLED_MASK):\n",
    "        print(f\"Error: {RESAMPLED_MASK} was not created.\")\n",
    "        continue\n",
    "\n",
    "    # Run EDdy to correct distortions\n",
    "    eddy_cmd = [\n",
    "        'eddy',\n",
    "        f'--imain={DWI_IMAGE}',\n",
    "        f'--mask={RESAMPLED_MASK}',\n",
    "        f'--acqp={ACQP}',\n",
    "        f'--index={INDEX}',\n",
    "        f'--bvecs={BVEC}',\n",
    "        f'--bvals={BVAL}',\n",
    "        '--repol',\n",
    "        f'--out={OUTPUT}'\n",
    "    ]\n",
    "    try:\n",
    "        subprocess.run(eddy_cmd, check=True)\n",
    "    except subprocess.CalledProcessError as e:\n",
    "        print(f\"Error running EDdy: {e}\")\n",
    "        continue\n",
    "\n",
    "    print(f\"{SUBJ_ID} processing completed.\")\n"
   ]
  }
 ],
 "metadata": {
  "kernelspec": {
   "display_name": "Python 3 (ipykernel)",
   "language": "python",
   "name": "python3"
  },
  "language_info": {
   "codemirror_mode": {
    "name": "ipython",
    "version": 3
   },
   "file_extension": ".py",
   "mimetype": "text/x-python",
   "name": "python",
   "nbconvert_exporter": "python",
   "pygments_lexer": "ipython3",
   "version": "3.12.4"
  }
 },
 "nbformat": 4,
 "nbformat_minor": 5
}
